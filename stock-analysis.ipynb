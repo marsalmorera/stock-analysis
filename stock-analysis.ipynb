{
 "cells": [
  {
   "cell_type": "markdown",
   "metadata": {},
   "source": [
    "<h1 style= \"color:#9370DB;\"> Stock Analysis </h1>"
   ]
  },
  {
   "cell_type": "code",
   "execution_count": 2,
   "metadata": {},
   "outputs": [],
   "source": [
    "# 📚 Libraries \n",
    "import kagglehub\n",
    "import pandas as pd\n",
    "import numpy as np\n",
    "import os\n",
    "\n",
    "# New liabraries. \n",
    "import scipy.stats as st\n",
    "import statsmodels.api as sm\n",
    "import statsmodels.formula.api as smf\n",
    "\n",
    "# 📊 Visualizations\n",
    "import matplotlib.pyplot as plt\n",
    "import seaborn as sns\n",
    "import plotly.express as px\n",
    "import plotly.graph_objects as g\n",
    "\n",
    "# 🤖 Machine Learning\n",
    "from sklearn.model_selection import train_test_split\n",
    "from sklearn.linear_model import LinearRegression\n",
    "from sklearn.metrics import r2_score, mean_squared_error, mean_absolute_error "
   ]
  },
  {
   "cell_type": "markdown",
   "metadata": {},
   "source": [
    "### The Stock Analysis Dataset:\n",
    "\n",
    "\n",
    "**First impressions:**\n",
    "    \n",
    "_____________\n",
    "\n",
    "The **S&P 500** is a stock market index tracking the performance of the largest 500 publicly traded companies listed on U.S. stock exchanges.\n",
    "\n",
    "Investors have long used the S&P 500 as a benchmark for their investments as it tends to signal overall market health. \n",
    "The index is a popular choice for long-term inverstors who wish to watch growth over the coming deacades. \n",
    "\n",
    "The dataset contains: \n",
    "- S&P 500 **Index**: Contains the daily price of the index, representing the overall performance of the 500 companies in the S&P 500.\n",
    "- S&P 500 **Stocks**: Includes the daily stock prices for each company within the index, providing insights into individual stock movements. \n",
    "- S&P 500 **Companies**: Provides detailed information about each company, including metrics such as Name, Sector, Marketcap, Ebitda, Weight.\n",
    "\n",
    "The data types are even: (13 int or float / 13 objects).\n",
    "\n",
    "Our **project goal** is to identify the performance of various sectors in the S&P 500. After reading the [documentation](https://www.kaggle.com/datasets/andrewmvd/sp-500-stocks) we will proceed with the following **strategy**:\n",
    "\n",
    "1. The **target** of our dataset will be `currentprice`, which is the actual price of the stock right now.\n",
    "2. Through **Exploratory Data Analysis** we will identify the features that contribute to this prediction.\n",
    "\n",
    "\n",
    "_____________"
   ]
  },
  {
   "cell_type": "markdown",
   "metadata": {},
   "source": [
    "<h2 style=\"color: #9370DB;\"> 01 | Data Extraction </h2>"
   ]
  },
  {
   "cell_type": "code",
   "execution_count": 3,
   "metadata": {},
   "outputs": [],
   "source": [
    "data = pd.read_csv('sp500_stocks.csv')\n",
    "df = pd.read_csv('sp500_companies.csv')\n",
    "sp = pd.read_csv('sp500_index.csv')"
   ]
  },
  {
   "cell_type": "code",
   "execution_count": 4,
   "metadata": {},
   "outputs": [],
   "source": [
    "# Cleaning columns with snake_case \n",
    "data.columns = [col.lower().replace(\" \", \"_\")for col in data.columns] \n",
    "df.columns = [col.lower().replace(\" \", \"_\")for col in df.columns] \n",
    "sp.columns = [col.lower().replace(\" \", \"_\")for col in sp.columns] "
   ]
  },
  {
   "cell_type": "markdown",
   "metadata": {},
   "source": [
    "<h3 style=\"color: #4169E1;\">1.1 | Exploring the Data </h3>"
   ]
  },
  {
   "cell_type": "code",
   "execution_count": 5,
   "metadata": {},
   "outputs": [
    {
     "data": {
      "text/html": [
       "<div>\n",
       "<style scoped>\n",
       "    .dataframe tbody tr th:only-of-type {\n",
       "        vertical-align: middle;\n",
       "    }\n",
       "\n",
       "    .dataframe tbody tr th {\n",
       "        vertical-align: top;\n",
       "    }\n",
       "\n",
       "    .dataframe thead th {\n",
       "        text-align: right;\n",
       "    }\n",
       "</style>\n",
       "<table border=\"1\" class=\"dataframe\">\n",
       "  <thead>\n",
       "    <tr style=\"text-align: right;\">\n",
       "      <th></th>\n",
       "      <th>date</th>\n",
       "      <th>symbol</th>\n",
       "      <th>adj_close</th>\n",
       "      <th>close</th>\n",
       "      <th>high</th>\n",
       "      <th>low</th>\n",
       "      <th>open</th>\n",
       "      <th>volume</th>\n",
       "    </tr>\n",
       "  </thead>\n",
       "  <tbody>\n",
       "    <tr>\n",
       "      <th>590908</th>\n",
       "      <td>2013-08-05</td>\n",
       "      <td>DTE</td>\n",
       "      <td>41.332310</td>\n",
       "      <td>60.468086</td>\n",
       "      <td>60.757446</td>\n",
       "      <td>60.255318</td>\n",
       "      <td>60.757446</td>\n",
       "      <td>763398.0</td>\n",
       "    </tr>\n",
       "    <tr>\n",
       "      <th>317214</th>\n",
       "      <td>2016-02-19</td>\n",
       "      <td>COF</td>\n",
       "      <td>55.917458</td>\n",
       "      <td>65.730003</td>\n",
       "      <td>65.879997</td>\n",
       "      <td>64.760002</td>\n",
       "      <td>65.500000</td>\n",
       "      <td>2456700.0</td>\n",
       "    </tr>\n",
       "    <tr>\n",
       "      <th>937345</th>\n",
       "      <td>2016-05-17</td>\n",
       "      <td>IR</td>\n",
       "      <td>NaN</td>\n",
       "      <td>NaN</td>\n",
       "      <td>NaN</td>\n",
       "      <td>NaN</td>\n",
       "      <td>NaN</td>\n",
       "      <td>NaN</td>\n",
       "    </tr>\n",
       "  </tbody>\n",
       "</table>\n",
       "</div>"
      ],
      "text/plain": [
       "              date symbol  adj_close      close       high        low  \\\n",
       "590908  2013-08-05    DTE  41.332310  60.468086  60.757446  60.255318   \n",
       "317214  2016-02-19    COF  55.917458  65.730003  65.879997  64.760002   \n",
       "937345  2016-05-17     IR        NaN        NaN        NaN        NaN   \n",
       "\n",
       "             open     volume  \n",
       "590908  60.757446   763398.0  \n",
       "317214  65.500000  2456700.0  \n",
       "937345        NaN        NaN  "
      ]
     },
     "execution_count": 5,
     "metadata": {},
     "output_type": "execute_result"
    }
   ],
   "source": [
    "data.sample(3)"
   ]
  },
  {
   "cell_type": "markdown",
   "metadata": {},
   "source": [
    "### Dataset Description: \n",
    "\n",
    "A brief analysis of each column. \n",
    "- `Date`: The specific date for which the stock date is recorded. \n",
    "- `Symbol`: A unique \"ticker\" code that identifies the company on the stock exchange. \n",
    "- `Adj_close`: The closing price of the stock after adjustments for dividends, splits, or other corporate actions. \n",
    "- `Close`: The unadjusted closing price of the stock on a given date.  \n",
    "- `High`: The highest price at which the stock traded during the day.  \n",
    "- `Low`: The lowest price at which the stock traded during the day. \n",
    "- `Open`: The price at which the stock started trading at the beginning of the day.\n",
    "- `Volume`: The total number of shares traded during the day."
   ]
  },
  {
   "cell_type": "code",
   "execution_count": 6,
   "metadata": {},
   "outputs": [
    {
     "data": {
      "text/html": [
       "<div>\n",
       "<style scoped>\n",
       "    .dataframe tbody tr th:only-of-type {\n",
       "        vertical-align: middle;\n",
       "    }\n",
       "\n",
       "    .dataframe tbody tr th {\n",
       "        vertical-align: top;\n",
       "    }\n",
       "\n",
       "    .dataframe thead th {\n",
       "        text-align: right;\n",
       "    }\n",
       "</style>\n",
       "<table border=\"1\" class=\"dataframe\">\n",
       "  <thead>\n",
       "    <tr style=\"text-align: right;\">\n",
       "      <th></th>\n",
       "      <th>exchange</th>\n",
       "      <th>symbol</th>\n",
       "      <th>shortname</th>\n",
       "      <th>longname</th>\n",
       "      <th>sector</th>\n",
       "      <th>industry</th>\n",
       "      <th>currentprice</th>\n",
       "      <th>marketcap</th>\n",
       "      <th>ebitda</th>\n",
       "      <th>revenuegrowth</th>\n",
       "      <th>city</th>\n",
       "      <th>state</th>\n",
       "      <th>country</th>\n",
       "      <th>fulltimeemployees</th>\n",
       "      <th>longbusinesssummary</th>\n",
       "      <th>weight</th>\n",
       "    </tr>\n",
       "  </thead>\n",
       "  <tbody>\n",
       "    <tr>\n",
       "      <th>155</th>\n",
       "      <td>NYQ</td>\n",
       "      <td>FDX</td>\n",
       "      <td>FedEx Corporation</td>\n",
       "      <td>FedEx Corporation</td>\n",
       "      <td>Industrials</td>\n",
       "      <td>Integrated Freight &amp; Logistics</td>\n",
       "      <td>280.68</td>\n",
       "      <td>68576579584</td>\n",
       "      <td>1.088500e+10</td>\n",
       "      <td>0.139</td>\n",
       "      <td>Memphis</td>\n",
       "      <td>TN</td>\n",
       "      <td>United States</td>\n",
       "      <td>306000.0</td>\n",
       "      <td>FedEx Corporation, together with its subsidiar...</td>\n",
       "      <td>0.001207</td>\n",
       "    </tr>\n",
       "    <tr>\n",
       "      <th>453</th>\n",
       "      <td>NYQ</td>\n",
       "      <td>CAG</td>\n",
       "      <td>ConAgra Brands, Inc.</td>\n",
       "      <td>Conagra Brands, Inc.</td>\n",
       "      <td>Consumer Defensive</td>\n",
       "      <td>Packaged Foods</td>\n",
       "      <td>27.24</td>\n",
       "      <td>13000915968</td>\n",
       "      <td>2.239500e+09</td>\n",
       "      <td>-0.038</td>\n",
       "      <td>Chicago</td>\n",
       "      <td>IL</td>\n",
       "      <td>United States</td>\n",
       "      <td>18500.0</td>\n",
       "      <td>Conagra Brands, Inc., together with its subsid...</td>\n",
       "      <td>0.000229</td>\n",
       "    </tr>\n",
       "    <tr>\n",
       "      <th>434</th>\n",
       "      <td>NYQ</td>\n",
       "      <td>AMCR</td>\n",
       "      <td>Amcor plc</td>\n",
       "      <td>Amcor plc</td>\n",
       "      <td>Consumer Cyclical</td>\n",
       "      <td>Packaging &amp; Containers</td>\n",
       "      <td>10.18</td>\n",
       "      <td>14713562112</td>\n",
       "      <td>1.904000e+09</td>\n",
       "      <td>-0.026</td>\n",
       "      <td>Zurich</td>\n",
       "      <td>NaN</td>\n",
       "      <td>Switzerland</td>\n",
       "      <td>41000.0</td>\n",
       "      <td>Amcor plc develops, produces, and sells packag...</td>\n",
       "      <td>0.000259</td>\n",
       "    </tr>\n",
       "  </tbody>\n",
       "</table>\n",
       "</div>"
      ],
      "text/plain": [
       "    exchange symbol             shortname              longname  \\\n",
       "155      NYQ    FDX     FedEx Corporation     FedEx Corporation   \n",
       "453      NYQ    CAG  ConAgra Brands, Inc.  Conagra Brands, Inc.   \n",
       "434      NYQ   AMCR             Amcor plc             Amcor plc   \n",
       "\n",
       "                 sector                        industry  currentprice  \\\n",
       "155         Industrials  Integrated Freight & Logistics        280.68   \n",
       "453  Consumer Defensive                  Packaged Foods         27.24   \n",
       "434   Consumer Cyclical          Packaging & Containers         10.18   \n",
       "\n",
       "       marketcap        ebitda  revenuegrowth     city state        country  \\\n",
       "155  68576579584  1.088500e+10          0.139  Memphis    TN  United States   \n",
       "453  13000915968  2.239500e+09         -0.038  Chicago    IL  United States   \n",
       "434  14713562112  1.904000e+09         -0.026   Zurich   NaN    Switzerland   \n",
       "\n",
       "     fulltimeemployees                                longbusinesssummary  \\\n",
       "155           306000.0  FedEx Corporation, together with its subsidiar...   \n",
       "453            18500.0  Conagra Brands, Inc., together with its subsid...   \n",
       "434            41000.0  Amcor plc develops, produces, and sells packag...   \n",
       "\n",
       "       weight  \n",
       "155  0.001207  \n",
       "453  0.000229  \n",
       "434  0.000259  "
      ]
     },
     "execution_count": 6,
     "metadata": {},
     "output_type": "execute_result"
    }
   ],
   "source": [
    "df.sample(3)"
   ]
  },
  {
   "cell_type": "markdown",
   "metadata": {},
   "source": [
    "### Dataset Description: \n",
    "\n",
    "A brief analysis of each column: \n",
    "- `Exchange`: A marketplace where stocks, bonds or other comodities are traded. (Example: NYSE, NASDAQ).\n",
    "- `Symbol`: A unique \"ticker\" code that identifies the company on the stock exchange. \n",
    "- `Shortname`: The abbreviated name of the company. \n",
    "- `Longname`: The full name of the company. \n",
    "- `Sector`: The broader industry classification that the company belongs to, such as Technology, Healthcare, etc. \n",
    "- `Industry`: A more specific classification of the company's operations (e.g., Software, Pharmaceuticals).\n",
    "- `Currentprice`: The most recent price at which the company's stock was sold or bought. \n",
    "- `Marketprice`: The total market value of the company's outstanding shares, calculated as: Current Price X Outstanding Shares. \n",
    "- `Ebitda`: (Earnings Before Interest Taxes Depreciation and Amortization ) Measures how profitable a company is before paying interest, taxes, and taking depreciation and amortization. \n",
    "- `Revenuegrowth`: The percentage increase or decrease in sales between periods, calculated as: \n",
    "- `City`: The city where the company's headquarters is located. \n",
    "- `State`: The state where the company's headquarters is located.\n",
    "- `Country`: The country of the company's origin. \n",
    "- `Fulltimeemployees`: The total number of employes of the company's business activities. \n",
    "- `Longbusinesssummary`: A breif description and overview of the company's business activities. \n",
    "- `Weight`: Represents the weight of the company's market cap relative to the total market cap, used in index calculations in the S&P 500. \n"
   ]
  },
  {
   "cell_type": "code",
   "execution_count": 7,
   "metadata": {},
   "outputs": [
    {
     "data": {
      "text/html": [
       "<div>\n",
       "<style scoped>\n",
       "    .dataframe tbody tr th:only-of-type {\n",
       "        vertical-align: middle;\n",
       "    }\n",
       "\n",
       "    .dataframe tbody tr th {\n",
       "        vertical-align: top;\n",
       "    }\n",
       "\n",
       "    .dataframe thead th {\n",
       "        text-align: right;\n",
       "    }\n",
       "</style>\n",
       "<table border=\"1\" class=\"dataframe\">\n",
       "  <thead>\n",
       "    <tr style=\"text-align: right;\">\n",
       "      <th></th>\n",
       "      <th>date</th>\n",
       "      <th>s&amp;p500</th>\n",
       "    </tr>\n",
       "  </thead>\n",
       "  <tbody>\n",
       "    <tr>\n",
       "      <th>1664</th>\n",
       "      <td>2021-07-20</td>\n",
       "      <td>4323.06</td>\n",
       "    </tr>\n",
       "    <tr>\n",
       "      <th>1004</th>\n",
       "      <td>2018-12-03</td>\n",
       "      <td>2790.37</td>\n",
       "    </tr>\n",
       "    <tr>\n",
       "      <th>247</th>\n",
       "      <td>2015-12-01</td>\n",
       "      <td>2102.63</td>\n",
       "    </tr>\n",
       "  </tbody>\n",
       "</table>\n",
       "</div>"
      ],
      "text/plain": [
       "            date   s&p500\n",
       "1664  2021-07-20  4323.06\n",
       "1004  2018-12-03  2790.37\n",
       "247   2015-12-01  2102.63"
      ]
     },
     "execution_count": 7,
     "metadata": {},
     "output_type": "execute_result"
    }
   ],
   "source": [
    "sp.sample(3)"
   ]
  },
  {
   "cell_type": "markdown",
   "metadata": {},
   "source": [
    "### Dataset Description: \n",
    "\n",
    "A brief analysis of each colunn: \n",
    "\n",
    "- `Date`: The specific date for which the S&P 500 date is recorded. \n",
    "- `s&p500`: The closing price of the S&P 500 on a given date.  "
   ]
  },
  {
   "cell_type": "markdown",
   "metadata": {},
   "source": [
    "<h3 style=\"color: #4169E1;\">1.2 | Copies</h3>"
   ]
  },
  {
   "cell_type": "code",
   "execution_count": 8,
   "metadata": {},
   "outputs": [],
   "source": [
    "data2 = data.copy()\n",
    "df2 = df.copy()\n",
    "sp2 = sp.copy()"
   ]
  },
  {
   "cell_type": "markdown",
   "metadata": {},
   "source": [
    "<h2 style=\"color: #9370DB;\"> 02 | ⚒️ Data Cleaning </h2>"
   ]
  },
  {
   "cell_type": "markdown",
   "metadata": {},
   "source": [
    "<h3 style=\"color: #4169E1;\"> 2.1 | Dealing with Data types</h3>"
   ]
  },
  {
   "cell_type": "code",
   "execution_count": 9,
   "metadata": {},
   "outputs": [
    {
     "data": {
      "text/plain": [
       "date          object\n",
       "symbol        object\n",
       "adj_close    float64\n",
       "close        float64\n",
       "high         float64\n",
       "low          float64\n",
       "open         float64\n",
       "volume       float64\n",
       "dtype: object"
      ]
     },
     "execution_count": 9,
     "metadata": {},
     "output_type": "execute_result"
    }
   ],
   "source": [
    "data.dtypes"
   ]
  },
  {
   "cell_type": "code",
   "execution_count": 10,
   "metadata": {},
   "outputs": [
    {
     "data": {
      "text/plain": [
       "exchange                object\n",
       "symbol                  object\n",
       "shortname               object\n",
       "longname                object\n",
       "sector                  object\n",
       "industry                object\n",
       "currentprice           float64\n",
       "marketcap                int64\n",
       "ebitda                 float64\n",
       "revenuegrowth          float64\n",
       "city                    object\n",
       "state                   object\n",
       "country                 object\n",
       "fulltimeemployees      float64\n",
       "longbusinesssummary     object\n",
       "weight                 float64\n",
       "dtype: object"
      ]
     },
     "execution_count": 10,
     "metadata": {},
     "output_type": "execute_result"
    }
   ],
   "source": [
    "df.dtypes"
   ]
  },
  {
   "cell_type": "code",
   "execution_count": 11,
   "metadata": {},
   "outputs": [
    {
     "data": {
      "text/plain": [
       "date       object\n",
       "s&p500    float64\n",
       "dtype: object"
      ]
     },
     "execution_count": 11,
     "metadata": {},
     "output_type": "execute_result"
    }
   ],
   "source": [
    "sp.dtypes"
   ]
  },
  {
   "cell_type": "markdown",
   "metadata": {},
   "source": [
    "<h3 style=\"color: #4169E1;\"> 2.2 | Dealing with NaN values</h3>"
   ]
  },
  {
   "cell_type": "code",
   "execution_count": 12,
   "metadata": {},
   "outputs": [
    {
     "data": {
      "text/plain": [
       "exchange                0\n",
       "symbol                  0\n",
       "shortname               0\n",
       "longname                0\n",
       "sector                  0\n",
       "industry                0\n",
       "currentprice            0\n",
       "marketcap               0\n",
       "ebitda                 29\n",
       "revenuegrowth           3\n",
       "city                    0\n",
       "state                  20\n",
       "country                 0\n",
       "fulltimeemployees       9\n",
       "longbusinesssummary     0\n",
       "weight                  0\n",
       "dtype: int64"
      ]
     },
     "execution_count": 12,
     "metadata": {},
     "output_type": "execute_result"
    }
   ],
   "source": [
    "df.isna().sum()"
   ]
  },
  {
   "cell_type": "code",
   "execution_count": 13,
   "metadata": {},
   "outputs": [
    {
     "data": {
      "text/plain": [
       "date      0\n",
       "s&p500    0\n",
       "dtype: int64"
      ]
     },
     "execution_count": 13,
     "metadata": {},
     "output_type": "execute_result"
    }
   ],
   "source": [
    "sp.isna().sum()"
   ]
  },
  {
   "cell_type": "code",
   "execution_count": 14,
   "metadata": {},
   "outputs": [
    {
     "data": {
      "text/plain": [
       "date              0\n",
       "symbol            0\n",
       "adj_close    101626\n",
       "close        101626\n",
       "high         101626\n",
       "low          101626\n",
       "open         101626\n",
       "volume       101626\n",
       "dtype: int64"
      ]
     },
     "execution_count": 14,
     "metadata": {},
     "output_type": "execute_result"
    }
   ],
   "source": [
    "data.isna().sum()"
   ]
  },
  {
   "cell_type": "code",
   "execution_count": 17,
   "metadata": {},
   "outputs": [],
   "source": [
    "# Delete NaN. TELL WHY I'M dropping \n",
    "data2.dropna(how='any', inplace=True)"
   ]
  },
  {
   "cell_type": "code",
   "execution_count": 18,
   "metadata": {},
   "outputs": [
    {
     "data": {
      "text/plain": [
       "date         0\n",
       "symbol       0\n",
       "adj_close    0\n",
       "close        0\n",
       "high         0\n",
       "low          0\n",
       "open         0\n",
       "volume       0\n",
       "dtype: int64"
      ]
     },
     "execution_count": 18,
     "metadata": {},
     "output_type": "execute_result"
    }
   ],
   "source": [
    "data2.isna().sum()"
   ]
  },
  {
   "cell_type": "code",
   "execution_count": 20,
   "metadata": {},
   "outputs": [
    {
     "data": {
      "text/plain": [
       "symbol\n",
       "MMM     3758\n",
       "MHK     3758\n",
       "NTAP    3758\n",
       "NDAQ    3758\n",
       "MSCI    3758\n",
       "        ... \n",
       "VLTO     297\n",
       "SOLV     175\n",
       "GEV      175\n",
       "SW       108\n",
       "AMTM      53\n",
       "Name: count, Length: 503, dtype: int64"
      ]
     },
     "execution_count": 20,
     "metadata": {},
     "output_type": "execute_result"
    }
   ],
   "source": [
    "# Use this as a reference conunting the same after dropping them that without droping them. \n",
    "data2.symbol.value_counts()"
   ]
  },
  {
   "cell_type": "markdown",
   "metadata": {},
   "source": [
    "**Handling Missing Data:**\n",
    "\n",
    "The dataset contains significant missing values (**NaN**) in critical columns such as `adj_close`, `close`, `high`, `low`, `open`, and `volume`. These columns are essential for stock market analysis since they represent key price and volume data. Rows with missing values were dropped using how='any' because incomplete data in these columns could lead to inaccurate insights or errors in further analysis or modeling."
   ]
  },
  {
   "cell_type": "markdown",
   "metadata": {},
   "source": [
    "<h3 style=\"color: #4169E1;\"> 2.3 | Dealing with Duplicates</h3>"
   ]
  },
  {
   "cell_type": "code",
   "execution_count": 21,
   "metadata": {},
   "outputs": [
    {
     "data": {
      "text/plain": [
       "0"
      ]
     },
     "execution_count": 21,
     "metadata": {},
     "output_type": "execute_result"
    }
   ],
   "source": [
    "data2.duplicated().sum()"
   ]
  },
  {
   "cell_type": "code",
   "execution_count": 22,
   "metadata": {},
   "outputs": [
    {
     "data": {
      "text/plain": [
       "0"
      ]
     },
     "execution_count": 22,
     "metadata": {},
     "output_type": "execute_result"
    }
   ],
   "source": [
    "df.duplicated().sum()"
   ]
  },
  {
   "cell_type": "code",
   "execution_count": 23,
   "metadata": {},
   "outputs": [
    {
     "data": {
      "text/plain": [
       "0"
      ]
     },
     "execution_count": 23,
     "metadata": {},
     "output_type": "execute_result"
    }
   ],
   "source": [
    "sp.duplicated().sum()"
   ]
  },
  {
   "cell_type": "markdown",
   "metadata": {},
   "source": [
    "<h3 style=\"color: #4169E1;\"> 2.5 | Dealing with columns </h3>"
   ]
  },
  {
   "cell_type": "code",
   "execution_count": 25,
   "metadata": {},
   "outputs": [],
   "source": [
    "# Delete Columns \n",
    "data2.drop(columns=['high', 'low', 'open','close'], inplace=True)"
   ]
  },
  {
   "cell_type": "code",
   "execution_count": 26,
   "metadata": {},
   "outputs": [],
   "source": [
    "# Change to datetime from stocks. \n",
    "data2['date'] = pd.to_datetime(data2['date'])\n",
    "# Change to datetime. SP 500. \n",
    "sp['date'] = pd.to_datetime(sp['date'])"
   ]
  },
  {
   "cell_type": "code",
   "execution_count": 27,
   "metadata": {},
   "outputs": [],
   "source": [
    "data2['year'] = data2['date'].dt.year\n",
    "data2['month'] = data2['date'].dt.month\n",
    "data2['day'] = data2['date'].dt.day\n",
    "sp['year'] = sp['date'].dt.year\n",
    "sp['month'] = sp['date'].dt.month\n",
    "sp['day'] = sp['date'].dt.day"
   ]
  },
  {
   "cell_type": "code",
   "execution_count": 28,
   "metadata": {},
   "outputs": [
    {
     "data": {
      "text/html": [
       "<div>\n",
       "<style scoped>\n",
       "    .dataframe tbody tr th:only-of-type {\n",
       "        vertical-align: middle;\n",
       "    }\n",
       "\n",
       "    .dataframe tbody tr th {\n",
       "        vertical-align: top;\n",
       "    }\n",
       "\n",
       "    .dataframe thead th {\n",
       "        text-align: right;\n",
       "    }\n",
       "</style>\n",
       "<table border=\"1\" class=\"dataframe\">\n",
       "  <thead>\n",
       "    <tr style=\"text-align: right;\">\n",
       "      <th></th>\n",
       "      <th>year</th>\n",
       "      <th>month</th>\n",
       "      <th>day</th>\n",
       "      <th>symbol</th>\n",
       "      <th>adj_close</th>\n",
       "      <th>volume</th>\n",
       "    </tr>\n",
       "  </thead>\n",
       "  <tbody>\n",
       "    <tr>\n",
       "      <th>0</th>\n",
       "      <td>2010</td>\n",
       "      <td>1</td>\n",
       "      <td>4</td>\n",
       "      <td>MMM</td>\n",
       "      <td>43.783867</td>\n",
       "      <td>3640265.0</td>\n",
       "    </tr>\n",
       "    <tr>\n",
       "      <th>1</th>\n",
       "      <td>2010</td>\n",
       "      <td>1</td>\n",
       "      <td>5</td>\n",
       "      <td>MMM</td>\n",
       "      <td>43.509628</td>\n",
       "      <td>3405012.0</td>\n",
       "    </tr>\n",
       "    <tr>\n",
       "      <th>2</th>\n",
       "      <td>2010</td>\n",
       "      <td>1</td>\n",
       "      <td>6</td>\n",
       "      <td>MMM</td>\n",
       "      <td>44.126682</td>\n",
       "      <td>6301126.0</td>\n",
       "    </tr>\n",
       "  </tbody>\n",
       "</table>\n",
       "</div>"
      ],
      "text/plain": [
       "   year  month  day symbol  adj_close     volume\n",
       "0  2010      1    4    MMM  43.783867  3640265.0\n",
       "1  2010      1    5    MMM  43.509628  3405012.0\n",
       "2  2010      1    6    MMM  44.126682  6301126.0"
      ]
     },
     "execution_count": 28,
     "metadata": {},
     "output_type": "execute_result"
    }
   ],
   "source": [
    "cols = ['year', 'month', 'day', 'symbol', 'adj_close', 'volume']\n",
    "data2 = data2[cols]\n",
    "data2.head(3)"
   ]
  },
  {
   "cell_type": "code",
   "execution_count": 29,
   "metadata": {},
   "outputs": [
    {
     "name": "stderr",
     "output_type": "stream",
     "text": [
      "/var/folders/bs/hzz4qdm57z9cct0t_9rdynfr0000gn/T/ipykernel_1627/1019899634.py:2: SettingWithCopyWarning: \n",
      "A value is trying to be set on a copy of a slice from a DataFrame\n",
      "\n",
      "See the caveats in the documentation: https://pandas.pydata.org/pandas-docs/stable/user_guide/indexing.html#returning-a-view-versus-a-copy\n",
      "  data2.drop(data2[(data2['year'] >= 2010) & (data2['year'] <= 2014)].index, inplace=True)\n"
     ]
    }
   ],
   "source": [
    "# Drop rows where year is between 2010 and 2013 because SP500 for comparison we do have 2014. \n",
    "data2.drop(data2[(data2['year'] >= 2010) & (data2['year'] <= 2014)].index, inplace=True)\n",
    "# Drop row for sp 500 as we do not have many. \n",
    "sp.drop(sp[sp['year'] == 2014].index, inplace=True)"
   ]
  },
  {
   "cell_type": "code",
   "execution_count": 30,
   "metadata": {},
   "outputs": [
    {
     "data": {
      "text/html": [
       "<div>\n",
       "<style scoped>\n",
       "    .dataframe tbody tr th:only-of-type {\n",
       "        vertical-align: middle;\n",
       "    }\n",
       "\n",
       "    .dataframe tbody tr th {\n",
       "        vertical-align: top;\n",
       "    }\n",
       "\n",
       "    .dataframe thead th {\n",
       "        text-align: right;\n",
       "    }\n",
       "</style>\n",
       "<table border=\"1\" class=\"dataframe\">\n",
       "  <thead>\n",
       "    <tr style=\"text-align: right;\">\n",
       "      <th></th>\n",
       "      <th>year</th>\n",
       "      <th>month</th>\n",
       "      <th>day</th>\n",
       "      <th>s&amp;p500</th>\n",
       "    </tr>\n",
       "  </thead>\n",
       "  <tbody>\n",
       "    <tr>\n",
       "      <th>17</th>\n",
       "      <td>2015</td>\n",
       "      <td>1</td>\n",
       "      <td>2</td>\n",
       "      <td>2058.20</td>\n",
       "    </tr>\n",
       "    <tr>\n",
       "      <th>18</th>\n",
       "      <td>2015</td>\n",
       "      <td>1</td>\n",
       "      <td>5</td>\n",
       "      <td>2020.58</td>\n",
       "    </tr>\n",
       "    <tr>\n",
       "      <th>19</th>\n",
       "      <td>2015</td>\n",
       "      <td>1</td>\n",
       "      <td>6</td>\n",
       "      <td>2002.61</td>\n",
       "    </tr>\n",
       "  </tbody>\n",
       "</table>\n",
       "</div>"
      ],
      "text/plain": [
       "    year  month  day   s&p500\n",
       "17  2015      1    2  2058.20\n",
       "18  2015      1    5  2020.58\n",
       "19  2015      1    6  2002.61"
      ]
     },
     "execution_count": 30,
     "metadata": {},
     "output_type": "execute_result"
    }
   ],
   "source": [
    "# Change columns for SP500. \n",
    "cols = ['year', 'month', 'day', 's&p500']\n",
    "sp = sp[cols]\n",
    "sp.head(3)"
   ]
  },
  {
   "cell_type": "code",
   "execution_count": 31,
   "metadata": {},
   "outputs": [
    {
     "name": "stderr",
     "output_type": "stream",
     "text": [
      "/var/folders/bs/hzz4qdm57z9cct0t_9rdynfr0000gn/T/ipykernel_1627/1891848652.py:2: DeprecationWarning: DataFrameGroupBy.apply operated on the grouping columns. This behavior is deprecated, and in a future version of pandas the grouping columns will be excluded from the operation. Either pass `include_groups=False` to exclude the groupings or explicitly select the grouping columns after groupby to silence this warning.\n",
      "  annual_returns = data2.groupby(['symbol', 'year']).apply(lambda group: (group['adj_close'].iloc[-1] / group['adj_close'].iloc[0]) - 1).reset_index(name='annual_return').round(4)\n",
      "/var/folders/bs/hzz4qdm57z9cct0t_9rdynfr0000gn/T/ipykernel_1627/1891848652.py:3: DeprecationWarning: DataFrameGroupBy.apply operated on the grouping columns. This behavior is deprecated, and in a future version of pandas the grouping columns will be excluded from the operation. Either pass `include_groups=False` to exclude the groupings or explicitly select the grouping columns after groupby to silence this warning.\n",
      "  annual_returns_sp = sp.groupby('year').apply(lambda group: (group['s&p500'].iloc[-1] / group['s&p500'].iloc[0]) - 1).reset_index(name='annual_return').round(4)\n"
     ]
    }
   ],
   "source": [
    "# Creating new columns. Which will give us the annual return yearly per each stock & sp500. \n",
    "annual_returns = data2.groupby(['symbol', 'year']).apply(lambda group: (group['adj_close'].iloc[-1] / group['adj_close'].iloc[0]) - 1).reset_index(name='annual_return').round(4)\n",
    "annual_returns_sp = sp.groupby('year').apply(lambda group: (group['s&p500'].iloc[-1] / group['s&p500'].iloc[0]) - 1).reset_index(name='annual_return').round(4)\n",
    "annual_returns_sp['symbol'] = 'SP500'"
   ]
  },
  {
   "cell_type": "code",
   "execution_count": 32,
   "metadata": {},
   "outputs": [],
   "source": [
    "cols = ['symbol', 'year', 'annual_return']\n",
    "annual_returns_sp = annual_returns_sp[cols]"
   ]
  },
  {
   "cell_type": "code",
   "execution_count": 33,
   "metadata": {},
   "outputs": [],
   "source": [
    "pivoted_df = annual_returns.pivot(index='symbol', columns='year', values='annual_return')\n",
    "pivoted_sp = annual_returns_sp.pivot(index='symbol',columns='year', values='annual_return')"
   ]
  },
  {
   "cell_type": "code",
   "execution_count": 36,
   "metadata": {},
   "outputs": [],
   "source": [
    "# Unification from annual return from each stock adding the sp500. \n",
    "defi = pd.concat([pivoted_df,pivoted_sp], axis=0)\n",
    "definitive = pd.merge (df2, pivoted_df, on='symbol')"
   ]
  },
  {
   "cell_type": "code",
   "execution_count": 40,
   "metadata": {},
   "outputs": [],
   "source": [
    "definitive = definitive.rename(columns={2015: 'ar_2015',2016:'ar_2016',2017: 'ar_2017', \n",
    "                                          2018:'ar_2018', 2019: 'ar_2019',2020: 'ar_2020', 2021: 'ar_2021', 2022:'ar_2022', 2023:'ar_2023',2024: 'ar_2024'})"
   ]
  },
  {
   "cell_type": "markdown",
   "metadata": {},
   "source": [
    "<h3 style=\"color: #4169E1;\"> 2.6 | Moving target to the right </h3>"
   ]
  },
  {
   "cell_type": "code",
   "execution_count": 42,
   "metadata": {},
   "outputs": [],
   "source": [
    "#Dropping Columns: Exchange, longname, longbusinesssumary. \n",
    "cols = ['symbol', 'shortname','sector','industry',\n",
    "        'marketcap','ebitda', 'revenuegrowth', 'city', 'state', 'country',   \n",
    "        'fulltimeemployees', 'weight', 'ar_2015', 'ar_2016', 'ar_2017', 'ar_2018', 'ar_2019',\n",
    "        'ar_2020', 'ar_2021', 'ar_2022', 'ar_2023', 'ar_2024', 'currentprice']"
   ]
  },
  {
   "cell_type": "code",
   "execution_count": 43,
   "metadata": {},
   "outputs": [],
   "source": [
    "definitive = definitive[cols]"
   ]
  },
  {
   "cell_type": "code",
   "execution_count": 45,
   "metadata": {},
   "outputs": [
    {
     "data": {
      "text/html": [
       "<div>\n",
       "<style scoped>\n",
       "    .dataframe tbody tr th:only-of-type {\n",
       "        vertical-align: middle;\n",
       "    }\n",
       "\n",
       "    .dataframe tbody tr th {\n",
       "        vertical-align: top;\n",
       "    }\n",
       "\n",
       "    .dataframe thead th {\n",
       "        text-align: right;\n",
       "    }\n",
       "</style>\n",
       "<table border=\"1\" class=\"dataframe\">\n",
       "  <thead>\n",
       "    <tr style=\"text-align: right;\">\n",
       "      <th></th>\n",
       "      <th>symbol</th>\n",
       "      <th>shortname</th>\n",
       "      <th>sector</th>\n",
       "      <th>industry</th>\n",
       "      <th>marketcap</th>\n",
       "      <th>ebitda</th>\n",
       "      <th>revenuegrowth</th>\n",
       "      <th>city</th>\n",
       "      <th>state</th>\n",
       "      <th>country</th>\n",
       "      <th>...</th>\n",
       "      <th>ar_2016</th>\n",
       "      <th>ar_2017</th>\n",
       "      <th>ar_2018</th>\n",
       "      <th>ar_2019</th>\n",
       "      <th>ar_2020</th>\n",
       "      <th>ar_2021</th>\n",
       "      <th>ar_2022</th>\n",
       "      <th>ar_2023</th>\n",
       "      <th>ar_2024</th>\n",
       "      <th>currentprice</th>\n",
       "    </tr>\n",
       "  </thead>\n",
       "  <tbody>\n",
       "    <tr>\n",
       "      <th>0</th>\n",
       "      <td>AAPL</td>\n",
       "      <td>Apple Inc.</td>\n",
       "      <td>Technology</td>\n",
       "      <td>Consumer Electronics</td>\n",
       "      <td>3670720643072</td>\n",
       "      <td>1.346610e+11</td>\n",
       "      <td>0.061</td>\n",
       "      <td>Cupertino</td>\n",
       "      <td>CA</td>\n",
       "      <td>United States</td>\n",
       "      <td>...</td>\n",
       "      <td>0.1238</td>\n",
       "      <td>0.4804</td>\n",
       "      <td>-0.0705</td>\n",
       "      <td>0.8874</td>\n",
       "      <td>0.7824</td>\n",
       "      <td>0.3806</td>\n",
       "      <td>-0.2820</td>\n",
       "      <td>0.5480</td>\n",
       "      <td>0.3145</td>\n",
       "      <td>242.84</td>\n",
       "    </tr>\n",
       "    <tr>\n",
       "      <th>1</th>\n",
       "      <td>NVDA</td>\n",
       "      <td>NVIDIA Corporation</td>\n",
       "      <td>Technology</td>\n",
       "      <td>Semiconductors</td>\n",
       "      <td>3488355713024</td>\n",
       "      <td>6.118400e+10</td>\n",
       "      <td>1.224</td>\n",
       "      <td>Santa Clara</td>\n",
       "      <td>CA</td>\n",
       "      <td>United States</td>\n",
       "      <td>...</td>\n",
       "      <td>2.3292</td>\n",
       "      <td>0.9043</td>\n",
       "      <td>-0.3285</td>\n",
       "      <td>0.7341</td>\n",
       "      <td>1.1802</td>\n",
       "      <td>1.2448</td>\n",
       "      <td>-0.5144</td>\n",
       "      <td>2.4610</td>\n",
       "      <td>1.9580</td>\n",
       "      <td>142.44</td>\n",
       "    </tr>\n",
       "    <tr>\n",
       "      <th>2</th>\n",
       "      <td>MSFT</td>\n",
       "      <td>Microsoft Corporation</td>\n",
       "      <td>Technology</td>\n",
       "      <td>Software - Infrastructure</td>\n",
       "      <td>3297889746944</td>\n",
       "      <td>1.365520e+11</td>\n",
       "      <td>0.160</td>\n",
       "      <td>Redmond</td>\n",
       "      <td>WA</td>\n",
       "      <td>United States</td>\n",
       "      <td>...</td>\n",
       "      <td>0.1651</td>\n",
       "      <td>0.3974</td>\n",
       "      <td>0.2022</td>\n",
       "      <td>0.5826</td>\n",
       "      <td>0.3994</td>\n",
       "      <td>0.5579</td>\n",
       "      <td>-0.2769</td>\n",
       "      <td>0.5835</td>\n",
       "      <td>0.2050</td>\n",
       "      <td>443.57</td>\n",
       "    </tr>\n",
       "    <tr>\n",
       "      <th>3</th>\n",
       "      <td>AMZN</td>\n",
       "      <td>Amazon.com, Inc.</td>\n",
       "      <td>Consumer Cyclical</td>\n",
       "      <td>Internet Retail</td>\n",
       "      <td>2387220627456</td>\n",
       "      <td>1.115830e+11</td>\n",
       "      <td>0.110</td>\n",
       "      <td>Seattle</td>\n",
       "      <td>WA</td>\n",
       "      <td>United States</td>\n",
       "      <td>...</td>\n",
       "      <td>0.1772</td>\n",
       "      <td>0.5517</td>\n",
       "      <td>0.2632</td>\n",
       "      <td>0.2006</td>\n",
       "      <td>0.7160</td>\n",
       "      <td>0.0464</td>\n",
       "      <td>-0.5071</td>\n",
       "      <td>0.7704</td>\n",
       "      <td>0.5142</td>\n",
       "      <td>227.03</td>\n",
       "    </tr>\n",
       "  </tbody>\n",
       "</table>\n",
       "<p>4 rows × 23 columns</p>\n",
       "</div>"
      ],
      "text/plain": [
       "  symbol              shortname             sector                   industry  \\\n",
       "0   AAPL             Apple Inc.         Technology       Consumer Electronics   \n",
       "1   NVDA     NVIDIA Corporation         Technology             Semiconductors   \n",
       "2   MSFT  Microsoft Corporation         Technology  Software - Infrastructure   \n",
       "3   AMZN       Amazon.com, Inc.  Consumer Cyclical            Internet Retail   \n",
       "\n",
       "       marketcap        ebitda  revenuegrowth         city state  \\\n",
       "0  3670720643072  1.346610e+11          0.061    Cupertino    CA   \n",
       "1  3488355713024  6.118400e+10          1.224  Santa Clara    CA   \n",
       "2  3297889746944  1.365520e+11          0.160      Redmond    WA   \n",
       "3  2387220627456  1.115830e+11          0.110      Seattle    WA   \n",
       "\n",
       "         country  ...  ar_2016  ar_2017  ar_2018  ar_2019  ar_2020  ar_2021  \\\n",
       "0  United States  ...   0.1238   0.4804  -0.0705   0.8874   0.7824   0.3806   \n",
       "1  United States  ...   2.3292   0.9043  -0.3285   0.7341   1.1802   1.2448   \n",
       "2  United States  ...   0.1651   0.3974   0.2022   0.5826   0.3994   0.5579   \n",
       "3  United States  ...   0.1772   0.5517   0.2632   0.2006   0.7160   0.0464   \n",
       "\n",
       "   ar_2022  ar_2023  ar_2024  currentprice  \n",
       "0  -0.2820   0.5480   0.3145        242.84  \n",
       "1  -0.5144   2.4610   1.9580        142.44  \n",
       "2  -0.2769   0.5835   0.2050        443.57  \n",
       "3  -0.5071   0.7704   0.5142        227.03  \n",
       "\n",
       "[4 rows x 23 columns]"
      ]
     },
     "execution_count": 45,
     "metadata": {},
     "output_type": "execute_result"
    }
   ],
   "source": [
    "definitive.head(4)"
   ]
  },
  {
   "cell_type": "markdown",
   "metadata": {},
   "source": [
    "# <h2 style=\"color: #9370DB;\"> 03 | EDA (Exploratory Data Analysis) </h2>"
   ]
  },
  {
   "cell_type": "markdown",
   "metadata": {},
   "source": [
    "<h3 style=\"color: #4169E1;\">3.1 | Descriptive Statistics </h3>"
   ]
  },
  {
   "cell_type": "code",
   "execution_count": 46,
   "metadata": {},
   "outputs": [
    {
     "data": {
      "text/html": [
       "<div>\n",
       "<style scoped>\n",
       "    .dataframe tbody tr th:only-of-type {\n",
       "        vertical-align: middle;\n",
       "    }\n",
       "\n",
       "    .dataframe tbody tr th {\n",
       "        vertical-align: top;\n",
       "    }\n",
       "\n",
       "    .dataframe thead th {\n",
       "        text-align: right;\n",
       "    }\n",
       "</style>\n",
       "<table border=\"1\" class=\"dataframe\">\n",
       "  <thead>\n",
       "    <tr style=\"text-align: right;\">\n",
       "      <th></th>\n",
       "      <th>symbol</th>\n",
       "      <th>shortname</th>\n",
       "      <th>sector</th>\n",
       "      <th>industry</th>\n",
       "      <th>city</th>\n",
       "      <th>state</th>\n",
       "      <th>country</th>\n",
       "    </tr>\n",
       "  </thead>\n",
       "  <tbody>\n",
       "    <tr>\n",
       "      <th>0</th>\n",
       "      <td>AAPL</td>\n",
       "      <td>Apple Inc.</td>\n",
       "      <td>Technology</td>\n",
       "      <td>Consumer Electronics</td>\n",
       "      <td>Cupertino</td>\n",
       "      <td>CA</td>\n",
       "      <td>United States</td>\n",
       "    </tr>\n",
       "    <tr>\n",
       "      <th>1</th>\n",
       "      <td>NVDA</td>\n",
       "      <td>NVIDIA Corporation</td>\n",
       "      <td>Technology</td>\n",
       "      <td>Semiconductors</td>\n",
       "      <td>Santa Clara</td>\n",
       "      <td>CA</td>\n",
       "      <td>United States</td>\n",
       "    </tr>\n",
       "    <tr>\n",
       "      <th>2</th>\n",
       "      <td>MSFT</td>\n",
       "      <td>Microsoft Corporation</td>\n",
       "      <td>Technology</td>\n",
       "      <td>Software - Infrastructure</td>\n",
       "      <td>Redmond</td>\n",
       "      <td>WA</td>\n",
       "      <td>United States</td>\n",
       "    </tr>\n",
       "    <tr>\n",
       "      <th>3</th>\n",
       "      <td>AMZN</td>\n",
       "      <td>Amazon.com, Inc.</td>\n",
       "      <td>Consumer Cyclical</td>\n",
       "      <td>Internet Retail</td>\n",
       "      <td>Seattle</td>\n",
       "      <td>WA</td>\n",
       "      <td>United States</td>\n",
       "    </tr>\n",
       "    <tr>\n",
       "      <th>4</th>\n",
       "      <td>GOOG</td>\n",
       "      <td>Alphabet Inc.</td>\n",
       "      <td>Communication Services</td>\n",
       "      <td>Internet Content &amp; Information</td>\n",
       "      <td>Mountain View</td>\n",
       "      <td>CA</td>\n",
       "      <td>United States</td>\n",
       "    </tr>\n",
       "  </tbody>\n",
       "</table>\n",
       "</div>"
      ],
      "text/plain": [
       "  symbol              shortname                  sector  \\\n",
       "0   AAPL             Apple Inc.              Technology   \n",
       "1   NVDA     NVIDIA Corporation              Technology   \n",
       "2   MSFT  Microsoft Corporation              Technology   \n",
       "3   AMZN       Amazon.com, Inc.       Consumer Cyclical   \n",
       "4   GOOG          Alphabet Inc.  Communication Services   \n",
       "\n",
       "                         industry           city state        country  \n",
       "0            Consumer Electronics      Cupertino    CA  United States  \n",
       "1                  Semiconductors    Santa Clara    CA  United States  \n",
       "2       Software - Infrastructure        Redmond    WA  United States  \n",
       "3                 Internet Retail        Seattle    WA  United States  \n",
       "4  Internet Content & Information  Mountain View    CA  United States  "
      ]
     },
     "execution_count": 46,
     "metadata": {},
     "output_type": "execute_result"
    }
   ],
   "source": [
    "# Selecting categorical columns. \n",
    "cat = definitive.select_dtypes(exclude='number')\n",
    "cat.head(5)"
   ]
  },
  {
   "cell_type": "code",
   "execution_count": 47,
   "metadata": {},
   "outputs": [
    {
     "data": {
      "text/html": [
       "<div>\n",
       "<style scoped>\n",
       "    .dataframe tbody tr th:only-of-type {\n",
       "        vertical-align: middle;\n",
       "    }\n",
       "\n",
       "    .dataframe tbody tr th {\n",
       "        vertical-align: top;\n",
       "    }\n",
       "\n",
       "    .dataframe thead th {\n",
       "        text-align: right;\n",
       "    }\n",
       "</style>\n",
       "<table border=\"1\" class=\"dataframe\">\n",
       "  <thead>\n",
       "    <tr style=\"text-align: right;\">\n",
       "      <th></th>\n",
       "      <th>marketcap</th>\n",
       "      <th>ebitda</th>\n",
       "      <th>revenuegrowth</th>\n",
       "      <th>fulltimeemployees</th>\n",
       "      <th>weight</th>\n",
       "      <th>ar_2015</th>\n",
       "      <th>ar_2016</th>\n",
       "      <th>ar_2017</th>\n",
       "      <th>ar_2018</th>\n",
       "      <th>ar_2019</th>\n",
       "      <th>ar_2020</th>\n",
       "      <th>ar_2021</th>\n",
       "      <th>ar_2022</th>\n",
       "      <th>ar_2023</th>\n",
       "      <th>ar_2024</th>\n",
       "      <th>currentprice</th>\n",
       "    </tr>\n",
       "  </thead>\n",
       "  <tbody>\n",
       "    <tr>\n",
       "      <th>0</th>\n",
       "      <td>3670720643072</td>\n",
       "      <td>1.346610e+11</td>\n",
       "      <td>0.061</td>\n",
       "      <td>164000.0</td>\n",
       "      <td>0.064589</td>\n",
       "      <td>-0.0208</td>\n",
       "      <td>0.1238</td>\n",
       "      <td>0.4804</td>\n",
       "      <td>-0.0705</td>\n",
       "      <td>0.8874</td>\n",
       "      <td>0.7824</td>\n",
       "      <td>0.3806</td>\n",
       "      <td>-0.2820</td>\n",
       "      <td>0.5480</td>\n",
       "      <td>0.3145</td>\n",
       "      <td>242.84</td>\n",
       "    </tr>\n",
       "    <tr>\n",
       "      <th>1</th>\n",
       "      <td>3488355713024</td>\n",
       "      <td>6.118400e+10</td>\n",
       "      <td>1.224</td>\n",
       "      <td>29600.0</td>\n",
       "      <td>0.061381</td>\n",
       "      <td>0.6645</td>\n",
       "      <td>2.3292</td>\n",
       "      <td>0.9043</td>\n",
       "      <td>-0.3285</td>\n",
       "      <td>0.7341</td>\n",
       "      <td>1.1802</td>\n",
       "      <td>1.2448</td>\n",
       "      <td>-0.5144</td>\n",
       "      <td>2.4610</td>\n",
       "      <td>1.9580</td>\n",
       "      <td>142.44</td>\n",
       "    </tr>\n",
       "    <tr>\n",
       "      <th>2</th>\n",
       "      <td>3297889746944</td>\n",
       "      <td>1.365520e+11</td>\n",
       "      <td>0.160</td>\n",
       "      <td>228000.0</td>\n",
       "      <td>0.058029</td>\n",
       "      <td>0.2188</td>\n",
       "      <td>0.1651</td>\n",
       "      <td>0.3974</td>\n",
       "      <td>0.2022</td>\n",
       "      <td>0.5826</td>\n",
       "      <td>0.3994</td>\n",
       "      <td>0.5579</td>\n",
       "      <td>-0.2769</td>\n",
       "      <td>0.5835</td>\n",
       "      <td>0.2050</td>\n",
       "      <td>443.57</td>\n",
       "    </tr>\n",
       "    <tr>\n",
       "      <th>3</th>\n",
       "      <td>2387220627456</td>\n",
       "      <td>1.115830e+11</td>\n",
       "      <td>0.110</td>\n",
       "      <td>1551000.0</td>\n",
       "      <td>0.042005</td>\n",
       "      <td>1.1907</td>\n",
       "      <td>0.1772</td>\n",
       "      <td>0.5517</td>\n",
       "      <td>0.2632</td>\n",
       "      <td>0.2006</td>\n",
       "      <td>0.7160</td>\n",
       "      <td>0.0464</td>\n",
       "      <td>-0.5071</td>\n",
       "      <td>0.7704</td>\n",
       "      <td>0.5142</td>\n",
       "      <td>227.03</td>\n",
       "    </tr>\n",
       "    <tr>\n",
       "      <th>4</th>\n",
       "      <td>2149065949184</td>\n",
       "      <td>1.234700e+11</td>\n",
       "      <td>0.151</td>\n",
       "      <td>181269.0</td>\n",
       "      <td>0.037815</td>\n",
       "      <td>0.4500</td>\n",
       "      <td>0.0404</td>\n",
       "      <td>0.3311</td>\n",
       "      <td>-0.0276</td>\n",
       "      <td>0.2784</td>\n",
       "      <td>0.2812</td>\n",
       "      <td>0.6743</td>\n",
       "      <td>-0.3884</td>\n",
       "      <td>0.5711</td>\n",
       "      <td>0.2646</td>\n",
       "      <td>176.49</td>\n",
       "    </tr>\n",
       "  </tbody>\n",
       "</table>\n",
       "</div>"
      ],
      "text/plain": [
       "       marketcap        ebitda  revenuegrowth  fulltimeemployees    weight  \\\n",
       "0  3670720643072  1.346610e+11          0.061           164000.0  0.064589   \n",
       "1  3488355713024  6.118400e+10          1.224            29600.0  0.061381   \n",
       "2  3297889746944  1.365520e+11          0.160           228000.0  0.058029   \n",
       "3  2387220627456  1.115830e+11          0.110          1551000.0  0.042005   \n",
       "4  2149065949184  1.234700e+11          0.151           181269.0  0.037815   \n",
       "\n",
       "   ar_2015  ar_2016  ar_2017  ar_2018  ar_2019  ar_2020  ar_2021  ar_2022  \\\n",
       "0  -0.0208   0.1238   0.4804  -0.0705   0.8874   0.7824   0.3806  -0.2820   \n",
       "1   0.6645   2.3292   0.9043  -0.3285   0.7341   1.1802   1.2448  -0.5144   \n",
       "2   0.2188   0.1651   0.3974   0.2022   0.5826   0.3994   0.5579  -0.2769   \n",
       "3   1.1907   0.1772   0.5517   0.2632   0.2006   0.7160   0.0464  -0.5071   \n",
       "4   0.4500   0.0404   0.3311  -0.0276   0.2784   0.2812   0.6743  -0.3884   \n",
       "\n",
       "   ar_2023  ar_2024  currentprice  \n",
       "0   0.5480   0.3145        242.84  \n",
       "1   2.4610   1.9580        142.44  \n",
       "2   0.5835   0.2050        443.57  \n",
       "3   0.7704   0.5142        227.03  \n",
       "4   0.5711   0.2646        176.49  "
      ]
     },
     "execution_count": 47,
     "metadata": {},
     "output_type": "execute_result"
    }
   ],
   "source": [
    "# Selecting numerical columns. \n",
    "num = definitive.select_dtypes(include='number')\n",
    "num.head(5)"
   ]
  },
  {
   "cell_type": "code",
   "execution_count": 48,
   "metadata": {},
   "outputs": [
    {
     "data": {
      "text/html": [
       "<div>\n",
       "<style scoped>\n",
       "    .dataframe tbody tr th:only-of-type {\n",
       "        vertical-align: middle;\n",
       "    }\n",
       "\n",
       "    .dataframe tbody tr th {\n",
       "        vertical-align: top;\n",
       "    }\n",
       "\n",
       "    .dataframe thead th {\n",
       "        text-align: right;\n",
       "    }\n",
       "</style>\n",
       "<table border=\"1\" class=\"dataframe\">\n",
       "  <thead>\n",
       "    <tr style=\"text-align: right;\">\n",
       "      <th></th>\n",
       "      <th>marketcap</th>\n",
       "      <th>ebitda</th>\n",
       "      <th>revenuegrowth</th>\n",
       "      <th>fulltimeemployees</th>\n",
       "      <th>weight</th>\n",
       "      <th>ar_2015</th>\n",
       "      <th>ar_2016</th>\n",
       "      <th>ar_2017</th>\n",
       "      <th>ar_2018</th>\n",
       "      <th>ar_2019</th>\n",
       "      <th>ar_2020</th>\n",
       "      <th>ar_2021</th>\n",
       "      <th>ar_2022</th>\n",
       "      <th>ar_2023</th>\n",
       "      <th>ar_2024</th>\n",
       "      <th>currentprice</th>\n",
       "    </tr>\n",
       "  </thead>\n",
       "  <tbody>\n",
       "    <tr>\n",
       "      <th>count</th>\n",
       "      <td>5.030000e+02</td>\n",
       "      <td>4.740000e+02</td>\n",
       "      <td>500.000000</td>\n",
       "      <td>4.940000e+02</td>\n",
       "      <td>503.000000</td>\n",
       "      <td>475.000000</td>\n",
       "      <td>480.000000</td>\n",
       "      <td>482.000000</td>\n",
       "      <td>485.000000</td>\n",
       "      <td>491.000000</td>\n",
       "      <td>495.000000</td>\n",
       "      <td>495.000000</td>\n",
       "      <td>497.000000</td>\n",
       "      <td>499.000000</td>\n",
       "      <td>503.000000</td>\n",
       "      <td>503.000000</td>\n",
       "    </tr>\n",
       "    <tr>\n",
       "      <th>mean</th>\n",
       "      <td>1.129853e+11</td>\n",
       "      <td>7.031397e+09</td>\n",
       "      <td>0.070484</td>\n",
       "      <td>5.774496e+04</td>\n",
       "      <td>0.001988</td>\n",
       "      <td>0.045306</td>\n",
       "      <td>0.197734</td>\n",
       "      <td>0.258852</td>\n",
       "      <td>-0.034976</td>\n",
       "      <td>0.352786</td>\n",
       "      <td>0.192008</td>\n",
       "      <td>0.328778</td>\n",
       "      <td>-0.085353</td>\n",
       "      <td>0.195019</td>\n",
       "      <td>0.215239</td>\n",
       "      <td>230.293300</td>\n",
       "    </tr>\n",
       "    <tr>\n",
       "      <th>std</th>\n",
       "      <td>3.399129e+11</td>\n",
       "      <td>1.622777e+10</td>\n",
       "      <td>0.180071</td>\n",
       "      <td>1.394693e+05</td>\n",
       "      <td>0.005981</td>\n",
       "      <td>0.253423</td>\n",
       "      <td>0.277769</td>\n",
       "      <td>0.260448</td>\n",
       "      <td>0.225112</td>\n",
       "      <td>0.317066</td>\n",
       "      <td>0.548745</td>\n",
       "      <td>0.295113</td>\n",
       "      <td>0.279833</td>\n",
       "      <td>0.356690</td>\n",
       "      <td>0.382605</td>\n",
       "      <td>521.997583</td>\n",
       "    </tr>\n",
       "    <tr>\n",
       "      <th>min</th>\n",
       "      <td>5.637307e+09</td>\n",
       "      <td>-3.991000e+09</td>\n",
       "      <td>-0.602000</td>\n",
       "      <td>2.800000e+01</td>\n",
       "      <td>0.000099</td>\n",
       "      <td>-0.753000</td>\n",
       "      <td>-0.710600</td>\n",
       "      <td>-0.430800</td>\n",
       "      <td>-0.576200</td>\n",
       "      <td>-0.543300</td>\n",
       "      <td>-0.580300</td>\n",
       "      <td>-0.350500</td>\n",
       "      <td>-0.710700</td>\n",
       "      <td>-0.480700</td>\n",
       "      <td>-0.652500</td>\n",
       "      <td>8.560000</td>\n",
       "    </tr>\n",
       "    <tr>\n",
       "      <th>25%</th>\n",
       "      <td>2.036663e+10</td>\n",
       "      <td>1.623194e+09</td>\n",
       "      <td>0.002000</td>\n",
       "      <td>1.020000e+04</td>\n",
       "      <td>0.000358</td>\n",
       "      <td>-0.107050</td>\n",
       "      <td>0.047800</td>\n",
       "      <td>0.094325</td>\n",
       "      <td>-0.192900</td>\n",
       "      <td>0.185550</td>\n",
       "      <td>-0.051000</td>\n",
       "      <td>0.131250</td>\n",
       "      <td>-0.266900</td>\n",
       "      <td>-0.028700</td>\n",
       "      <td>0.004500</td>\n",
       "      <td>71.545000</td>\n",
       "    </tr>\n",
       "    <tr>\n",
       "      <th>50%</th>\n",
       "      <td>3.803281e+10</td>\n",
       "      <td>2.941705e+09</td>\n",
       "      <td>0.050000</td>\n",
       "      <td>2.159500e+04</td>\n",
       "      <td>0.000669</td>\n",
       "      <td>0.040700</td>\n",
       "      <td>0.177950</td>\n",
       "      <td>0.223250</td>\n",
       "      <td>-0.037800</td>\n",
       "      <td>0.328700</td>\n",
       "      <td>0.123900</td>\n",
       "      <td>0.306900</td>\n",
       "      <td>-0.114600</td>\n",
       "      <td>0.127500</td>\n",
       "      <td>0.167400</td>\n",
       "      <td>126.820000</td>\n",
       "    </tr>\n",
       "    <tr>\n",
       "      <th>75%</th>\n",
       "      <td>8.419720e+10</td>\n",
       "      <td>6.017250e+09</td>\n",
       "      <td>0.109000</td>\n",
       "      <td>5.476225e+04</td>\n",
       "      <td>0.001482</td>\n",
       "      <td>0.177300</td>\n",
       "      <td>0.310375</td>\n",
       "      <td>0.386175</td>\n",
       "      <td>0.093100</td>\n",
       "      <td>0.478200</td>\n",
       "      <td>0.302250</td>\n",
       "      <td>0.472350</td>\n",
       "      <td>0.057700</td>\n",
       "      <td>0.324050</td>\n",
       "      <td>0.371450</td>\n",
       "      <td>239.190000</td>\n",
       "    </tr>\n",
       "    <tr>\n",
       "      <th>max</th>\n",
       "      <td>3.670721e+12</td>\n",
       "      <td>1.495470e+11</td>\n",
       "      <td>1.632000</td>\n",
       "      <td>2.100000e+06</td>\n",
       "      <td>0.064589</td>\n",
       "      <td>1.722800</td>\n",
       "      <td>3.093900</td>\n",
       "      <td>1.427200</td>\n",
       "      <td>1.065900</td>\n",
       "      <td>4.311000</td>\n",
       "      <td>7.200500</td>\n",
       "      <td>1.900200</td>\n",
       "      <td>1.071300</td>\n",
       "      <td>2.461000</td>\n",
       "      <td>3.604300</td>\n",
       "      <td>8946.330000</td>\n",
       "    </tr>\n",
       "  </tbody>\n",
       "</table>\n",
       "</div>"
      ],
      "text/plain": [
       "          marketcap        ebitda  revenuegrowth  fulltimeemployees  \\\n",
       "count  5.030000e+02  4.740000e+02     500.000000       4.940000e+02   \n",
       "mean   1.129853e+11  7.031397e+09       0.070484       5.774496e+04   \n",
       "std    3.399129e+11  1.622777e+10       0.180071       1.394693e+05   \n",
       "min    5.637307e+09 -3.991000e+09      -0.602000       2.800000e+01   \n",
       "25%    2.036663e+10  1.623194e+09       0.002000       1.020000e+04   \n",
       "50%    3.803281e+10  2.941705e+09       0.050000       2.159500e+04   \n",
       "75%    8.419720e+10  6.017250e+09       0.109000       5.476225e+04   \n",
       "max    3.670721e+12  1.495470e+11       1.632000       2.100000e+06   \n",
       "\n",
       "           weight     ar_2015     ar_2016     ar_2017     ar_2018     ar_2019  \\\n",
       "count  503.000000  475.000000  480.000000  482.000000  485.000000  491.000000   \n",
       "mean     0.001988    0.045306    0.197734    0.258852   -0.034976    0.352786   \n",
       "std      0.005981    0.253423    0.277769    0.260448    0.225112    0.317066   \n",
       "min      0.000099   -0.753000   -0.710600   -0.430800   -0.576200   -0.543300   \n",
       "25%      0.000358   -0.107050    0.047800    0.094325   -0.192900    0.185550   \n",
       "50%      0.000669    0.040700    0.177950    0.223250   -0.037800    0.328700   \n",
       "75%      0.001482    0.177300    0.310375    0.386175    0.093100    0.478200   \n",
       "max      0.064589    1.722800    3.093900    1.427200    1.065900    4.311000   \n",
       "\n",
       "          ar_2020     ar_2021     ar_2022     ar_2023     ar_2024  \\\n",
       "count  495.000000  495.000000  497.000000  499.000000  503.000000   \n",
       "mean     0.192008    0.328778   -0.085353    0.195019    0.215239   \n",
       "std      0.548745    0.295113    0.279833    0.356690    0.382605   \n",
       "min     -0.580300   -0.350500   -0.710700   -0.480700   -0.652500   \n",
       "25%     -0.051000    0.131250   -0.266900   -0.028700    0.004500   \n",
       "50%      0.123900    0.306900   -0.114600    0.127500    0.167400   \n",
       "75%      0.302250    0.472350    0.057700    0.324050    0.371450   \n",
       "max      7.200500    1.900200    1.071300    2.461000    3.604300   \n",
       "\n",
       "       currentprice  \n",
       "count    503.000000  \n",
       "mean     230.293300  \n",
       "std      521.997583  \n",
       "min        8.560000  \n",
       "25%       71.545000  \n",
       "50%      126.820000  \n",
       "75%      239.190000  \n",
       "max     8946.330000  "
      ]
     },
     "execution_count": 48,
     "metadata": {},
     "output_type": "execute_result"
    }
   ],
   "source": [
    "definitive.describe()"
   ]
  },
  {
   "cell_type": "code",
   "execution_count": 50,
   "metadata": {},
   "outputs": [
    {
     "data": {
      "text/plain": [
       "count     503.000000\n",
       "mean      230.293300\n",
       "std       521.997583\n",
       "min         8.560000\n",
       "25%        71.545000\n",
       "50%       126.820000\n",
       "75%       239.190000\n",
       "max      8946.330000\n",
       "Name: currentprice, dtype: float64"
      ]
     },
     "execution_count": 50,
     "metadata": {},
     "output_type": "execute_result"
    }
   ],
   "source": [
    "definitive['currentprice'].describe()"
   ]
  },
  {
   "cell_type": "markdown",
   "metadata": {},
   "source": [
    "<h3 style=\"color: #4169E1;\"> 3.2 | Univariate Analysis </h3>"
   ]
  },
  {
   "cell_type": "code",
   "execution_count": null,
   "metadata": {},
   "outputs": [],
   "source": []
  },
  {
   "cell_type": "markdown",
   "metadata": {},
   "source": [
    "**Insights** from Summary Statistics for 'SalePrice':\n",
    "\n",
    "- The average (mean) sale price of the houses in the dataset is approximately `$180.921`.\n",
    "\n",
    "- The median sale price (middle value when sorted) stands at `$163.000`. Notably, the median is lower than the mean, suggesting a skew in the distribution of sale prices towards higher values.\n",
    "\n",
    "- The standard deviation, a measure of the amount of variation or dispersion in the sale prices, is approximately `$79.442`. This indicates that sale prices can vary significantly from the average.\n",
    "\n",
    "- The minimum and maximum sale prices are `$34.900` and `$755.000`, respectively, highlighting a wide range of property values in the dataset.\n",
    "\n",
    "- The interquartile range (IQR), given by the values at 25% (Q1) and 75% (Q3), is between `$129.975` and `$214.000`. This means that 50% of the houses in the dataset were sold within this price range."
   ]
  },
  {
   "cell_type": "code",
   "execution_count": 51,
   "metadata": {},
   "outputs": [],
   "source": [
    "frequency_table = cat.sector.value_counts()\n",
    "proportion_table = cat.sector.value_counts(normalize=True)"
   ]
  },
  {
   "cell_type": "code",
   "execution_count": 52,
   "metadata": {},
   "outputs": [],
   "source": [
    "frequency_proportion = pd.concat([frequency_table,proportion_table], axis = 1)\n",
    "frequency_proportion.columns = ['absolute_frequency', 'relative_frequency']"
   ]
  },
  {
   "cell_type": "code",
   "execution_count": 53,
   "metadata": {},
   "outputs": [],
   "source": [
    "total_absolute = frequency_table.sum()\n",
    "total_relative = proportion_table.sum()\n"
   ]
  },
  {
   "cell_type": "code",
   "execution_count": 54,
   "metadata": {},
   "outputs": [],
   "source": [
    "total_row = pd.DataFrame({\n",
    "    'absolute_frequency': [total_absolute],\n",
    "    'relative_frequency': [total_relative]\n",
    "}, index=['Total'])"
   ]
  },
  {
   "cell_type": "code",
   "execution_count": 55,
   "metadata": {},
   "outputs": [
    {
     "data": {
      "text/html": [
       "<div>\n",
       "<style scoped>\n",
       "    .dataframe tbody tr th:only-of-type {\n",
       "        vertical-align: middle;\n",
       "    }\n",
       "\n",
       "    .dataframe tbody tr th {\n",
       "        vertical-align: top;\n",
       "    }\n",
       "\n",
       "    .dataframe thead th {\n",
       "        text-align: right;\n",
       "    }\n",
       "</style>\n",
       "<table border=\"1\" class=\"dataframe\">\n",
       "  <thead>\n",
       "    <tr style=\"text-align: right;\">\n",
       "      <th></th>\n",
       "      <th>absolute_frequency</th>\n",
       "      <th>relative_frequency</th>\n",
       "    </tr>\n",
       "  </thead>\n",
       "  <tbody>\n",
       "    <tr>\n",
       "      <th>Technology</th>\n",
       "      <td>82</td>\n",
       "      <td>0.163022</td>\n",
       "    </tr>\n",
       "    <tr>\n",
       "      <th>Industrials</th>\n",
       "      <td>70</td>\n",
       "      <td>0.139165</td>\n",
       "    </tr>\n",
       "    <tr>\n",
       "      <th>Financial Services</th>\n",
       "      <td>67</td>\n",
       "      <td>0.133201</td>\n",
       "    </tr>\n",
       "    <tr>\n",
       "      <th>Healthcare</th>\n",
       "      <td>63</td>\n",
       "      <td>0.125249</td>\n",
       "    </tr>\n",
       "    <tr>\n",
       "      <th>Consumer Cyclical</th>\n",
       "      <td>55</td>\n",
       "      <td>0.109344</td>\n",
       "    </tr>\n",
       "    <tr>\n",
       "      <th>Consumer Defensive</th>\n",
       "      <td>37</td>\n",
       "      <td>0.073559</td>\n",
       "    </tr>\n",
       "    <tr>\n",
       "      <th>Utilities</th>\n",
       "      <td>32</td>\n",
       "      <td>0.063618</td>\n",
       "    </tr>\n",
       "    <tr>\n",
       "      <th>Real Estate</th>\n",
       "      <td>31</td>\n",
       "      <td>0.061630</td>\n",
       "    </tr>\n",
       "    <tr>\n",
       "      <th>Communication Services</th>\n",
       "      <td>22</td>\n",
       "      <td>0.043738</td>\n",
       "    </tr>\n",
       "    <tr>\n",
       "      <th>Energy</th>\n",
       "      <td>22</td>\n",
       "      <td>0.043738</td>\n",
       "    </tr>\n",
       "    <tr>\n",
       "      <th>Basic Materials</th>\n",
       "      <td>22</td>\n",
       "      <td>0.043738</td>\n",
       "    </tr>\n",
       "    <tr>\n",
       "      <th>Total</th>\n",
       "      <td>503</td>\n",
       "      <td>1.000000</td>\n",
       "    </tr>\n",
       "  </tbody>\n",
       "</table>\n",
       "</div>"
      ],
      "text/plain": [
       "                        absolute_frequency  relative_frequency\n",
       "Technology                              82            0.163022\n",
       "Industrials                             70            0.139165\n",
       "Financial Services                      67            0.133201\n",
       "Healthcare                              63            0.125249\n",
       "Consumer Cyclical                       55            0.109344\n",
       "Consumer Defensive                      37            0.073559\n",
       "Utilities                               32            0.063618\n",
       "Real Estate                             31            0.061630\n",
       "Communication Services                  22            0.043738\n",
       "Energy                                  22            0.043738\n",
       "Basic Materials                         22            0.043738\n",
       "Total                                  503            1.000000"
      ]
     },
     "execution_count": 55,
     "metadata": {},
     "output_type": "execute_result"
    }
   ],
   "source": [
    "df3 = pd.concat([frequency_proportion, total_row])\n",
    "df3"
   ]
  },
  {
   "cell_type": "code",
   "execution_count": 56,
   "metadata": {},
   "outputs": [
    {
     "name": "stderr",
     "output_type": "stream",
     "text": [
      "/var/folders/bs/hzz4qdm57z9cct0t_9rdynfr0000gn/T/ipykernel_1627/3055570902.py:1: FutureWarning: \n",
      "\n",
      "Passing `palette` without assigning `hue` is deprecated and will be removed in v0.14.0. Assign the `x` variable to `hue` and set `legend=False` for the same effect.\n",
      "\n",
      "  sns.barplot(\n"
     ]
    },
    {
     "data": {
      "image/png": "[encoded data removed]",
      "text/plain": [
       "<Figure size 640x480 with 1 Axes>"
      ]
     },
     "metadata": {},
     "output_type": "display_data"
    }
   ],
   "source": [
    "sns.barplot(\n",
    "    x='sector',\n",
    "    y='absolute_frequency',\n",
    "    data=frequency_proportion,\n",
    "    palette='viridis',\n",
    ")\n",
    "plt.ylabel('Count')\n",
    "plt.xticks(rotation=45, ha='right')\n",
    "plt.show()"
   ]
  },
  {
   "cell_type": "markdown",
   "metadata": {},
   "source": [
    "The frequency table gives the count of each sector, while the proportion table provides the percentage representation of each category in the dataset. This helps to quickly identify dominant and minority categories. Such as:\n",
    "- Technology: 16% \n",
    "- Industrials: 14% \n",
    "- Financial Services: 13% \n",
    "- Healthcare: 12% \n",
    "- Consumer Cyclical: 10% "
   ]
  },
  {
   "cell_type": "code",
   "execution_count": 57,
   "metadata": {},
   "outputs": [
    {
     "data": {
      "text/plain": [
       "count     503.000000\n",
       "mean      230.293300\n",
       "std       521.997583\n",
       "min         8.560000\n",
       "25%        71.545000\n",
       "50%       126.820000\n",
       "75%       239.190000\n",
       "max      8946.330000\n",
       "Name: currentprice, dtype: float64"
      ]
     },
     "execution_count": 57,
     "metadata": {},
     "output_type": "execute_result"
    }
   ],
   "source": [
    "definitive['currentprice'].describe()"
   ]
  },
  {
   "cell_type": "markdown",
   "metadata": {},
   "source": [
    "**Insights** from Summary Statistics for `currentprice`:\n",
    "\n",
    "- The average (**mean**) sale price of the stock in the dataset is approximately **$230.29**. This represents the central tendency of the prices.\n",
    "\n",
    "- The **median** sale price is **$126.82**. Notably, the median is significantly lower than the mean, suggesting that the distribution of stock prices is skewed towards higher values (positively-skewed).\n",
    "\n",
    "- The **standard deviation**, which measures the variation or spread of prices, is **$521.99**. This large value indicates a high level of variability in stock prices, suggesting that prices are widely dispersed from the mean.\n",
    "\n",
    "- The **minimum** and **maximum** prices are **$8.56** and **$8946.33**, respectively. This extreme range highlights that the dataset includes stocks with both very low and very high prices.\n",
    "\n",
    "- The **interquartile range (IQR)**, representing the middle 50% of the prices, lies between $71.54 (Q1) and $239.19 (Q3). This means that 50% of the stock prices fall within this range, providing a clearer picture of the typical stock price distribution without being influenced by outliers.\n",
    "\n",
    "**Additional Note:**\n",
    "The significant difference between the mean and median, combined with the large standard deviation, suggests the presence of outliers or high-value stocks that push the mean upwards. This highlights the importance of focusing on the IQR for understanding the core stock price range."
   ]
  },
  {
   "cell_type": "code",
   "execution_count": 64,
   "metadata": {},
   "outputs": [
    {
     "data": {
      "text/plain": [
       "11.81"
      ]
     },
     "execution_count": 64,
     "metadata": {},
     "output_type": "execute_result"
    }
   ],
   "source": [
    "definitive.currentprice.skew().round(2)"
   ]
  },
  {
   "cell_type": "code",
   "execution_count": 65,
   "metadata": {},
   "outputs": [
    {
     "data": {
      "text/plain": [
       "174.88"
      ]
     },
     "execution_count": 65,
     "metadata": {},
     "output_type": "execute_result"
    }
   ],
   "source": [
    "\n",
    "definitive.currentprice.kurtosis().round(2)"
   ]
  },
  {
   "cell_type": "code",
   "execution_count": 62,
   "metadata": {},
   "outputs": [
    {
     "data": {
      "text/plain": [
       "(0.0, 2100.0)"
      ]
     },
     "execution_count": 62,
     "metadata": {},
     "output_type": "execute_result"
    },
    {
     "data": {
      "image/png": "[encoded data removed]",
      "text/plain": [
       "<Figure size 1280x800 with 1 Axes>"
      ]
     },
     "metadata": {},
     "output_type": "display_data"
    }
   ],
   "source": [
    "d2 = sns.displot(data=definitive, x='currentprice', kde=True, height=8, aspect=1.6, bins=100, binrange=(0, 2100), color='mediumpurple')\n",
    "d2.set(xlabel='Current Price')\n",
    "plt.xlim(0, 2100)"
   ]
  },
  {
   "cell_type": "markdown",
   "metadata": {},
   "source": [
    "- Skewness of `currentprice`: \\(11.81\\)\n",
    "- Kurtosis of `currentprice`: \\(174.88\\)\n",
    "\n",
    "**Insights**:\n",
    "\n",
    "1. **Skewness**: The positive value of skewness 11.81 for the 'currentprice' indicates that the distribution is right-skewed. This means that the tail on the right side (higher prices) is longer than the left side (lower prices). In practical terms, this suggests that there are a significant number of stocks that have higher prices, which are acting as outliers and pulling the mean upwards.\n",
    "  \n",
    "2. **Kurtosis**: The kurtosis value of 174.88 indicates that the 'currentprice' distribution has heavier tails and a sharper peak compared to a normal distribution. This means that there are more outliers (extreme values) in the 'currentprice' than one would expect in a normally distributed set."
   ]
  },
  {
   "cell_type": "code",
   "execution_count": null,
   "metadata": {},
   "outputs": [],
   "source": [
    "# Found out in Kaggle related notebooks. \n",
    "f = {'revenuegrowth':['mean'], 'marketcap':['sum'], 'shortname':['count']}\n",
    "\n",
    "sector_breakdown = definitive.groupby('sector').agg(f)\n",
    "sector_breakdown.columns = sector_breakdown.columns.get_level_values(0)\n",
    "sector_breakdown = sector_breakdown.reset_index()\n",
    "sector_breakdown = sector_breakdown.sort_values('shortname', ascending=False)\n",
    "\n",
    "fig = plt.figure(num=None, figsize=(12, 6), dpi=100, facecolor='w', edgecolor='k')\n",
    "\n",
    "plt.subplot(1, 3, 1)\n",
    "ax1 = sns.barplot(x=\"shortname\", y=\"sector\", data=sector_breakdown, palette=('coolwarm'))\n",
    "ax1.set_xlabel('Number of companies', weight='bold')\n",
    "ax1.set_ylabel('sector', weight = 'bold')\n",
    "ax1.set_title('SECTOR BREAKDOWN\\n', weight='bold').set_fontsize('18')\n",
    "\n",
    "plt.subplot(1, 3, 2)\n",
    "ax2 = sns.barplot(x=\"marketcap\", y=\"sector\", data=sector_breakdown, palette=('Wistia'))\n",
    "ax2.set_xlabel('Total Market Cap', weight='bold')\n",
    "ax2.set_ylabel('')\n",
    "ax2.set_yticks([])\n",
    "\n",
    "plt.subplot(1, 3, 3)\n",
    "ax2 = sns.barplot(x=\"revenuegrowth\", y=\"sector\", data=sector_breakdown, palette=('OrRd_r'))\n",
    "ax2.set_xlabel('Revenue Growth', weight='bold')\n",
    "ax2.set_ylabel('')\n",
    "ax2.set_yticks([])\n",
    "\n",
    "sns.despine()\n",
    "plt.tight_layout();"
   ]
  },
  {
   "cell_type": "code",
   "execution_count": null,
   "metadata": {},
   "outputs": [],
   "source": [
    "round(definitive.groupby('sector')['revenuegrowth'].agg(['mean', 'median', 'count', 'max']), 2)"
   ]
  },
  {
   "cell_type": "markdown",
   "metadata": {},
   "source": [
    "### Which is the leading sector in S&P 500: \n",
    "\n",
    "Analysis: \n",
    "\n",
    "- The **Technology** sector stands out in the number of companies and total market cap. \n",
    "- On the other hand, **Financial Services** sector has the stocks with the most revenue growth. \n",
    "- The **Energy** sector has the least Number of companies and Revenue Growth. "
   ]
  },
  {
   "cell_type": "code",
   "execution_count": 47,
   "metadata": {},
   "outputs": [],
   "source": [
    "tech = definitive[definitive['sector'] == 'Technology']\n",
    "indus = definitive[definitive['sector'] == 'Industrials']\n",
    "fin = definitive[definitive['sector'] == 'Financial Services']\n",
    "health = definitive[definitive['sector'] == 'Healthcare']\n",
    "consumer = definitive[definitive['sector'] == 'Consumer Cyclical']"
   ]
  },
  {
   "cell_type": "code",
   "execution_count": null,
   "metadata": {},
   "outputs": [],
   "source": [
    "annual_returns = definitive.groupby('sector')[['ar_2015', 'ar_2016', 'ar_2017','ar_2018', 'ar_2019', 'ar_2020','ar_2021','ar_2022','ar_2023','ar_2024' ]].agg(['mean']).round(4)\n",
    "annual_returns"
   ]
  },
  {
   "cell_type": "code",
   "execution_count": null,
   "metadata": {},
   "outputs": [],
   "source": [
    "plt.figure(figsize=(9, 7)) \n",
    "sns.heatmap(annual_returns, annot=True, cmap=\"BuPu\", fmt=\".3f\")\n",
    "plt.show()"
   ]
  },
  {
   "cell_type": "markdown",
   "metadata": {},
   "source": [
    "### Annual Return sector in S&P 500: \n",
    "\n",
    "Calculated the annual return for each sector from 2015 to 2014, analyzing the performance trends across different industries over time.\n",
    "Observations: \n",
    "\n",
    "- The **Energy** sector stands out in 2021 being the highest anual return. \n",
    "- On the other hand, **Technology** sector has the most recurrent annual return. "
   ]
  },
  {
   "cell_type": "code",
   "execution_count": 50,
   "metadata": {},
   "outputs": [],
   "source": [
    "sorted_df = defi.sort_values(by=2024, ascending=False)\n",
    "sorted_df = sorted_df.reset_index()\n",
    "sorted_df.columns.name = None"
   ]
  },
  {
   "cell_type": "code",
   "execution_count": null,
   "metadata": {},
   "outputs": [],
   "source": [
    "sorted_df"
   ]
  },
  {
   "cell_type": "code",
   "execution_count": null,
   "metadata": {},
   "outputs": [],
   "source": [
    "sorted_df[sorted_df['symbol'] == 'SP500']"
   ]
  },
  {
   "cell_type": "code",
   "execution_count": 53,
   "metadata": {},
   "outputs": [],
   "source": [
    "sample_symbols = ['AAPL', 'MSFT','CAT','GE', 'MA','JPM','LLY','UNH','AMZN','MCD', 'SP500']\n",
    "sample_df = sorted_df[sorted_df['symbol'].isin(sample_symbols)]"
   ]
  },
  {
   "cell_type": "code",
   "execution_count": 86,
   "metadata": {},
   "outputs": [],
   "source": [
    "sample_symbols2 = ['AAPL','CAT','MA','LLY','MCD','SP500']\n",
    "sample_df2 = sorted_df[sorted_df['symbol'].isin(sample_symbols2)]"
   ]
  },
  {
   "cell_type": "code",
   "execution_count": 89,
   "metadata": {},
   "outputs": [],
   "source": [
    "sample_symbols3 = ['AAPL','LLY','MCD','SP500']\n",
    "sample_df3 = sorted_df[sorted_df['symbol'].isin(sample_symbols3)]"
   ]
  },
  {
   "cell_type": "code",
   "execution_count": null,
   "metadata": {},
   "outputs": [],
   "source": [
    "definitive.sample(10)"
   ]
  },
  {
   "cell_type": "code",
   "execution_count": 95,
   "metadata": {},
   "outputs": [],
   "source": [
    "sample_symbols4 = ['AMZN','PEP','NKE','SP500']\n",
    "sample_df4 = sorted_df[sorted_df['symbol'].isin(sample_symbols4)]"
   ]
  },
  {
   "cell_type": "code",
   "execution_count": 104,
   "metadata": {},
   "outputs": [],
   "source": [
    "sample_symbols5 = ['MSFT','PEP','NKE','SP500','JPM']\n",
    "sample_df5 = sorted_df[sorted_df['symbol'].isin(sample_symbols5)]"
   ]
  },
  {
   "cell_type": "code",
   "execution_count": null,
   "metadata": {},
   "outputs": [],
   "source": [
    "sample_df"
   ]
  },
  {
   "cell_type": "code",
   "execution_count": null,
   "metadata": {},
   "outputs": [],
   "source": [
    "sample_df2"
   ]
  },
  {
   "cell_type": "code",
   "execution_count": null,
   "metadata": {},
   "outputs": [],
   "source": [
    "sample_df.set_index('symbol')"
   ]
  },
  {
   "cell_type": "code",
   "execution_count": null,
   "metadata": {},
   "outputs": [],
   "source": []
  },
  {
   "cell_type": "code",
   "execution_count": null,
   "metadata": {},
   "outputs": [],
   "source": [
    "import matplotlib.pyplot as plt\n",
    "\n",
    "# Plot line graph directly\n",
    "plt.figure(figsize=(16, 9))\n",
    "\n",
    "# Iterate over each row (symbol) in the DataFrame\n",
    "for index, row in df_normalized.iterrows():\n",
    "    plt.plot(df_normalized.columns[1:], row[1:], marker='o', label=row['symbol'])\n",
    "\n",
    "# Add titles and labels\n",
    "plt.title(\"Metrics across Different Years\", fontsize=13)\n",
    "plt.ylabel(\"Normalized Metric Value\", fontsize=10)\n",
    "plt.xlabel(\"Year\", fontsize=10)\n",
    "plt.xticks(rotation=45, fontsize=8, ha='right')\n",
    "plt.yticks(fontsize=8)\n",
    "plt.grid(axis='x', linestyle=\"--\", alpha=0.7)\n",
    "plt.legend(title=\"Symbols\", fontsize=8)\n",
    "plt.tight_layout()\n",
    "\n",
    "# Show plot\n",
    "plt.show()\n"
   ]
  },
  {
   "cell_type": "code",
   "execution_count": null,
   "metadata": {},
   "outputs": [],
   "source": [
    "import matplotlib.pyplot as plt\n",
    "\n",
    "# Plot line graph directly\n",
    "plt.figure(figsize=(16, 9))\n",
    "df_normalized2 = sample_df2.copy()\n",
    "# Iterate over each row (symbol) in the DataFrame\n",
    "for index, row in df_normalized2.iterrows():\n",
    "    plt.plot(df_normalized2.columns[1:], row[1:], marker='o', label=row['symbol'])\n",
    "\n",
    "# Add titles and labels\n",
    "plt.title(\"Metrics across Different Years\", fontsize=13)\n",
    "plt.ylabel(\"Normalized Metric Value\", fontsize=10)\n",
    "plt.xlabel(\"Year\", fontsize=10)\n",
    "plt.xticks(rotation=45, fontsize=8, ha='right')\n",
    "plt.yticks(fontsize=8)\n",
    "plt.grid(axis='x', linestyle=\"--\", alpha=0.7)\n",
    "plt.legend(title=\"Symbols\", fontsize=8)\n",
    "plt.tight_layout()\n",
    "\n",
    "# Show plot\n",
    "plt.show()\n"
   ]
  },
  {
   "cell_type": "code",
   "execution_count": null,
   "metadata": {},
   "outputs": [],
   "source": [
    "import matplotlib.pyplot as plt\n",
    "\n",
    "# Plot line graph directly\n",
    "plt.figure(figsize=(16, 9))\n",
    "df_normalized2 = sample_df4.copy()\n",
    "# Iterate over each row (symbol) in the DataFrame\n",
    "for index, row in df_normalized2.iterrows():\n",
    "    plt.plot(df_normalized2.columns[1:], row[1:], marker='o', label=row['symbol'])\n",
    "\n",
    "# Add titles and labels\n",
    "plt.title(\"Metrics across Different Years\", fontsize=13)\n",
    "plt.ylabel(\"Normalized Metric Value\", fontsize=10)\n",
    "plt.xlabel(\"Year\", fontsize=10)\n",
    "plt.xticks(rotation=45, fontsize=8, ha='right')\n",
    "plt.yticks(fontsize=8)\n",
    "plt.grid(axis='x', linestyle=\"--\", alpha=0.7)\n",
    "plt.legend(title=\"Symbols\", fontsize=8)\n",
    "plt.tight_layout()\n",
    "\n",
    "# Show plot\n",
    "plt.show()"
   ]
  },
  {
   "cell_type": "code",
   "execution_count": null,
   "metadata": {},
   "outputs": [],
   "source": [
    "sample_df4"
   ]
  },
  {
   "cell_type": "code",
   "execution_count": null,
   "metadata": {},
   "outputs": [],
   "source": [
    "import matplotlib.pyplot as plt\n",
    "\n",
    "# Plot line graph directly\n",
    "plt.figure(figsize=(16, 9))\n",
    "df_normalized2 = sample_df5.copy()\n",
    "# Iterate over each row (symbol) in the DataFrame\n",
    "for index, row in df_normalized2.iterrows():\n",
    "    plt.plot(df_normalized2.columns[1:], row[1:], marker='o', label=row['symbol'])\n",
    "\n",
    "# Add titles and labels\n",
    "plt.title(\"Metrics across Different Years\", fontsize=13)\n",
    "plt.ylabel(\"Normalized Metric Value\", fontsize=10)\n",
    "plt.xlabel(\"Year\", fontsize=10)\n",
    "plt.xticks(rotation=45, fontsize=8, ha='right')\n",
    "plt.yticks(fontsize=8)\n",
    "plt.grid(axis='x', linestyle=\"--\", alpha=0.7)\n",
    "plt.legend(title=\"Symbols\", fontsize=8)\n",
    "plt.tight_layout()\n",
    "\n",
    "# Show plot\n",
    "plt.show()"
   ]
  },
  {
   "cell_type": "code",
   "execution_count": null,
   "metadata": {},
   "outputs": [],
   "source": [
    "sample_df5"
   ]
  },
  {
   "cell_type": "markdown",
   "metadata": {},
   "source": [
    "### Annual Return 2024 stocks vs S&P 500: \n",
    "\n",
    "Calculated the annual return for each sector from 2015 to 2014, analyzing the performance trends across different industries over time.\n",
    "Observations: \n",
    "\n",
    "- The **Energy** sector stands out in 2021 being the highest anual return. \n",
    "- On the other hand, **Technology** sector has the most recurrent annual return. "
   ]
  },
  {
   "cell_type": "markdown",
   "metadata": {},
   "source": [
    "<h3 style=\"color: #4169E1;\"> 3.2 | Checking Distributions</h3>"
   ]
  },
  {
   "cell_type": "code",
   "execution_count": 59,
   "metadata": {},
   "outputs": [
    {
     "data": {
      "image/png": "[encoded data removed]",
      "text/plain": [
       "<Figure size 2000x1600 with 20 Axes>"
      ]
     },
     "metadata": {},
     "output_type": "display_data"
    }
   ],
   "source": [
    "color = '#9370DB'\n",
    "\n",
    "nrows, ncols = 5, 4 \n",
    "\n",
    "fig, axes = plt.subplots(nrows=nrows, ncols=ncols, figsize=(20, 16))\n",
    "\n",
    "axes = axes.flatten()\n",
    "\n",
    "for i, ax in enumerate(axes):\n",
    "    if i >= len(num.columns):\n",
    "        ax.set_visible(False)  # hide unesed plots\n",
    "        continue\n",
    "    ax.hist(num.iloc[:, i], bins=30, color=color, edgecolor='black')\n",
    "    ax.set_title(num.columns[i])\n",
    "\n",
    "plt.tight_layout()\n",
    "plt.show()"
   ]
  },
  {
   "cell_type": "markdown",
   "metadata": {},
   "source": [
    "<h3 style=\"color: #4169E1;\"> 3.3 | Checking our target distribution</h3>"
   ]
  },
  {
   "cell_type": "code",
   "execution_count": 60,
   "metadata": {},
   "outputs": [
    {
     "data": {
      "image/png": "[encoded data removed]",
      "text/plain": [
       "<Figure size 640x480 with 1 Axes>"
      ]
     },
     "metadata": {},
     "output_type": "display_data"
    }
   ],
   "source": [
    "# Without the filter 650.000 and taking out the outliers. \n",
    "sns.histplot(definitive[\"currentprice\"], color=color, kde=True);"
   ]
  },
  {
   "cell_type": "code",
   "execution_count": 61,
   "metadata": {},
   "outputs": [
    {
     "data": {
      "text/plain": [
       "(0.0, 2100.0)"
      ]
     },
     "execution_count": 61,
     "metadata": {},
     "output_type": "execute_result"
    },
    {
     "data": {
      "image/png": "[encoded data removed]",
      "text/plain": [
       "<Figure size 1280x800 with 1 Axes>"
      ]
     },
     "metadata": {},
     "output_type": "display_data"
    }
   ],
   "source": [
    "d2 = sns.displot(data=definitive, x='currentprice', kde=True, height=8, aspect=1.6, bins=100, binrange=(0, 2100), color='mediumpurple')\n",
    "d2.set(xlabel='Current Price')\n",
    "plt.xlim(0, 2100)"
   ]
  },
  {
   "cell_type": "code",
   "execution_count": null,
   "metadata": {},
   "outputs": [],
   "source": [
    "#pearson \n",
    "num.corrwith(definitive['currentprice']).sort_values(ascending=False)"
   ]
  },
  {
   "cell_type": "code",
   "execution_count": null,
   "metadata": {},
   "outputs": [],
   "source": [
    "#Spearman\n",
    "num.corrwith(df['currentprice'], method='spearman').sort_values(ascending=False)[:5]"
   ]
  },
  {
   "cell_type": "code",
   "execution_count": null,
   "metadata": {},
   "outputs": [],
   "source": []
  },
  {
   "cell_type": "markdown",
   "metadata": {},
   "source": [
    "<h3 style=\"color: #4169E1;\">3.4 | Checking Outliers </h3>"
   ]
  },
  {
   "cell_type": "code",
   "execution_count": null,
   "metadata": {},
   "outputs": [],
   "source": [
    "color = '#9370DB'\n",
    "\n",
    "# grid size\n",
    "nrows, ncols = 5, 4 \n",
    "\n",
    "fig, axes = plt.subplots(nrows=nrows, ncols=ncols, figsize=(20, 16))\n",
    "\n",
    "axes = axes.flatten()\n",
    "\n",
    "for i, ax in enumerate(axes):\n",
    "    if i >= len(num.columns):\n",
    "        ax.set_visible(False)\n",
    "        continue\n",
    "    ax.boxplot(num.iloc[:, i].dropna(), vert=False, patch_artist=True, \n",
    "               boxprops=dict(facecolor=color, color='black'), \n",
    "               medianprops=dict(color='yellow'), whiskerprops=dict(color='black'), \n",
    "               capprops=dict(color='black'), flierprops=dict(marker='o', color='red', markersize=5))\n",
    "    ax.set_title(num.columns[i], fontsize=10)\n",
    "    ax.tick_params(axis='x', labelsize=8)\n",
    "\n",
    "plt.tight_layout()\n",
    "plt.show()"
   ]
  },
  {
   "cell_type": "markdown",
   "metadata": {},
   "source": [
    "<h3 style=\"color: #4169E1;\">3.5 | Looking for Correlations </h3>"
   ]
  },
  {
   "cell_type": "code",
   "execution_count": null,
   "metadata": {},
   "outputs": [],
   "source": [
    "num_corr = num.corr()\n",
    "num_corr"
   ]
  },
  {
   "cell_type": "code",
   "execution_count": null,
   "metadata": {},
   "outputs": [],
   "source": [
    "# Correlation Matrix-Heatmap Plot\n",
    "mask = np.zeros_like(num_corr)\n",
    "mask[np.triu_indices_from(mask)] = True \n",
    "f, ax = plt.subplots(figsize=(20, 10))\n",
    "sns.set(font_scale=1.5)\n",
    "\n",
    "ax = sns.heatmap(num_corr, mask=mask, annot=True, annot_kws={\"size\": 12}, linewidths=.5, cmap=\"BuPu\", fmt=\".2f\", ax=ax) # round to 2 decimal places\n",
    "ax.set_title(\"Correlation Heatmap\", fontsize=20) "
   ]
  },
  {
   "cell_type": "code",
   "execution_count": null,
   "metadata": {},
   "outputs": [],
   "source": [
    "# Plotting scatter plots for each numerical column against 'currentprice' to visualize their relationships\n",
    "for col in num.columns:\n",
    "    plt.figure(figsize=(5, 5))\n",
    "    plt.title('Scatter plot of price vs ' + col)\n",
    "    sns.scatterplot(data=definitive, x=col, y='currentprice')\n",
    "    plt.show()"
   ]
  },
  {
   "cell_type": "markdown",
   "metadata": {},
   "source": [
    "We will use **one-way ANOVA** to determine if there is a statistically significant difference in **stock price** based on **sector**.\n",
    "\n",
    "#### Define Hypotheses\n",
    "- **Null Hypothesis (H₀)**: There is no difference in mean stock prices between sectors such as at **Technolgies**, **Industrials**, and **Finance** companies.\n",
    "- **Alternative Hypothesis (H₁)**: At least one group mean is different."
   ]
  },
  {
   "cell_type": "code",
   "execution_count": null,
   "metadata": {},
   "outputs": [],
   "source": [
    "# Not done. \n",
    "# Extract salaries for Data Scientists by company size\n",
    "df_small = df[(df[\"job_title\"] == \"Data Scientist\") & (df[\"company_size\"] == \"Small\")][\"salary_in_usd\"]\n",
    "df_medium = df[(df[\"job_title\"] == \"Data Scientist\") & (df[\"company_size\"] == \"Medium\")][\"salary_in_usd\"]\n",
    "df_large = df[(df[\"job_title\"] == \"Data Scientist\") & (df[\"company_size\"] == \"Large\")][\"salary_in_usd\"]"
   ]
  },
  {
   "cell_type": "code",
   "execution_count": null,
   "metadata": {},
   "outputs": [],
   "source": [
    "# Perform One-Way ANOVA\n",
    "f_stat, p_value = st.f_oneway(df_small, df_medium, df_large)\n",
    "print(f\"F-Statistic: {f_stat:.2f}\")\n",
    "print(f\"P-Value: {p_value:.4f}\")\n",
    "print()\n",
    "\n",
    "# Significance level\n",
    "alpha = 0.05\n",
    "\n",
    "# Decision-Making\n",
    "if p_value > alpha:\n",
    "    print(\"Fail to Reject the Null Hypothesis: Company size has no significant impact on data scientist salaries.\")\n",
    "else:\n",
    "    print(\"Reject the Null Hypothesis: There is a significant difference in salaries based on company size.\")"
   ]
  },
  {
   "cell_type": "markdown",
   "metadata": {},
   "source": [
    "<h2 style=\"color: #9370DB;\"> 04 | Data Processing </h2>"
   ]
  },
  {
   "cell_type": "markdown",
   "metadata": {},
   "source": [
    "<h3 style=\"color: #4169E1;\"> 4.1 | X-Y Split</h3>"
   ]
  },
  {
   "cell_type": "markdown",
   "metadata": {},
   "source": [
    "<h3 style=\"color: #4169E1;\"> 4.2 | Selecting the Model</h3>"
   ]
  },
  {
   "cell_type": "markdown",
   "metadata": {},
   "source": [
    "<h4 style=\"color: #00BFFF;\"> 4.2.1 | Selecting Model: Linear Regression </h4>"
   ]
  },
  {
   "cell_type": "markdown",
   "metadata": {},
   "source": [
    "<h4 style=\"color: #00BFFF;\"> 4.2.2 | Selecting Model: Ridge Regression </h4>"
   ]
  },
  {
   "cell_type": "markdown",
   "metadata": {},
   "source": [
    "<h4 style=\"color: #00BFFF;\"> 4.2.3 | Selecting Model: Lasso Regression </h4>"
   ]
  },
  {
   "cell_type": "markdown",
   "metadata": {},
   "source": [
    "<h4 style=\"color: #00BFFF;\"> 4.2.4 | Selecting Model: Decision Tree Regression </h4>"
   ]
  },
  {
   "cell_type": "markdown",
   "metadata": {},
   "source": [
    "<h4 style=\"color: #00BFFF;\"> 4.2.5 | Selecting Model: KNN Regression </h4>"
   ]
  },
  {
   "cell_type": "markdown",
   "metadata": {},
   "source": [
    "<h4 style=\"color: #00BFFF;\"> 4.2.6 | Selecting Model: XGBoost Regression </h4>"
   ]
  },
  {
   "cell_type": "markdown",
   "metadata": {},
   "source": [
    "<h3 style=\"color: #4169E1;\"> 4.3 | Final Comparision</h3>"
   ]
  },
  {
   "cell_type": "markdown",
   "metadata": {},
   "source": [
    "<h2 style=\"color: #9370DB;\"> 05 | Improving Model </h2>"
   ]
  },
  {
   "cell_type": "markdown",
   "metadata": {},
   "source": [
    "<h3 style=\"color: #4169E1;\"> 5.1 | Normalization with MinMaxScaler</h3>"
   ]
  },
  {
   "cell_type": "markdown",
   "metadata": {},
   "source": [
    "<h3 style=\"color: #4169E1;\"> 5.2 | Standardization with StandardScaler</h3>"
   ]
  },
  {
   "cell_type": "markdown",
   "metadata": {},
   "source": [
    "<h3 style=\"color: #4169E1;\"> 5.3 | Normzalization with Long Transform</h3>"
   ]
  },
  {
   "cell_type": "markdown",
   "metadata": {},
   "source": [
    "<h3 style=\"color: #4169E1;\"> 5.4 | Feature Engineering </h3>"
   ]
  },
  {
   "cell_type": "markdown",
   "metadata": {},
   "source": [
    "<h2 style=\"color: #9370DB;\"> 06 | Reporting </h2>"
   ]
  }
 ],
 "metadata": {
  "kernelspec": {
   "display_name": "base",
   "language": "python",
   "name": "python3"
  },
  "language_info": {
   "codemirror_mode": {
    "name": "ipython",
    "version": 3
   },
   "file_extension": ".py",
   "mimetype": "text/x-python",
   "name": "python",
   "nbconvert_exporter": "python",
   "pygments_lexer": "ipython3",
   "version": "3.12.4"
  }
 },
 "nbformat": 4,
 "nbformat_minor": 2
}
