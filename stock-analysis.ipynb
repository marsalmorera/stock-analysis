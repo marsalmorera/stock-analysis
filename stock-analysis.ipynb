{
 "cells": [
  {
   "cell_type": "markdown",
   "metadata": {},
   "source": [
    "<h1 style= \"color:#9370DB;\"> Stock Analysis </h1>"
   ]
  },
  {
   "cell_type": "code",
   "execution_count": 1,
   "metadata": {},
   "outputs": [],
   "source": [
    "# 📚 Libraries \n",
    "import kagglehub\n",
    "import pandas as pd\n",
    "import numpy as np\n",
    "import os\n",
    "\n",
    "# 📊 Visualizations\n",
    "import matplotlib.pyplot as plt\n",
    "import seaborn as sns\n",
    "import plotly.express as px\n",
    "import plotly.graph_objects as g\n",
    "\n",
    "# 🤖 Machine Learning\n",
    "from sklearn.model_selection import train_test_split\n",
    "from sklearn.linear_model import LinearRegression\n",
    "from sklearn.metrics import r2_score, mean_squared_error, mean_absolute_error "
   ]
  },
  {
   "cell_type": "markdown",
   "metadata": {},
   "source": [
    "**Goals**\n",
    "\n",
    "Investigate the performance of various sectors in the S&P 500. Analyze which sectors contribute the most to the index's overall performance and how they behave during market fluctuations. \n",
    "\n",
    " - Annual return by sector.\n",
    "- Identify high abnd low performing stocks among the S&P 500. \n"
   ]
  },
  {
   "cell_type": "markdown",
   "metadata": {},
   "source": [
    "<h2 style=\"color: #9370DB;\"> 01 | Data Extraction </h2>"
   ]
  },
  {
   "cell_type": "code",
   "execution_count": 2,
   "metadata": {},
   "outputs": [],
   "source": [
    "# Download latest version\n",
    "path = kagglehub.dataset_download(\"andrewmvd/sp-500-stocks\")"
   ]
  },
  {
   "cell_type": "code",
   "execution_count": 3,
   "metadata": {},
   "outputs": [
    {
     "name": "stdout",
     "output_type": "stream",
     "text": [
      "['sp500_stocks.csv', 'sp500_companies.csv', 'sp500_index.csv']\n"
     ]
    }
   ],
   "source": [
    "# Print all files in the dataset path\n",
    "print(os.listdir(path))"
   ]
  },
  {
   "cell_type": "code",
   "execution_count": 4,
   "metadata": {},
   "outputs": [],
   "source": [
    "csv_file_path = os.path.join(path, 'sp500_stocks.csv')\n",
    "csv_file_path2 = os.path.join(path, 'sp500_companies.csv')\n",
    "csv_file_path3 = os.path.join(path, 'sp500_index.csv')\n",
    "data = pd.read_csv(csv_file_path)\n",
    "df = pd.read_csv(csv_file_path2)\n",
    "sp = pd.read_csv(csv_file_path3)"
   ]
  },
  {
   "cell_type": "code",
   "execution_count": 5,
   "metadata": {},
   "outputs": [],
   "source": [
    "# Cleaning columns with snake_case \n",
    "data.columns = [col.lower().replace(\" \", \"_\")for col in data.columns] \n",
    "df.columns = [col.lower().replace(\" \", \"_\")for col in df.columns] \n",
    "sp.columns = [col.lower().replace(\" \", \"_\")for col in sp.columns] "
   ]
  },
  {
   "cell_type": "markdown",
   "metadata": {},
   "source": [
    "<h3 style=\"color: #4169E1;\">1.1 | Exploring the Data </h3>"
   ]
  },
  {
   "cell_type": "code",
   "execution_count": 6,
   "metadata": {},
   "outputs": [
    {
     "data": {
      "text/html": [
       "<div>\n",
       "<style scoped>\n",
       "    .dataframe tbody tr th:only-of-type {\n",
       "        vertical-align: middle;\n",
       "    }\n",
       "\n",
       "    .dataframe tbody tr th {\n",
       "        vertical-align: top;\n",
       "    }\n",
       "\n",
       "    .dataframe thead th {\n",
       "        text-align: right;\n",
       "    }\n",
       "</style>\n",
       "<table border=\"1\" class=\"dataframe\">\n",
       "  <thead>\n",
       "    <tr style=\"text-align: right;\">\n",
       "      <th></th>\n",
       "      <th>date</th>\n",
       "      <th>symbol</th>\n",
       "      <th>adj_close</th>\n",
       "      <th>close</th>\n",
       "      <th>high</th>\n",
       "      <th>low</th>\n",
       "      <th>open</th>\n",
       "      <th>volume</th>\n",
       "    </tr>\n",
       "  </thead>\n",
       "  <tbody>\n",
       "    <tr>\n",
       "      <th>168414</th>\n",
       "      <td>2021-08-24</td>\n",
       "      <td>ANET</td>\n",
       "      <td>23.528126</td>\n",
       "      <td>23.528126</td>\n",
       "      <td>23.540625</td>\n",
       "      <td>23.160625</td>\n",
       "      <td>23.232500</td>\n",
       "      <td>6459200.0</td>\n",
       "    </tr>\n",
       "    <tr>\n",
       "      <th>234825</th>\n",
       "      <td>2016-07-14</td>\n",
       "      <td>TECH</td>\n",
       "      <td>26.548103</td>\n",
       "      <td>27.969999</td>\n",
       "      <td>28.625000</td>\n",
       "      <td>27.930000</td>\n",
       "      <td>28.625000</td>\n",
       "      <td>1044400.0</td>\n",
       "    </tr>\n",
       "    <tr>\n",
       "      <th>1148365</th>\n",
       "      <td>2015-01-06</td>\n",
       "      <td>MA</td>\n",
       "      <td>78.130501</td>\n",
       "      <td>83.089996</td>\n",
       "      <td>83.779999</td>\n",
       "      <td>81.800003</td>\n",
       "      <td>83.660004</td>\n",
       "      <td>7690000.0</td>\n",
       "    </tr>\n",
       "  </tbody>\n",
       "</table>\n",
       "</div>"
      ],
      "text/plain": [
       "               date symbol  adj_close      close       high        low  \\\n",
       "168414   2021-08-24   ANET  23.528126  23.528126  23.540625  23.160625   \n",
       "234825   2016-07-14   TECH  26.548103  27.969999  28.625000  27.930000   \n",
       "1148365  2015-01-06     MA  78.130501  83.089996  83.779999  81.800003   \n",
       "\n",
       "              open     volume  \n",
       "168414   23.232500  6459200.0  \n",
       "234825   28.625000  1044400.0  \n",
       "1148365  83.660004  7690000.0  "
      ]
     },
     "execution_count": 6,
     "metadata": {},
     "output_type": "execute_result"
    }
   ],
   "source": [
    "data.sample(3)"
   ]
  },
  {
   "cell_type": "code",
   "execution_count": 7,
   "metadata": {},
   "outputs": [
    {
     "data": {
      "text/html": [
       "<div>\n",
       "<style scoped>\n",
       "    .dataframe tbody tr th:only-of-type {\n",
       "        vertical-align: middle;\n",
       "    }\n",
       "\n",
       "    .dataframe tbody tr th {\n",
       "        vertical-align: top;\n",
       "    }\n",
       "\n",
       "    .dataframe thead th {\n",
       "        text-align: right;\n",
       "    }\n",
       "</style>\n",
       "<table border=\"1\" class=\"dataframe\">\n",
       "  <thead>\n",
       "    <tr style=\"text-align: right;\">\n",
       "      <th></th>\n",
       "      <th>exchange</th>\n",
       "      <th>symbol</th>\n",
       "      <th>shortname</th>\n",
       "      <th>longname</th>\n",
       "      <th>sector</th>\n",
       "      <th>industry</th>\n",
       "      <th>currentprice</th>\n",
       "      <th>marketcap</th>\n",
       "      <th>ebitda</th>\n",
       "      <th>revenuegrowth</th>\n",
       "      <th>city</th>\n",
       "      <th>state</th>\n",
       "      <th>country</th>\n",
       "      <th>fulltimeemployees</th>\n",
       "      <th>longbusinesssummary</th>\n",
       "      <th>weight</th>\n",
       "    </tr>\n",
       "  </thead>\n",
       "  <tbody>\n",
       "    <tr>\n",
       "      <th>438</th>\n",
       "      <td>NMS</td>\n",
       "      <td>SWKS</td>\n",
       "      <td>Skyworks Solutions, Inc.</td>\n",
       "      <td>Skyworks Solutions, Inc.</td>\n",
       "      <td>Technology</td>\n",
       "      <td>Semiconductors</td>\n",
       "      <td>89.41</td>\n",
       "      <td>14298536960</td>\n",
       "      <td>1.136200e+09</td>\n",
       "      <td>-0.159</td>\n",
       "      <td>Irvine</td>\n",
       "      <td>CA</td>\n",
       "      <td>United States</td>\n",
       "      <td>9750.0</td>\n",
       "      <td>Skyworks Solutions, Inc., together with its su...</td>\n",
       "      <td>0.000251</td>\n",
       "    </tr>\n",
       "    <tr>\n",
       "      <th>125</th>\n",
       "      <td>NYQ</td>\n",
       "      <td>DELL</td>\n",
       "      <td>Dell Technologies Inc.</td>\n",
       "      <td>Dell Technologies Inc.</td>\n",
       "      <td>Technology</td>\n",
       "      <td>Computer Hardware</td>\n",
       "      <td>118.69</td>\n",
       "      <td>83158605824</td>\n",
       "      <td>8.726000e+09</td>\n",
       "      <td>0.091</td>\n",
       "      <td>Round Rock</td>\n",
       "      <td>TX</td>\n",
       "      <td>United States</td>\n",
       "      <td>120000.0</td>\n",
       "      <td>Dell Technologies Inc. designs, develops, manu...</td>\n",
       "      <td>0.001458</td>\n",
       "    </tr>\n",
       "    <tr>\n",
       "      <th>93</th>\n",
       "      <td>NYQ</td>\n",
       "      <td>CB</td>\n",
       "      <td>Chubb Limited</td>\n",
       "      <td>Chubb Limited</td>\n",
       "      <td>Financial Services</td>\n",
       "      <td>Insurance - Property &amp; Casualty</td>\n",
       "      <td>276.22</td>\n",
       "      <td>111343722496</td>\n",
       "      <td>1.136300e+10</td>\n",
       "      <td>0.078</td>\n",
       "      <td>Zurich</td>\n",
       "      <td>NaN</td>\n",
       "      <td>Switzerland</td>\n",
       "      <td>40000.0</td>\n",
       "      <td>Chubb Limited provides insurance and reinsuran...</td>\n",
       "      <td>0.001952</td>\n",
       "    </tr>\n",
       "  </tbody>\n",
       "</table>\n",
       "</div>"
      ],
      "text/plain": [
       "    exchange symbol                 shortname                  longname  \\\n",
       "438      NMS   SWKS  Skyworks Solutions, Inc.  Skyworks Solutions, Inc.   \n",
       "125      NYQ   DELL    Dell Technologies Inc.    Dell Technologies Inc.   \n",
       "93       NYQ     CB             Chubb Limited             Chubb Limited   \n",
       "\n",
       "                 sector                         industry  currentprice  \\\n",
       "438          Technology                   Semiconductors         89.41   \n",
       "125          Technology                Computer Hardware        118.69   \n",
       "93   Financial Services  Insurance - Property & Casualty        276.22   \n",
       "\n",
       "        marketcap        ebitda  revenuegrowth        city state  \\\n",
       "438   14298536960  1.136200e+09         -0.159      Irvine    CA   \n",
       "125   83158605824  8.726000e+09          0.091  Round Rock    TX   \n",
       "93   111343722496  1.136300e+10          0.078      Zurich   NaN   \n",
       "\n",
       "           country  fulltimeemployees  \\\n",
       "438  United States             9750.0   \n",
       "125  United States           120000.0   \n",
       "93     Switzerland            40000.0   \n",
       "\n",
       "                                   longbusinesssummary    weight  \n",
       "438  Skyworks Solutions, Inc., together with its su...  0.000251  \n",
       "125  Dell Technologies Inc. designs, develops, manu...  0.001458  \n",
       "93   Chubb Limited provides insurance and reinsuran...  0.001952  "
      ]
     },
     "execution_count": 7,
     "metadata": {},
     "output_type": "execute_result"
    }
   ],
   "source": [
    "df.sample(3)"
   ]
  },
  {
   "cell_type": "code",
   "execution_count": 8,
   "metadata": {},
   "outputs": [
    {
     "data": {
      "text/html": [
       "<div>\n",
       "<style scoped>\n",
       "    .dataframe tbody tr th:only-of-type {\n",
       "        vertical-align: middle;\n",
       "    }\n",
       "\n",
       "    .dataframe tbody tr th {\n",
       "        vertical-align: top;\n",
       "    }\n",
       "\n",
       "    .dataframe thead th {\n",
       "        text-align: right;\n",
       "    }\n",
       "</style>\n",
       "<table border=\"1\" class=\"dataframe\">\n",
       "  <thead>\n",
       "    <tr style=\"text-align: right;\">\n",
       "      <th></th>\n",
       "      <th>date</th>\n",
       "      <th>s&amp;p500</th>\n",
       "    </tr>\n",
       "  </thead>\n",
       "  <tbody>\n",
       "    <tr>\n",
       "      <th>907</th>\n",
       "      <td>2018-07-20</td>\n",
       "      <td>2801.83</td>\n",
       "    </tr>\n",
       "    <tr>\n",
       "      <th>379</th>\n",
       "      <td>2016-06-15</td>\n",
       "      <td>2071.50</td>\n",
       "    </tr>\n",
       "    <tr>\n",
       "      <th>980</th>\n",
       "      <td>2018-11-01</td>\n",
       "      <td>2740.37</td>\n",
       "    </tr>\n",
       "  </tbody>\n",
       "</table>\n",
       "</div>"
      ],
      "text/plain": [
       "           date   s&p500\n",
       "907  2018-07-20  2801.83\n",
       "379  2016-06-15  2071.50\n",
       "980  2018-11-01  2740.37"
      ]
     },
     "execution_count": 8,
     "metadata": {},
     "output_type": "execute_result"
    }
   ],
   "source": [
    "sp.sample(3)"
   ]
  },
  {
   "cell_type": "markdown",
   "metadata": {},
   "source": [
    "### The Stock Analysis Dataset: CHANGE\n",
    "\n",
    "- **Introduction**: Ronald A. Fisher in 1936 to demonstrate Linear Discriminant Analysis (LDA).\n",
    "- **Type**: Multiclass classification dataset, ideal for supervised and unsupervised learning.\n",
    "- **Features**: \n",
    "  - 4 numerical features: Sepal Length, Sepal Width, Petal Length, Petal Width.\n",
    "  - Measurements describe physical dimensions of iris flowers.\n",
    "- **Classes**: 3 flower species – Setosa, Versicolor, Virginica (50 samples each, 150 total).\n",
    "- **Importance**:\n",
    "  - Widely used for teaching classification, clustering, PCA, and visualization techniques.\n",
    "  - Simple, clean, and balanced, making it ideal for learning machine learning concepts.\n",
    "- **Applications**: Benchmarking algorithms like KMeans, Decision Trees, and Logistic Regression."
   ]
  },
  {
   "cell_type": "code",
   "execution_count": 9,
   "metadata": {},
   "outputs": [
    {
     "data": {
      "text/plain": [
       "exchange                0\n",
       "symbol                  0\n",
       "shortname               0\n",
       "longname                0\n",
       "sector                  0\n",
       "industry                0\n",
       "currentprice            0\n",
       "marketcap               0\n",
       "ebitda                 29\n",
       "revenuegrowth           3\n",
       "city                    0\n",
       "state                  20\n",
       "country                 0\n",
       "fulltimeemployees       9\n",
       "longbusinesssummary     0\n",
       "weight                  0\n",
       "dtype: int64"
      ]
     },
     "execution_count": 9,
     "metadata": {},
     "output_type": "execute_result"
    }
   ],
   "source": [
    "df.isna().sum()"
   ]
  },
  {
   "cell_type": "code",
   "execution_count": 10,
   "metadata": {},
   "outputs": [
    {
     "data": {
      "text/plain": [
       "sector\n",
       "Technology                82\n",
       "Industrials               70\n",
       "Financial Services        67\n",
       "Healthcare                63\n",
       "Consumer Cyclical         55\n",
       "Consumer Defensive        37\n",
       "Utilities                 32\n",
       "Real Estate               31\n",
       "Communication Services    22\n",
       "Energy                    22\n",
       "Basic Materials           22\n",
       "Name: count, dtype: int64"
      ]
     },
     "execution_count": 10,
     "metadata": {},
     "output_type": "execute_result"
    }
   ],
   "source": [
    "df.sector.value_counts()"
   ]
  },
  {
   "cell_type": "code",
   "execution_count": null,
   "metadata": {},
   "outputs": [],
   "source": [
    "df.industry.value_counts()"
   ]
  },
  {
   "cell_type": "code",
   "execution_count": null,
   "metadata": {},
   "outputs": [],
   "source": [
    "df.isna().sum()"
   ]
  },
  {
   "cell_type": "code",
   "execution_count": null,
   "metadata": {},
   "outputs": [],
   "source": [
    "data.isna().sum()"
   ]
  },
  {
   "cell_type": "code",
   "execution_count": null,
   "metadata": {},
   "outputs": [],
   "source": [
    "sp"
   ]
  },
  {
   "cell_type": "markdown",
   "metadata": {},
   "source": [
    "<h3 style=\"color: #4169E1;\">1.2 | Copies</h3>"
   ]
  },
  {
   "cell_type": "code",
   "execution_count": 11,
   "metadata": {},
   "outputs": [],
   "source": [
    "data2 = data.copy()"
   ]
  },
  {
   "cell_type": "markdown",
   "metadata": {},
   "source": [
    "<h2 style=\"color: #9370DB;\"> 02 | ⚒️ Data Cleaning </h2>"
   ]
  },
  {
   "cell_type": "markdown",
   "metadata": {},
   "source": [
    "<h3 style=\"color: #4169E1;\"> 2.1 | Dealing with Data types</h3>"
   ]
  },
  {
   "cell_type": "code",
   "execution_count": null,
   "metadata": {},
   "outputs": [],
   "source": [
    "data.dtypes"
   ]
  },
  {
   "cell_type": "code",
   "execution_count": null,
   "metadata": {},
   "outputs": [],
   "source": [
    "df.dtypes"
   ]
  },
  {
   "cell_type": "code",
   "execution_count": null,
   "metadata": {},
   "outputs": [],
   "source": [
    "sp.dtypes"
   ]
  },
  {
   "cell_type": "markdown",
   "metadata": {},
   "source": [
    "<h3 style=\"color: #4169E1;\"> 2.2 | Dealing with NaN values</h3>"
   ]
  },
  {
   "cell_type": "code",
   "execution_count": 12,
   "metadata": {},
   "outputs": [
    {
     "data": {
      "text/plain": [
       "date              0\n",
       "symbol            0\n",
       "adj_close    101626\n",
       "close        101626\n",
       "high         101626\n",
       "low          101626\n",
       "open         101626\n",
       "volume       101626\n",
       "dtype: int64"
      ]
     },
     "execution_count": 12,
     "metadata": {},
     "output_type": "execute_result"
    }
   ],
   "source": [
    "data.isna().sum()"
   ]
  },
  {
   "cell_type": "code",
   "execution_count": 13,
   "metadata": {},
   "outputs": [],
   "source": [
    "# Delete NaN. \n",
    "data2.dropna(how='any', inplace=True)"
   ]
  },
  {
   "cell_type": "code",
   "execution_count": 14,
   "metadata": {},
   "outputs": [
    {
     "data": {
      "text/plain": [
       "date         0\n",
       "symbol       0\n",
       "adj_close    0\n",
       "close        0\n",
       "high         0\n",
       "low          0\n",
       "open         0\n",
       "volume       0\n",
       "dtype: int64"
      ]
     },
     "execution_count": 14,
     "metadata": {},
     "output_type": "execute_result"
    }
   ],
   "source": [
    "data2.isna().sum()"
   ]
  },
  {
   "cell_type": "code",
   "execution_count": null,
   "metadata": {},
   "outputs": [],
   "source": [
    "sp.isna().sum()"
   ]
  },
  {
   "cell_type": "code",
   "execution_count": null,
   "metadata": {},
   "outputs": [],
   "source": [
    "data2.symbol.value_counts()"
   ]
  },
  {
   "cell_type": "code",
   "execution_count": null,
   "metadata": {},
   "outputs": [],
   "source": [
    "df.isna().sum()"
   ]
  },
  {
   "cell_type": "code",
   "execution_count": null,
   "metadata": {},
   "outputs": [],
   "source": [
    "sp.isna().sum()"
   ]
  },
  {
   "cell_type": "markdown",
   "metadata": {},
   "source": [
    "<h3 style=\"color: #4169E1;\"> 2.3 | Dealing with Duplicates</h3>"
   ]
  },
  {
   "cell_type": "code",
   "execution_count": 15,
   "metadata": {},
   "outputs": [
    {
     "data": {
      "text/plain": [
       "0"
      ]
     },
     "execution_count": 15,
     "metadata": {},
     "output_type": "execute_result"
    }
   ],
   "source": [
    "data2.duplicated().sum()"
   ]
  },
  {
   "cell_type": "code",
   "execution_count": null,
   "metadata": {},
   "outputs": [],
   "source": [
    "df.duplicated().sum()"
   ]
  },
  {
   "cell_type": "code",
   "execution_count": null,
   "metadata": {},
   "outputs": [],
   "source": [
    "sp.duplicated().sum()"
   ]
  },
  {
   "cell_type": "markdown",
   "metadata": {},
   "source": [
    "<h3 style=\"color: #4169E1;\"> 2.5 | Dealing with outliers</h3>"
   ]
  },
  {
   "cell_type": "markdown",
   "metadata": {},
   "source": []
  },
  {
   "cell_type": "markdown",
   "metadata": {},
   "source": [
    "<h3 style=\"color: #4169E1;\"> 2.6 | Moving target to the right </h3>"
   ]
  },
  {
   "cell_type": "markdown",
   "metadata": {},
   "source": [
    "<h3 style=\"color: #4169E1;\"> 2.7 | Other Steps </h3>"
   ]
  },
  {
   "cell_type": "code",
   "execution_count": 16,
   "metadata": {},
   "outputs": [],
   "source": [
    "# Delete Columns \n",
    "data2.drop(columns=['high', 'low', 'open','close'], inplace=True)"
   ]
  },
  {
   "cell_type": "code",
   "execution_count": 17,
   "metadata": {},
   "outputs": [],
   "source": [
    "# Change to datetime. \n",
    "data2['date'] = pd.to_datetime(data2['date'])"
   ]
  },
  {
   "cell_type": "code",
   "execution_count": 18,
   "metadata": {},
   "outputs": [],
   "source": [
    "data2['year'] = data2['date'].dt.year\n",
    "data2['month'] = data2['date'].dt.month\n",
    "data2['day'] = data2['date'].dt.day"
   ]
  },
  {
   "cell_type": "code",
   "execution_count": 19,
   "metadata": {},
   "outputs": [
    {
     "data": {
      "text/html": [
       "<div>\n",
       "<style scoped>\n",
       "    .dataframe tbody tr th:only-of-type {\n",
       "        vertical-align: middle;\n",
       "    }\n",
       "\n",
       "    .dataframe tbody tr th {\n",
       "        vertical-align: top;\n",
       "    }\n",
       "\n",
       "    .dataframe thead th {\n",
       "        text-align: right;\n",
       "    }\n",
       "</style>\n",
       "<table border=\"1\" class=\"dataframe\">\n",
       "  <thead>\n",
       "    <tr style=\"text-align: right;\">\n",
       "      <th></th>\n",
       "      <th>year</th>\n",
       "      <th>month</th>\n",
       "      <th>day</th>\n",
       "      <th>symbol</th>\n",
       "      <th>adj_close</th>\n",
       "      <th>volume</th>\n",
       "    </tr>\n",
       "  </thead>\n",
       "  <tbody>\n",
       "    <tr>\n",
       "      <th>0</th>\n",
       "      <td>2010</td>\n",
       "      <td>1</td>\n",
       "      <td>4</td>\n",
       "      <td>MMM</td>\n",
       "      <td>43.783875</td>\n",
       "      <td>3640265.0</td>\n",
       "    </tr>\n",
       "    <tr>\n",
       "      <th>1</th>\n",
       "      <td>2010</td>\n",
       "      <td>1</td>\n",
       "      <td>5</td>\n",
       "      <td>MMM</td>\n",
       "      <td>43.509624</td>\n",
       "      <td>3405012.0</td>\n",
       "    </tr>\n",
       "    <tr>\n",
       "      <th>2</th>\n",
       "      <td>2010</td>\n",
       "      <td>1</td>\n",
       "      <td>6</td>\n",
       "      <td>MMM</td>\n",
       "      <td>44.126659</td>\n",
       "      <td>6301126.0</td>\n",
       "    </tr>\n",
       "  </tbody>\n",
       "</table>\n",
       "</div>"
      ],
      "text/plain": [
       "   year  month  day symbol  adj_close     volume\n",
       "0  2010      1    4    MMM  43.783875  3640265.0\n",
       "1  2010      1    5    MMM  43.509624  3405012.0\n",
       "2  2010      1    6    MMM  44.126659  6301126.0"
      ]
     },
     "execution_count": 19,
     "metadata": {},
     "output_type": "execute_result"
    }
   ],
   "source": [
    "cols = ['year', 'month', 'day', 'symbol', 'adj_close', 'volume']\n",
    "data2 = data2[cols]\n",
    "data2.head(3)"
   ]
  },
  {
   "cell_type": "code",
   "execution_count": 20,
   "metadata": {},
   "outputs": [],
   "source": [
    "# Drop rows where year is between 2010 and 2013 because SP500 for comparison we do have 2014. \n",
    "data2.drop(data2[(data2['year'] >= 2010) & (data2['year'] <= 2013)].index, inplace=True)"
   ]
  },
  {
   "cell_type": "code",
   "execution_count": 21,
   "metadata": {},
   "outputs": [
    {
     "name": "stderr",
     "output_type": "stream",
     "text": [
      "/var/folders/bs/hzz4qdm57z9cct0t_9rdynfr0000gn/T/ipykernel_6589/292607746.py:2: DeprecationWarning: DataFrameGroupBy.apply operated on the grouping columns. This behavior is deprecated, and in a future version of pandas the grouping columns will be excluded from the operation. Either pass `include_groups=False` to exclude the groupings or explicitly select the grouping columns after groupby to silence this warning.\n",
      "  annual_returns = data2.groupby(['symbol', 'year']).apply(lambda group: (group['adj_close'].iloc[-1] / group['adj_close'].iloc[0]) - 1).reset_index(name='annual_return').round(4)\n"
     ]
    }
   ],
   "source": [
    "# Chat helped. \n",
    "annual_returns = data2.groupby(['symbol', 'year']).apply(lambda group: (group['adj_close'].iloc[-1] / group['adj_close'].iloc[0]) - 1).reset_index(name='annual_return').round(4)"
   ]
  },
  {
   "cell_type": "code",
   "execution_count": 22,
   "metadata": {},
   "outputs": [],
   "source": [
    "pivoted_df = annual_returns.pivot(index='symbol', columns='year', values='annual_return')"
   ]
  },
  {
   "cell_type": "code",
   "execution_count": 23,
   "metadata": {},
   "outputs": [
    {
     "data": {
      "text/html": [
       "<div>\n",
       "<style scoped>\n",
       "    .dataframe tbody tr th:only-of-type {\n",
       "        vertical-align: middle;\n",
       "    }\n",
       "\n",
       "    .dataframe tbody tr th {\n",
       "        vertical-align: top;\n",
       "    }\n",
       "\n",
       "    .dataframe thead th {\n",
       "        text-align: right;\n",
       "    }\n",
       "</style>\n",
       "<table border=\"1\" class=\"dataframe\">\n",
       "  <thead>\n",
       "    <tr style=\"text-align: right;\">\n",
       "      <th>year</th>\n",
       "      <th>2014</th>\n",
       "      <th>2015</th>\n",
       "      <th>2016</th>\n",
       "      <th>2017</th>\n",
       "      <th>2018</th>\n",
       "      <th>2019</th>\n",
       "      <th>2020</th>\n",
       "      <th>2021</th>\n",
       "      <th>2022</th>\n",
       "      <th>2023</th>\n",
       "      <th>2024</th>\n",
       "    </tr>\n",
       "    <tr>\n",
       "      <th>symbol</th>\n",
       "      <th></th>\n",
       "      <th></th>\n",
       "      <th></th>\n",
       "      <th></th>\n",
       "      <th></th>\n",
       "      <th></th>\n",
       "      <th></th>\n",
       "      <th></th>\n",
       "      <th></th>\n",
       "      <th></th>\n",
       "      <th></th>\n",
       "    </tr>\n",
       "  </thead>\n",
       "  <tbody>\n",
       "    <tr>\n",
       "      <th>HPE</th>\n",
       "      <td>NaN</td>\n",
       "      <td>-0.0782</td>\n",
       "      <td>0.5473</td>\n",
       "      <td>0.0830</td>\n",
       "      <td>-0.0723</td>\n",
       "      <td>0.2145</td>\n",
       "      <td>-0.2343</td>\n",
       "      <td>0.4070</td>\n",
       "      <td>0.0210</td>\n",
       "      <td>0.0903</td>\n",
       "      <td>0.3209</td>\n",
       "    </tr>\n",
       "    <tr>\n",
       "      <th>PLD</th>\n",
       "      <td>0.2041</td>\n",
       "      <td>0.0264</td>\n",
       "      <td>0.3046</td>\n",
       "      <td>0.2592</td>\n",
       "      <td>-0.0552</td>\n",
       "      <td>0.6048</td>\n",
       "      <td>0.1570</td>\n",
       "      <td>0.7883</td>\n",
       "      <td>-0.2989</td>\n",
       "      <td>0.2162</td>\n",
       "      <td>-0.1487</td>\n",
       "    </tr>\n",
       "    <tr>\n",
       "      <th>CSGP</th>\n",
       "      <td>0.0096</td>\n",
       "      <td>0.1474</td>\n",
       "      <td>-0.0458</td>\n",
       "      <td>0.5952</td>\n",
       "      <td>0.1366</td>\n",
       "      <td>0.7875</td>\n",
       "      <td>0.4892</td>\n",
       "      <td>-0.1172</td>\n",
       "      <td>-0.0198</td>\n",
       "      <td>0.1254</td>\n",
       "      <td>-0.0922</td>\n",
       "    </tr>\n",
       "  </tbody>\n",
       "</table>\n",
       "</div>"
      ],
      "text/plain": [
       "year      2014    2015    2016    2017    2018    2019    2020    2021  \\\n",
       "symbol                                                                   \n",
       "HPE        NaN -0.0782  0.5473  0.0830 -0.0723  0.2145 -0.2343  0.4070   \n",
       "PLD     0.2041  0.0264  0.3046  0.2592 -0.0552  0.6048  0.1570  0.7883   \n",
       "CSGP    0.0096  0.1474 -0.0458  0.5952  0.1366  0.7875  0.4892 -0.1172   \n",
       "\n",
       "year      2022    2023    2024  \n",
       "symbol                          \n",
       "HPE     0.0210  0.0903  0.3209  \n",
       "PLD    -0.2989  0.2162 -0.1487  \n",
       "CSGP   -0.0198  0.1254 -0.0922  "
      ]
     },
     "execution_count": 23,
     "metadata": {},
     "output_type": "execute_result"
    }
   ],
   "source": [
    "pivoted_df.sample(3)"
   ]
  },
  {
   "cell_type": "code",
   "execution_count": 24,
   "metadata": {},
   "outputs": [],
   "source": [
    "pivoted_df = pivoted_df.rename(columns={2014:'ar_2014',2015: 'ar_2015',2016:'ar_2016',2017: 'ar_2017', \n",
    "                                          2018:'ar_2018', 2019: 'ar_2019',2020: 'ar_2020', 2021: 'ar_2021', 2022:'ar_2022', 2023:'ar_2023',2024: 'ar_2024'})"
   ]
  },
  {
   "cell_type": "code",
   "execution_count": 25,
   "metadata": {},
   "outputs": [
    {
     "data": {
      "text/html": [
       "<div>\n",
       "<style scoped>\n",
       "    .dataframe tbody tr th:only-of-type {\n",
       "        vertical-align: middle;\n",
       "    }\n",
       "\n",
       "    .dataframe tbody tr th {\n",
       "        vertical-align: top;\n",
       "    }\n",
       "\n",
       "    .dataframe thead th {\n",
       "        text-align: right;\n",
       "    }\n",
       "</style>\n",
       "<table border=\"1\" class=\"dataframe\">\n",
       "  <thead>\n",
       "    <tr style=\"text-align: right;\">\n",
       "      <th></th>\n",
       "      <th>exchange</th>\n",
       "      <th>symbol</th>\n",
       "      <th>shortname</th>\n",
       "      <th>longname</th>\n",
       "      <th>sector</th>\n",
       "      <th>industry</th>\n",
       "      <th>currentprice</th>\n",
       "      <th>marketcap</th>\n",
       "      <th>ebitda</th>\n",
       "      <th>revenuegrowth</th>\n",
       "      <th>...</th>\n",
       "      <th>ar_2015</th>\n",
       "      <th>ar_2016</th>\n",
       "      <th>ar_2017</th>\n",
       "      <th>ar_2018</th>\n",
       "      <th>ar_2019</th>\n",
       "      <th>ar_2020</th>\n",
       "      <th>ar_2021</th>\n",
       "      <th>ar_2022</th>\n",
       "      <th>ar_2023</th>\n",
       "      <th>ar_2024</th>\n",
       "    </tr>\n",
       "  </thead>\n",
       "  <tbody>\n",
       "    <tr>\n",
       "      <th>0</th>\n",
       "      <td>NMS</td>\n",
       "      <td>AAPL</td>\n",
       "      <td>Apple Inc.</td>\n",
       "      <td>Apple Inc.</td>\n",
       "      <td>Technology</td>\n",
       "      <td>Consumer Electronics</td>\n",
       "      <td>246.49</td>\n",
       "      <td>3725893566464</td>\n",
       "      <td>1.346610e+11</td>\n",
       "      <td>0.061</td>\n",
       "      <td>...</td>\n",
       "      <td>-0.0208</td>\n",
       "      <td>0.1238</td>\n",
       "      <td>0.4804</td>\n",
       "      <td>-0.0705</td>\n",
       "      <td>0.8874</td>\n",
       "      <td>0.7824</td>\n",
       "      <td>0.3765</td>\n",
       "      <td>-0.2861</td>\n",
       "      <td>0.5394</td>\n",
       "      <td>0.3278</td>\n",
       "    </tr>\n",
       "    <tr>\n",
       "      <th>1</th>\n",
       "      <td>NMS</td>\n",
       "      <td>NVDA</td>\n",
       "      <td>NVIDIA Corporation</td>\n",
       "      <td>NVIDIA Corporation</td>\n",
       "      <td>Technology</td>\n",
       "      <td>Semiconductors</td>\n",
       "      <td>139.31</td>\n",
       "      <td>3411701923840</td>\n",
       "      <td>6.118400e+10</td>\n",
       "      <td>1.224</td>\n",
       "      <td>...</td>\n",
       "      <td>0.6645</td>\n",
       "      <td>2.3292</td>\n",
       "      <td>0.9043</td>\n",
       "      <td>-0.3285</td>\n",
       "      <td>0.7341</td>\n",
       "      <td>1.1802</td>\n",
       "      <td>1.2448</td>\n",
       "      <td>-0.5144</td>\n",
       "      <td>2.4610</td>\n",
       "      <td>1.8930</td>\n",
       "    </tr>\n",
       "    <tr>\n",
       "      <th>2</th>\n",
       "      <td>NMS</td>\n",
       "      <td>MSFT</td>\n",
       "      <td>Microsoft Corporation</td>\n",
       "      <td>Microsoft Corporation</td>\n",
       "      <td>Technology</td>\n",
       "      <td>Software - Infrastructure</td>\n",
       "      <td>448.99</td>\n",
       "      <td>3338186784768</td>\n",
       "      <td>1.365520e+11</td>\n",
       "      <td>0.160</td>\n",
       "      <td>...</td>\n",
       "      <td>0.2188</td>\n",
       "      <td>0.1651</td>\n",
       "      <td>0.3974</td>\n",
       "      <td>0.2022</td>\n",
       "      <td>0.5826</td>\n",
       "      <td>0.3994</td>\n",
       "      <td>0.5521</td>\n",
       "      <td>-0.2836</td>\n",
       "      <td>0.5696</td>\n",
       "      <td>0.2106</td>\n",
       "    </tr>\n",
       "    <tr>\n",
       "      <th>3</th>\n",
       "      <td>NMS</td>\n",
       "      <td>AMZN</td>\n",
       "      <td>Amazon.com, Inc.</td>\n",
       "      <td>Amazon.com, Inc.</td>\n",
       "      <td>Consumer Cyclical</td>\n",
       "      <td>Internet Retail</td>\n",
       "      <td>230.26</td>\n",
       "      <td>2421184004096</td>\n",
       "      <td>1.115830e+11</td>\n",
       "      <td>0.110</td>\n",
       "      <td>...</td>\n",
       "      <td>1.1907</td>\n",
       "      <td>0.1772</td>\n",
       "      <td>0.5517</td>\n",
       "      <td>0.2632</td>\n",
       "      <td>0.2006</td>\n",
       "      <td>0.7160</td>\n",
       "      <td>0.0464</td>\n",
       "      <td>-0.5071</td>\n",
       "      <td>0.7704</td>\n",
       "      <td>0.5358</td>\n",
       "    </tr>\n",
       "    <tr>\n",
       "      <th>4</th>\n",
       "      <td>NMS</td>\n",
       "      <td>GOOGL</td>\n",
       "      <td>Alphabet Inc.</td>\n",
       "      <td>Alphabet Inc.</td>\n",
       "      <td>Communication Services</td>\n",
       "      <td>Internet Content &amp; Information</td>\n",
       "      <td>195.40</td>\n",
       "      <td>2399824510976</td>\n",
       "      <td>1.234700e+11</td>\n",
       "      <td>0.151</td>\n",
       "      <td>...</td>\n",
       "      <td>0.4692</td>\n",
       "      <td>0.0435</td>\n",
       "      <td>0.3037</td>\n",
       "      <td>-0.0263</td>\n",
       "      <td>0.2699</td>\n",
       "      <td>0.2805</td>\n",
       "      <td>0.6783</td>\n",
       "      <td>-0.3915</td>\n",
       "      <td>0.5674</td>\n",
       "      <td>0.4193</td>\n",
       "    </tr>\n",
       "    <tr>\n",
       "      <th>...</th>\n",
       "      <td>...</td>\n",
       "      <td>...</td>\n",
       "      <td>...</td>\n",
       "      <td>...</td>\n",
       "      <td>...</td>\n",
       "      <td>...</td>\n",
       "      <td>...</td>\n",
       "      <td>...</td>\n",
       "      <td>...</td>\n",
       "      <td>...</td>\n",
       "      <td>...</td>\n",
       "      <td>...</td>\n",
       "      <td>...</td>\n",
       "      <td>...</td>\n",
       "      <td>...</td>\n",
       "      <td>...</td>\n",
       "      <td>...</td>\n",
       "      <td>...</td>\n",
       "      <td>...</td>\n",
       "      <td>...</td>\n",
       "      <td>...</td>\n",
       "    </tr>\n",
       "    <tr>\n",
       "      <th>498</th>\n",
       "      <td>NYQ</td>\n",
       "      <td>HII</td>\n",
       "      <td>Huntington Ingalls Industries,</td>\n",
       "      <td>Huntington Ingalls Industries, Inc.</td>\n",
       "      <td>Industrials</td>\n",
       "      <td>Aerospace &amp; Defense</td>\n",
       "      <td>191.52</td>\n",
       "      <td>7494043648</td>\n",
       "      <td>1.071000e+09</td>\n",
       "      <td>-0.024</td>\n",
       "      <td>...</td>\n",
       "      <td>0.1491</td>\n",
       "      <td>0.5029</td>\n",
       "      <td>0.2615</td>\n",
       "      <td>-0.1545</td>\n",
       "      <td>0.3244</td>\n",
       "      <td>-0.3181</td>\n",
       "      <td>0.1651</td>\n",
       "      <td>0.2680</td>\n",
       "      <td>0.1633</td>\n",
       "      <td>-0.2480</td>\n",
       "    </tr>\n",
       "    <tr>\n",
       "      <th>499</th>\n",
       "      <td>NYQ</td>\n",
       "      <td>CE</td>\n",
       "      <td>Celanese Corporation</td>\n",
       "      <td>Celanese Corporation</td>\n",
       "      <td>Basic Materials</td>\n",
       "      <td>Chemicals</td>\n",
       "      <td>68.04</td>\n",
       "      <td>7437588480</td>\n",
       "      <td>1.851000e+09</td>\n",
       "      <td>-0.028</td>\n",
       "      <td>...</td>\n",
       "      <td>0.1425</td>\n",
       "      <td>0.2159</td>\n",
       "      <td>0.3718</td>\n",
       "      <td>-0.1405</td>\n",
       "      <td>0.3795</td>\n",
       "      <td>0.0976</td>\n",
       "      <td>0.3594</td>\n",
       "      <td>-0.3756</td>\n",
       "      <td>0.5564</td>\n",
       "      <td>-0.5515</td>\n",
       "    </tr>\n",
       "    <tr>\n",
       "      <th>500</th>\n",
       "      <td>NYQ</td>\n",
       "      <td>FMC</td>\n",
       "      <td>FMC Corporation</td>\n",
       "      <td>FMC Corporation</td>\n",
       "      <td>Basic Materials</td>\n",
       "      <td>Agricultural Inputs</td>\n",
       "      <td>56.45</td>\n",
       "      <td>7046992384</td>\n",
       "      <td>7.033000e+08</td>\n",
       "      <td>0.085</td>\n",
       "      <td>...</td>\n",
       "      <td>-0.3028</td>\n",
       "      <td>0.5106</td>\n",
       "      <td>0.6741</td>\n",
       "      <td>-0.2186</td>\n",
       "      <td>0.5627</td>\n",
       "      <td>0.1725</td>\n",
       "      <td>-0.0103</td>\n",
       "      <td>0.1542</td>\n",
       "      <td>-0.4807</td>\n",
       "      <td>-0.1044</td>\n",
       "    </tr>\n",
       "    <tr>\n",
       "      <th>501</th>\n",
       "      <td>NMS</td>\n",
       "      <td>QRVO</td>\n",
       "      <td>Qorvo, Inc.</td>\n",
       "      <td>Qorvo, Inc.</td>\n",
       "      <td>Technology</td>\n",
       "      <td>Semiconductors</td>\n",
       "      <td>69.06</td>\n",
       "      <td>6528013824</td>\n",
       "      <td>6.731300e+08</td>\n",
       "      <td>-0.052</td>\n",
       "      <td>...</td>\n",
       "      <td>-0.2770</td>\n",
       "      <td>0.0396</td>\n",
       "      <td>0.2590</td>\n",
       "      <td>-0.1183</td>\n",
       "      <td>0.8998</td>\n",
       "      <td>0.4339</td>\n",
       "      <td>-0.0498</td>\n",
       "      <td>-0.4315</td>\n",
       "      <td>0.2633</td>\n",
       "      <td>-0.3659</td>\n",
       "    </tr>\n",
       "    <tr>\n",
       "      <th>502</th>\n",
       "      <td>NYQ</td>\n",
       "      <td>AMTM</td>\n",
       "      <td>Amentum Holdings, Inc.</td>\n",
       "      <td>Amentum Holdings, Inc.</td>\n",
       "      <td>Industrials</td>\n",
       "      <td>Specialty Business Services</td>\n",
       "      <td>23.85</td>\n",
       "      <td>5802753024</td>\n",
       "      <td>4.330000e+08</td>\n",
       "      <td>-0.031</td>\n",
       "      <td>...</td>\n",
       "      <td>NaN</td>\n",
       "      <td>NaN</td>\n",
       "      <td>NaN</td>\n",
       "      <td>NaN</td>\n",
       "      <td>NaN</td>\n",
       "      <td>NaN</td>\n",
       "      <td>NaN</td>\n",
       "      <td>NaN</td>\n",
       "      <td>NaN</td>\n",
       "      <td>-0.1918</td>\n",
       "    </tr>\n",
       "  </tbody>\n",
       "</table>\n",
       "<p>503 rows × 27 columns</p>\n",
       "</div>"
      ],
      "text/plain": [
       "    exchange symbol                        shortname  \\\n",
       "0        NMS   AAPL                       Apple Inc.   \n",
       "1        NMS   NVDA               NVIDIA Corporation   \n",
       "2        NMS   MSFT            Microsoft Corporation   \n",
       "3        NMS   AMZN                 Amazon.com, Inc.   \n",
       "4        NMS  GOOGL                    Alphabet Inc.   \n",
       "..       ...    ...                              ...   \n",
       "498      NYQ    HII  Huntington Ingalls Industries,    \n",
       "499      NYQ     CE             Celanese Corporation   \n",
       "500      NYQ    FMC                  FMC Corporation   \n",
       "501      NMS   QRVO                      Qorvo, Inc.   \n",
       "502      NYQ   AMTM           Amentum Holdings, Inc.   \n",
       "\n",
       "                                longname                  sector  \\\n",
       "0                             Apple Inc.              Technology   \n",
       "1                     NVIDIA Corporation              Technology   \n",
       "2                  Microsoft Corporation              Technology   \n",
       "3                       Amazon.com, Inc.       Consumer Cyclical   \n",
       "4                          Alphabet Inc.  Communication Services   \n",
       "..                                   ...                     ...   \n",
       "498  Huntington Ingalls Industries, Inc.             Industrials   \n",
       "499                 Celanese Corporation         Basic Materials   \n",
       "500                      FMC Corporation         Basic Materials   \n",
       "501                          Qorvo, Inc.              Technology   \n",
       "502               Amentum Holdings, Inc.             Industrials   \n",
       "\n",
       "                           industry  currentprice      marketcap  \\\n",
       "0              Consumer Electronics        246.49  3725893566464   \n",
       "1                    Semiconductors        139.31  3411701923840   \n",
       "2         Software - Infrastructure        448.99  3338186784768   \n",
       "3                   Internet Retail        230.26  2421184004096   \n",
       "4    Internet Content & Information        195.40  2399824510976   \n",
       "..                              ...           ...            ...   \n",
       "498             Aerospace & Defense        191.52     7494043648   \n",
       "499                       Chemicals         68.04     7437588480   \n",
       "500             Agricultural Inputs         56.45     7046992384   \n",
       "501                  Semiconductors         69.06     6528013824   \n",
       "502     Specialty Business Services         23.85     5802753024   \n",
       "\n",
       "           ebitda  revenuegrowth  ... ar_2015 ar_2016 ar_2017  ar_2018  \\\n",
       "0    1.346610e+11          0.061  ... -0.0208  0.1238  0.4804  -0.0705   \n",
       "1    6.118400e+10          1.224  ...  0.6645  2.3292  0.9043  -0.3285   \n",
       "2    1.365520e+11          0.160  ...  0.2188  0.1651  0.3974   0.2022   \n",
       "3    1.115830e+11          0.110  ...  1.1907  0.1772  0.5517   0.2632   \n",
       "4    1.234700e+11          0.151  ...  0.4692  0.0435  0.3037  -0.0263   \n",
       "..            ...            ...  ...     ...     ...     ...      ...   \n",
       "498  1.071000e+09         -0.024  ...  0.1491  0.5029  0.2615  -0.1545   \n",
       "499  1.851000e+09         -0.028  ...  0.1425  0.2159  0.3718  -0.1405   \n",
       "500  7.033000e+08          0.085  ... -0.3028  0.5106  0.6741  -0.2186   \n",
       "501  6.731300e+08         -0.052  ... -0.2770  0.0396  0.2590  -0.1183   \n",
       "502  4.330000e+08         -0.031  ...     NaN     NaN     NaN      NaN   \n",
       "\n",
       "    ar_2019  ar_2020  ar_2021  ar_2022  ar_2023  ar_2024  \n",
       "0    0.8874   0.7824   0.3765  -0.2861   0.5394   0.3278  \n",
       "1    0.7341   1.1802   1.2448  -0.5144   2.4610   1.8930  \n",
       "2    0.5826   0.3994   0.5521  -0.2836   0.5696   0.2106  \n",
       "3    0.2006   0.7160   0.0464  -0.5071   0.7704   0.5358  \n",
       "4    0.2699   0.2805   0.6783  -0.3915   0.5674   0.4193  \n",
       "..      ...      ...      ...      ...      ...      ...  \n",
       "498  0.3244  -0.3181   0.1651   0.2680   0.1633  -0.2480  \n",
       "499  0.3795   0.0976   0.3594  -0.3756   0.5564  -0.5515  \n",
       "500  0.5627   0.1725  -0.0103   0.1542  -0.4807  -0.1044  \n",
       "501  0.8998   0.4339  -0.0498  -0.4315   0.2633  -0.3659  \n",
       "502     NaN      NaN      NaN      NaN      NaN  -0.1918  \n",
       "\n",
       "[503 rows x 27 columns]"
      ]
     },
     "execution_count": 25,
     "metadata": {},
     "output_type": "execute_result"
    }
   ],
   "source": [
    "definitive = pd.merge (df, pivoted_df, on='symbol')\n",
    "definitive"
   ]
  },
  {
   "cell_type": "markdown",
   "metadata": {},
   "source": [
    "<h2 style=\"color: #9370DB;\"> 03 | EDA (Exploratory Data Analysis) </h2>"
   ]
  },
  {
   "cell_type": "markdown",
   "metadata": {},
   "source": [
    "<h3 style=\"color: #4169E1;\"> Optional | Selecting Numerical </h3>"
   ]
  },
  {
   "cell_type": "code",
   "execution_count": 26,
   "metadata": {},
   "outputs": [
    {
     "data": {
      "text/html": [
       "<div>\n",
       "<style scoped>\n",
       "    .dataframe tbody tr th:only-of-type {\n",
       "        vertical-align: middle;\n",
       "    }\n",
       "\n",
       "    .dataframe tbody tr th {\n",
       "        vertical-align: top;\n",
       "    }\n",
       "\n",
       "    .dataframe thead th {\n",
       "        text-align: right;\n",
       "    }\n",
       "</style>\n",
       "<table border=\"1\" class=\"dataframe\">\n",
       "  <thead>\n",
       "    <tr style=\"text-align: right;\">\n",
       "      <th></th>\n",
       "      <th>exchange</th>\n",
       "      <th>symbol</th>\n",
       "      <th>shortname</th>\n",
       "      <th>longname</th>\n",
       "      <th>sector</th>\n",
       "      <th>industry</th>\n",
       "      <th>city</th>\n",
       "      <th>state</th>\n",
       "      <th>country</th>\n",
       "      <th>longbusinesssummary</th>\n",
       "    </tr>\n",
       "  </thead>\n",
       "  <tbody>\n",
       "    <tr>\n",
       "      <th>0</th>\n",
       "      <td>NMS</td>\n",
       "      <td>AAPL</td>\n",
       "      <td>Apple Inc.</td>\n",
       "      <td>Apple Inc.</td>\n",
       "      <td>Technology</td>\n",
       "      <td>Consumer Electronics</td>\n",
       "      <td>Cupertino</td>\n",
       "      <td>CA</td>\n",
       "      <td>United States</td>\n",
       "      <td>Apple Inc. designs, manufactures, and markets ...</td>\n",
       "    </tr>\n",
       "    <tr>\n",
       "      <th>1</th>\n",
       "      <td>NMS</td>\n",
       "      <td>NVDA</td>\n",
       "      <td>NVIDIA Corporation</td>\n",
       "      <td>NVIDIA Corporation</td>\n",
       "      <td>Technology</td>\n",
       "      <td>Semiconductors</td>\n",
       "      <td>Santa Clara</td>\n",
       "      <td>CA</td>\n",
       "      <td>United States</td>\n",
       "      <td>NVIDIA Corporation provides graphics and compu...</td>\n",
       "    </tr>\n",
       "    <tr>\n",
       "      <th>2</th>\n",
       "      <td>NMS</td>\n",
       "      <td>MSFT</td>\n",
       "      <td>Microsoft Corporation</td>\n",
       "      <td>Microsoft Corporation</td>\n",
       "      <td>Technology</td>\n",
       "      <td>Software - Infrastructure</td>\n",
       "      <td>Redmond</td>\n",
       "      <td>WA</td>\n",
       "      <td>United States</td>\n",
       "      <td>Microsoft Corporation develops and supports so...</td>\n",
       "    </tr>\n",
       "    <tr>\n",
       "      <th>3</th>\n",
       "      <td>NMS</td>\n",
       "      <td>AMZN</td>\n",
       "      <td>Amazon.com, Inc.</td>\n",
       "      <td>Amazon.com, Inc.</td>\n",
       "      <td>Consumer Cyclical</td>\n",
       "      <td>Internet Retail</td>\n",
       "      <td>Seattle</td>\n",
       "      <td>WA</td>\n",
       "      <td>United States</td>\n",
       "      <td>Amazon.com, Inc. engages in the retail sale of...</td>\n",
       "    </tr>\n",
       "    <tr>\n",
       "      <th>4</th>\n",
       "      <td>NMS</td>\n",
       "      <td>GOOGL</td>\n",
       "      <td>Alphabet Inc.</td>\n",
       "      <td>Alphabet Inc.</td>\n",
       "      <td>Communication Services</td>\n",
       "      <td>Internet Content &amp; Information</td>\n",
       "      <td>Mountain View</td>\n",
       "      <td>CA</td>\n",
       "      <td>United States</td>\n",
       "      <td>Alphabet Inc. offers various products and plat...</td>\n",
       "    </tr>\n",
       "  </tbody>\n",
       "</table>\n",
       "</div>"
      ],
      "text/plain": [
       "  exchange symbol              shortname               longname  \\\n",
       "0      NMS   AAPL             Apple Inc.             Apple Inc.   \n",
       "1      NMS   NVDA     NVIDIA Corporation     NVIDIA Corporation   \n",
       "2      NMS   MSFT  Microsoft Corporation  Microsoft Corporation   \n",
       "3      NMS   AMZN       Amazon.com, Inc.       Amazon.com, Inc.   \n",
       "4      NMS  GOOGL          Alphabet Inc.          Alphabet Inc.   \n",
       "\n",
       "                   sector                        industry           city  \\\n",
       "0              Technology            Consumer Electronics      Cupertino   \n",
       "1              Technology                  Semiconductors    Santa Clara   \n",
       "2              Technology       Software - Infrastructure        Redmond   \n",
       "3       Consumer Cyclical                 Internet Retail        Seattle   \n",
       "4  Communication Services  Internet Content & Information  Mountain View   \n",
       "\n",
       "  state        country                                longbusinesssummary  \n",
       "0    CA  United States  Apple Inc. designs, manufactures, and markets ...  \n",
       "1    CA  United States  NVIDIA Corporation provides graphics and compu...  \n",
       "2    WA  United States  Microsoft Corporation develops and supports so...  \n",
       "3    WA  United States  Amazon.com, Inc. engages in the retail sale of...  \n",
       "4    CA  United States  Alphabet Inc. offers various products and plat...  "
      ]
     },
     "execution_count": 26,
     "metadata": {},
     "output_type": "execute_result"
    }
   ],
   "source": [
    "cat = definitive.select_dtypes(exclude='number')\n",
    "cat.head(5)"
   ]
  },
  {
   "cell_type": "code",
   "execution_count": 27,
   "metadata": {},
   "outputs": [
    {
     "data": {
      "text/html": [
       "<div>\n",
       "<style scoped>\n",
       "    .dataframe tbody tr th:only-of-type {\n",
       "        vertical-align: middle;\n",
       "    }\n",
       "\n",
       "    .dataframe tbody tr th {\n",
       "        vertical-align: top;\n",
       "    }\n",
       "\n",
       "    .dataframe thead th {\n",
       "        text-align: right;\n",
       "    }\n",
       "</style>\n",
       "<table border=\"1\" class=\"dataframe\">\n",
       "  <thead>\n",
       "    <tr style=\"text-align: right;\">\n",
       "      <th></th>\n",
       "      <th>currentprice</th>\n",
       "      <th>marketcap</th>\n",
       "      <th>ebitda</th>\n",
       "      <th>revenuegrowth</th>\n",
       "      <th>fulltimeemployees</th>\n",
       "      <th>weight</th>\n",
       "      <th>ar_2014</th>\n",
       "      <th>ar_2015</th>\n",
       "      <th>ar_2016</th>\n",
       "      <th>ar_2017</th>\n",
       "      <th>ar_2018</th>\n",
       "      <th>ar_2019</th>\n",
       "      <th>ar_2020</th>\n",
       "      <th>ar_2021</th>\n",
       "      <th>ar_2022</th>\n",
       "      <th>ar_2023</th>\n",
       "      <th>ar_2024</th>\n",
       "    </tr>\n",
       "  </thead>\n",
       "  <tbody>\n",
       "    <tr>\n",
       "      <th>0</th>\n",
       "      <td>246.49</td>\n",
       "      <td>3725893566464</td>\n",
       "      <td>1.346610e+11</td>\n",
       "      <td>0.061</td>\n",
       "      <td>164000.0</td>\n",
       "      <td>0.065323</td>\n",
       "      <td>0.4263</td>\n",
       "      <td>-0.0208</td>\n",
       "      <td>0.1238</td>\n",
       "      <td>0.4804</td>\n",
       "      <td>-0.0705</td>\n",
       "      <td>0.8874</td>\n",
       "      <td>0.7824</td>\n",
       "      <td>0.3765</td>\n",
       "      <td>-0.2861</td>\n",
       "      <td>0.5394</td>\n",
       "      <td>0.3278</td>\n",
       "    </tr>\n",
       "    <tr>\n",
       "      <th>1</th>\n",
       "      <td>139.31</td>\n",
       "      <td>3411701923840</td>\n",
       "      <td>6.118400e+10</td>\n",
       "      <td>1.224</td>\n",
       "      <td>29600.0</td>\n",
       "      <td>0.059814</td>\n",
       "      <td>0.2868</td>\n",
       "      <td>0.6645</td>\n",
       "      <td>2.3292</td>\n",
       "      <td>0.9043</td>\n",
       "      <td>-0.3285</td>\n",
       "      <td>0.7341</td>\n",
       "      <td>1.1802</td>\n",
       "      <td>1.2448</td>\n",
       "      <td>-0.5144</td>\n",
       "      <td>2.4610</td>\n",
       "      <td>1.8930</td>\n",
       "    </tr>\n",
       "    <tr>\n",
       "      <th>2</th>\n",
       "      <td>448.99</td>\n",
       "      <td>3338186784768</td>\n",
       "      <td>1.365520e+11</td>\n",
       "      <td>0.160</td>\n",
       "      <td>228000.0</td>\n",
       "      <td>0.058526</td>\n",
       "      <td>0.2842</td>\n",
       "      <td>0.2188</td>\n",
       "      <td>0.1651</td>\n",
       "      <td>0.3974</td>\n",
       "      <td>0.2022</td>\n",
       "      <td>0.5826</td>\n",
       "      <td>0.3994</td>\n",
       "      <td>0.5521</td>\n",
       "      <td>-0.2836</td>\n",
       "      <td>0.5696</td>\n",
       "      <td>0.2106</td>\n",
       "    </tr>\n",
       "    <tr>\n",
       "      <th>3</th>\n",
       "      <td>230.26</td>\n",
       "      <td>2421184004096</td>\n",
       "      <td>1.115830e+11</td>\n",
       "      <td>0.110</td>\n",
       "      <td>1551000.0</td>\n",
       "      <td>0.042449</td>\n",
       "      <td>-0.2202</td>\n",
       "      <td>1.1907</td>\n",
       "      <td>0.1772</td>\n",
       "      <td>0.5517</td>\n",
       "      <td>0.2632</td>\n",
       "      <td>0.2006</td>\n",
       "      <td>0.7160</td>\n",
       "      <td>0.0464</td>\n",
       "      <td>-0.5071</td>\n",
       "      <td>0.7704</td>\n",
       "      <td>0.5358</td>\n",
       "    </tr>\n",
       "    <tr>\n",
       "      <th>4</th>\n",
       "      <td>195.40</td>\n",
       "      <td>2399824510976</td>\n",
       "      <td>1.234700e+11</td>\n",
       "      <td>0.151</td>\n",
       "      <td>181269.0</td>\n",
       "      <td>0.042074</td>\n",
       "      <td>-0.0475</td>\n",
       "      <td>0.4692</td>\n",
       "      <td>0.0435</td>\n",
       "      <td>0.3037</td>\n",
       "      <td>-0.0263</td>\n",
       "      <td>0.2699</td>\n",
       "      <td>0.2805</td>\n",
       "      <td>0.6783</td>\n",
       "      <td>-0.3915</td>\n",
       "      <td>0.5674</td>\n",
       "      <td>0.4193</td>\n",
       "    </tr>\n",
       "  </tbody>\n",
       "</table>\n",
       "</div>"
      ],
      "text/plain": [
       "   currentprice      marketcap        ebitda  revenuegrowth  \\\n",
       "0        246.49  3725893566464  1.346610e+11          0.061   \n",
       "1        139.31  3411701923840  6.118400e+10          1.224   \n",
       "2        448.99  3338186784768  1.365520e+11          0.160   \n",
       "3        230.26  2421184004096  1.115830e+11          0.110   \n",
       "4        195.40  2399824510976  1.234700e+11          0.151   \n",
       "\n",
       "   fulltimeemployees    weight  ar_2014  ar_2015  ar_2016  ar_2017  ar_2018  \\\n",
       "0           164000.0  0.065323   0.4263  -0.0208   0.1238   0.4804  -0.0705   \n",
       "1            29600.0  0.059814   0.2868   0.6645   2.3292   0.9043  -0.3285   \n",
       "2           228000.0  0.058526   0.2842   0.2188   0.1651   0.3974   0.2022   \n",
       "3          1551000.0  0.042449  -0.2202   1.1907   0.1772   0.5517   0.2632   \n",
       "4           181269.0  0.042074  -0.0475   0.4692   0.0435   0.3037  -0.0263   \n",
       "\n",
       "   ar_2019  ar_2020  ar_2021  ar_2022  ar_2023  ar_2024  \n",
       "0   0.8874   0.7824   0.3765  -0.2861   0.5394   0.3278  \n",
       "1   0.7341   1.1802   1.2448  -0.5144   2.4610   1.8930  \n",
       "2   0.5826   0.3994   0.5521  -0.2836   0.5696   0.2106  \n",
       "3   0.2006   0.7160   0.0464  -0.5071   0.7704   0.5358  \n",
       "4   0.2699   0.2805   0.6783  -0.3915   0.5674   0.4193  "
      ]
     },
     "execution_count": 27,
     "metadata": {},
     "output_type": "execute_result"
    }
   ],
   "source": [
    "num = definitive.select_dtypes(include='number')\n",
    "num.head(5)"
   ]
  },
  {
   "cell_type": "markdown",
   "metadata": {},
   "source": [
    "<h3 style=\"color: #4169E1;\">3.1 | Descriptive Statistics </h3>"
   ]
  },
  {
   "cell_type": "code",
   "execution_count": 28,
   "metadata": {},
   "outputs": [
    {
     "data": {
      "text/html": [
       "<div>\n",
       "<style scoped>\n",
       "    .dataframe tbody tr th:only-of-type {\n",
       "        vertical-align: middle;\n",
       "    }\n",
       "\n",
       "    .dataframe tbody tr th {\n",
       "        vertical-align: top;\n",
       "    }\n",
       "\n",
       "    .dataframe thead th {\n",
       "        text-align: right;\n",
       "    }\n",
       "</style>\n",
       "<table border=\"1\" class=\"dataframe\">\n",
       "  <thead>\n",
       "    <tr style=\"text-align: right;\">\n",
       "      <th></th>\n",
       "      <th>currentprice</th>\n",
       "      <th>marketcap</th>\n",
       "      <th>ebitda</th>\n",
       "      <th>revenuegrowth</th>\n",
       "      <th>fulltimeemployees</th>\n",
       "      <th>weight</th>\n",
       "      <th>ar_2014</th>\n",
       "      <th>ar_2015</th>\n",
       "      <th>ar_2016</th>\n",
       "      <th>ar_2017</th>\n",
       "      <th>ar_2018</th>\n",
       "      <th>ar_2019</th>\n",
       "      <th>ar_2020</th>\n",
       "      <th>ar_2021</th>\n",
       "      <th>ar_2022</th>\n",
       "      <th>ar_2023</th>\n",
       "      <th>ar_2024</th>\n",
       "    </tr>\n",
       "  </thead>\n",
       "  <tbody>\n",
       "    <tr>\n",
       "      <th>count</th>\n",
       "      <td>503.000000</td>\n",
       "      <td>5.030000e+02</td>\n",
       "      <td>4.740000e+02</td>\n",
       "      <td>500.000000</td>\n",
       "      <td>4.940000e+02</td>\n",
       "      <td>503.000000</td>\n",
       "      <td>470.000000</td>\n",
       "      <td>475.000000</td>\n",
       "      <td>480.000000</td>\n",
       "      <td>482.000000</td>\n",
       "      <td>485.000000</td>\n",
       "      <td>491.000000</td>\n",
       "      <td>495.000000</td>\n",
       "      <td>495.000000</td>\n",
       "      <td>497.000000</td>\n",
       "      <td>499.00000</td>\n",
       "      <td>503.000000</td>\n",
       "    </tr>\n",
       "    <tr>\n",
       "      <th>mean</th>\n",
       "      <td>227.857982</td>\n",
       "      <td>1.133958e+11</td>\n",
       "      <td>7.031397e+09</td>\n",
       "      <td>0.070484</td>\n",
       "      <td>5.774496e+04</td>\n",
       "      <td>0.001988</td>\n",
       "      <td>0.202700</td>\n",
       "      <td>0.044680</td>\n",
       "      <td>0.197927</td>\n",
       "      <td>0.258513</td>\n",
       "      <td>-0.036073</td>\n",
       "      <td>0.351187</td>\n",
       "      <td>0.191706</td>\n",
       "      <td>0.328461</td>\n",
       "      <td>-0.083842</td>\n",
       "      <td>0.19722</td>\n",
       "      <td>0.202896</td>\n",
       "    </tr>\n",
       "    <tr>\n",
       "      <th>std</th>\n",
       "      <td>516.807881</td>\n",
       "      <td>3.476971e+11</td>\n",
       "      <td>1.622777e+10</td>\n",
       "      <td>0.180071</td>\n",
       "      <td>1.394693e+05</td>\n",
       "      <td>0.006096</td>\n",
       "      <td>0.231231</td>\n",
       "      <td>0.252591</td>\n",
       "      <td>0.277881</td>\n",
       "      <td>0.260206</td>\n",
       "      <td>0.223571</td>\n",
       "      <td>0.314482</td>\n",
       "      <td>0.546766</td>\n",
       "      <td>0.294350</td>\n",
       "      <td>0.280172</td>\n",
       "      <td>0.35570</td>\n",
       "      <td>0.361134</td>\n",
       "    </tr>\n",
       "    <tr>\n",
       "      <th>min</th>\n",
       "      <td>9.840000</td>\n",
       "      <td>5.802753e+09</td>\n",
       "      <td>-3.991000e+09</td>\n",
       "      <td>-0.602000</td>\n",
       "      <td>2.800000e+01</td>\n",
       "      <td>0.000102</td>\n",
       "      <td>-0.356200</td>\n",
       "      <td>-0.753000</td>\n",
       "      <td>-0.710600</td>\n",
       "      <td>-0.430800</td>\n",
       "      <td>-0.576200</td>\n",
       "      <td>-0.543300</td>\n",
       "      <td>-0.580300</td>\n",
       "      <td>-0.350500</td>\n",
       "      <td>-0.710700</td>\n",
       "      <td>-0.48070</td>\n",
       "      <td>-0.619000</td>\n",
       "    </tr>\n",
       "    <tr>\n",
       "      <th>25%</th>\n",
       "      <td>71.615000</td>\n",
       "      <td>2.005199e+10</td>\n",
       "      <td>1.623194e+09</td>\n",
       "      <td>0.002000</td>\n",
       "      <td>1.020000e+04</td>\n",
       "      <td>0.000352</td>\n",
       "      <td>0.056800</td>\n",
       "      <td>-0.108700</td>\n",
       "      <td>0.048400</td>\n",
       "      <td>0.094325</td>\n",
       "      <td>-0.192900</td>\n",
       "      <td>0.185550</td>\n",
       "      <td>-0.050950</td>\n",
       "      <td>0.131300</td>\n",
       "      <td>-0.266200</td>\n",
       "      <td>-0.02480</td>\n",
       "      <td>0.004200</td>\n",
       "    </tr>\n",
       "    <tr>\n",
       "      <th>50%</th>\n",
       "      <td>125.330000</td>\n",
       "      <td>3.783493e+10</td>\n",
       "      <td>2.941705e+09</td>\n",
       "      <td>0.050000</td>\n",
       "      <td>2.159500e+04</td>\n",
       "      <td>0.000663</td>\n",
       "      <td>0.194050</td>\n",
       "      <td>0.040700</td>\n",
       "      <td>0.178650</td>\n",
       "      <td>0.223350</td>\n",
       "      <td>-0.037800</td>\n",
       "      <td>0.327900</td>\n",
       "      <td>0.127600</td>\n",
       "      <td>0.306900</td>\n",
       "      <td>-0.114600</td>\n",
       "      <td>0.13000</td>\n",
       "      <td>0.165500</td>\n",
       "    </tr>\n",
       "    <tr>\n",
       "      <th>75%</th>\n",
       "      <td>235.495000</td>\n",
       "      <td>8.247196e+10</td>\n",
       "      <td>6.017250e+09</td>\n",
       "      <td>0.109000</td>\n",
       "      <td>5.476225e+04</td>\n",
       "      <td>0.001446</td>\n",
       "      <td>0.313750</td>\n",
       "      <td>0.173450</td>\n",
       "      <td>0.309775</td>\n",
       "      <td>0.388000</td>\n",
       "      <td>0.093100</td>\n",
       "      <td>0.474900</td>\n",
       "      <td>0.302550</td>\n",
       "      <td>0.472350</td>\n",
       "      <td>0.060700</td>\n",
       "      <td>0.32030</td>\n",
       "      <td>0.354800</td>\n",
       "    </tr>\n",
       "    <tr>\n",
       "      <th>max</th>\n",
       "      <td>8848.690000</td>\n",
       "      <td>3.725894e+12</td>\n",
       "      <td>1.495470e+11</td>\n",
       "      <td>1.632000</td>\n",
       "      <td>2.100000e+06</td>\n",
       "      <td>0.065323</td>\n",
       "      <td>1.672100</td>\n",
       "      <td>1.722800</td>\n",
       "      <td>3.093900</td>\n",
       "      <td>1.427200</td>\n",
       "      <td>1.065900</td>\n",
       "      <td>4.311000</td>\n",
       "      <td>7.200500</td>\n",
       "      <td>1.900200</td>\n",
       "      <td>1.071300</td>\n",
       "      <td>2.46100</td>\n",
       "      <td>3.373300</td>\n",
       "    </tr>\n",
       "  </tbody>\n",
       "</table>\n",
       "</div>"
      ],
      "text/plain": [
       "       currentprice     marketcap        ebitda  revenuegrowth  \\\n",
       "count    503.000000  5.030000e+02  4.740000e+02     500.000000   \n",
       "mean     227.857982  1.133958e+11  7.031397e+09       0.070484   \n",
       "std      516.807881  3.476971e+11  1.622777e+10       0.180071   \n",
       "min        9.840000  5.802753e+09 -3.991000e+09      -0.602000   \n",
       "25%       71.615000  2.005199e+10  1.623194e+09       0.002000   \n",
       "50%      125.330000  3.783493e+10  2.941705e+09       0.050000   \n",
       "75%      235.495000  8.247196e+10  6.017250e+09       0.109000   \n",
       "max     8848.690000  3.725894e+12  1.495470e+11       1.632000   \n",
       "\n",
       "       fulltimeemployees      weight     ar_2014     ar_2015     ar_2016  \\\n",
       "count       4.940000e+02  503.000000  470.000000  475.000000  480.000000   \n",
       "mean        5.774496e+04    0.001988    0.202700    0.044680    0.197927   \n",
       "std         1.394693e+05    0.006096    0.231231    0.252591    0.277881   \n",
       "min         2.800000e+01    0.000102   -0.356200   -0.753000   -0.710600   \n",
       "25%         1.020000e+04    0.000352    0.056800   -0.108700    0.048400   \n",
       "50%         2.159500e+04    0.000663    0.194050    0.040700    0.178650   \n",
       "75%         5.476225e+04    0.001446    0.313750    0.173450    0.309775   \n",
       "max         2.100000e+06    0.065323    1.672100    1.722800    3.093900   \n",
       "\n",
       "          ar_2017     ar_2018     ar_2019     ar_2020     ar_2021     ar_2022  \\\n",
       "count  482.000000  485.000000  491.000000  495.000000  495.000000  497.000000   \n",
       "mean     0.258513   -0.036073    0.351187    0.191706    0.328461   -0.083842   \n",
       "std      0.260206    0.223571    0.314482    0.546766    0.294350    0.280172   \n",
       "min     -0.430800   -0.576200   -0.543300   -0.580300   -0.350500   -0.710700   \n",
       "25%      0.094325   -0.192900    0.185550   -0.050950    0.131300   -0.266200   \n",
       "50%      0.223350   -0.037800    0.327900    0.127600    0.306900   -0.114600   \n",
       "75%      0.388000    0.093100    0.474900    0.302550    0.472350    0.060700   \n",
       "max      1.427200    1.065900    4.311000    7.200500    1.900200    1.071300   \n",
       "\n",
       "         ar_2023     ar_2024  \n",
       "count  499.00000  503.000000  \n",
       "mean     0.19722    0.202896  \n",
       "std      0.35570    0.361134  \n",
       "min     -0.48070   -0.619000  \n",
       "25%     -0.02480    0.004200  \n",
       "50%      0.13000    0.165500  \n",
       "75%      0.32030    0.354800  \n",
       "max      2.46100    3.373300  "
      ]
     },
     "execution_count": 28,
     "metadata": {},
     "output_type": "execute_result"
    }
   ],
   "source": [
    "definitive.describe()"
   ]
  },
  {
   "cell_type": "code",
   "execution_count": 29,
   "metadata": {},
   "outputs": [
    {
     "data": {
      "text/plain": [
       "sector\n",
       "Technology                82\n",
       "Industrials               70\n",
       "Financial Services        67\n",
       "Healthcare                63\n",
       "Consumer Cyclical         55\n",
       "Consumer Defensive        37\n",
       "Utilities                 32\n",
       "Real Estate               31\n",
       "Communication Services    22\n",
       "Energy                    22\n",
       "Basic Materials           22\n",
       "Name: count, dtype: int64"
      ]
     },
     "execution_count": 29,
     "metadata": {},
     "output_type": "execute_result"
    }
   ],
   "source": [
    "frequ = cat.sector.value_counts()\n",
    "frequ"
   ]
  },
  {
   "cell_type": "code",
   "execution_count": 30,
   "metadata": {},
   "outputs": [
    {
     "data": {
      "text/plain": [
       "sector\n",
       "Technology                0.16\n",
       "Industrials               0.14\n",
       "Financial Services        0.13\n",
       "Healthcare                0.13\n",
       "Consumer Cyclical         0.11\n",
       "Consumer Defensive        0.07\n",
       "Utilities                 0.06\n",
       "Real Estate               0.06\n",
       "Communication Services    0.04\n",
       "Energy                    0.04\n",
       "Basic Materials           0.04\n",
       "Name: proportion, dtype: float64"
      ]
     },
     "execution_count": 30,
     "metadata": {},
     "output_type": "execute_result"
    }
   ],
   "source": [
    "table = cat.sector.value_counts(normalize=True).round(2)\n",
    "table"
   ]
  },
  {
   "cell_type": "code",
   "execution_count": 31,
   "metadata": {},
   "outputs": [
    {
     "data": {
      "text/html": [
       "<div>\n",
       "<style scoped>\n",
       "    .dataframe tbody tr th:only-of-type {\n",
       "        vertical-align: middle;\n",
       "    }\n",
       "\n",
       "    .dataframe tbody tr th {\n",
       "        vertical-align: top;\n",
       "    }\n",
       "\n",
       "    .dataframe thead th {\n",
       "        text-align: right;\n",
       "    }\n",
       "</style>\n",
       "<table border=\"1\" class=\"dataframe\">\n",
       "  <thead>\n",
       "    <tr style=\"text-align: right;\">\n",
       "      <th></th>\n",
       "      <th>count</th>\n",
       "      <th>proportion</th>\n",
       "    </tr>\n",
       "    <tr>\n",
       "      <th>sector</th>\n",
       "      <th></th>\n",
       "      <th></th>\n",
       "    </tr>\n",
       "  </thead>\n",
       "  <tbody>\n",
       "    <tr>\n",
       "      <th>Technology</th>\n",
       "      <td>82</td>\n",
       "      <td>0.16</td>\n",
       "    </tr>\n",
       "    <tr>\n",
       "      <th>Industrials</th>\n",
       "      <td>70</td>\n",
       "      <td>0.14</td>\n",
       "    </tr>\n",
       "    <tr>\n",
       "      <th>Financial Services</th>\n",
       "      <td>67</td>\n",
       "      <td>0.13</td>\n",
       "    </tr>\n",
       "    <tr>\n",
       "      <th>Healthcare</th>\n",
       "      <td>63</td>\n",
       "      <td>0.13</td>\n",
       "    </tr>\n",
       "    <tr>\n",
       "      <th>Consumer Cyclical</th>\n",
       "      <td>55</td>\n",
       "      <td>0.11</td>\n",
       "    </tr>\n",
       "    <tr>\n",
       "      <th>Consumer Defensive</th>\n",
       "      <td>37</td>\n",
       "      <td>0.07</td>\n",
       "    </tr>\n",
       "    <tr>\n",
       "      <th>Utilities</th>\n",
       "      <td>32</td>\n",
       "      <td>0.06</td>\n",
       "    </tr>\n",
       "    <tr>\n",
       "      <th>Real Estate</th>\n",
       "      <td>31</td>\n",
       "      <td>0.06</td>\n",
       "    </tr>\n",
       "    <tr>\n",
       "      <th>Communication Services</th>\n",
       "      <td>22</td>\n",
       "      <td>0.04</td>\n",
       "    </tr>\n",
       "    <tr>\n",
       "      <th>Energy</th>\n",
       "      <td>22</td>\n",
       "      <td>0.04</td>\n",
       "    </tr>\n",
       "    <tr>\n",
       "      <th>Basic Materials</th>\n",
       "      <td>22</td>\n",
       "      <td>0.04</td>\n",
       "    </tr>\n",
       "  </tbody>\n",
       "</table>\n",
       "</div>"
      ],
      "text/plain": [
       "                        count  proportion\n",
       "sector                                   \n",
       "Technology                 82        0.16\n",
       "Industrials                70        0.14\n",
       "Financial Services         67        0.13\n",
       "Healthcare                 63        0.13\n",
       "Consumer Cyclical          55        0.11\n",
       "Consumer Defensive         37        0.07\n",
       "Utilities                  32        0.06\n",
       "Real Estate                31        0.06\n",
       "Communication Services     22        0.04\n",
       "Energy                     22        0.04\n",
       "Basic Materials            22        0.04"
      ]
     },
     "execution_count": 31,
     "metadata": {},
     "output_type": "execute_result"
    }
   ],
   "source": [
    "frequency_table = pd.concat([frequ,table], axis = 1)\n",
    "frequency_table\n"
   ]
  },
  {
   "cell_type": "code",
   "execution_count": null,
   "metadata": {},
   "outputs": [],
   "source": [
    "# crosstab sector\n",
    "pd.crosstab(index=definitive['sector'],\n",
    "            columns='count')"
   ]
  },
  {
   "cell_type": "code",
   "execution_count": null,
   "metadata": {},
   "outputs": [],
   "source": []
  },
  {
   "cell_type": "markdown",
   "metadata": {},
   "source": [
    "<h3 style=\"color: #4169E1;\"> 3.2 | Checking Distributions</h3>"
   ]
  },
  {
   "cell_type": "markdown",
   "metadata": {},
   "source": [
    "<h3 style=\"color: #4169E1;\"> 3.3 | Checking our target distribution</h3>"
   ]
  },
  {
   "cell_type": "code",
   "execution_count": null,
   "metadata": {},
   "outputs": [],
   "source": [
    "#pearson \n",
    "num.corrwith(definitive['currentprice'])"
   ]
  },
  {
   "cell_type": "code",
   "execution_count": null,
   "metadata": {},
   "outputs": [],
   "source": [
    "num.corrwith(df['currentprice'], method='spearman').sort_values(ascending=False)[:5]"
   ]
  },
  {
   "cell_type": "code",
   "execution_count": null,
   "metadata": {},
   "outputs": [],
   "source": []
  },
  {
   "cell_type": "markdown",
   "metadata": {},
   "source": [
    "<h3 style=\"color: #4169E1;\">3.4 | Checking Outliers </h3>"
   ]
  },
  {
   "cell_type": "markdown",
   "metadata": {},
   "source": [
    "<h3 style=\"color: #4169E1;\">3.5 | Looking for Correlations </h3>"
   ]
  },
  {
   "cell_type": "code",
   "execution_count": null,
   "metadata": {},
   "outputs": [],
   "source": [
    "correlation_matrix = num.corr()\n",
    "correlation_matrix"
   ]
  },
  {
   "cell_type": "code",
   "execution_count": null,
   "metadata": {},
   "outputs": [],
   "source": [
    "# Correlation Matrix-Heatmap Plot\n",
    "mask = np.zeros_like(correlation_matrix)\n",
    "mask[np.triu_indices_from(mask)] = True \n",
    "f, ax = plt.subplots(figsize=(20, 10))\n",
    "sns.set(font_scale=1.5)\n",
    "\n",
    "ax = sns.heatmap(correlation_matrix, mask=mask, annot=True, annot_kws={\"size\": 12}, linewidths=.5, cmap=\"BuPu\", fmt=\".2f\", ax=ax) # round to 2 decimal places\n",
    "ax.set_title(\"Correlation Heatmap\", fontsize=20) "
   ]
  },
  {
   "cell_type": "code",
   "execution_count": null,
   "metadata": {},
   "outputs": [],
   "source": [
    "# Plotting scatter plots for each numerical column against 'currentprice' to visualize their relationships\n",
    "for col in num.columns:\n",
    "    plt.figure(figsize=(5, 5))\n",
    "    plt.title('Scatter plot of price vs ' + col)\n",
    "    sns.scatterplot(data=definitive, x=col, y='currentprice')\n",
    "    plt.show()"
   ]
  },
  {
   "cell_type": "markdown",
   "metadata": {},
   "source": [
    "<h2 style=\"color: #9370DB;\"> 04 | Data Processing </h2>"
   ]
  },
  {
   "cell_type": "markdown",
   "metadata": {},
   "source": [
    "<h3 style=\"color: #4169E1;\"> 4.1 | X-Y Split</h3>"
   ]
  },
  {
   "cell_type": "markdown",
   "metadata": {},
   "source": [
    "<h3 style=\"color: #4169E1;\"> 4.2 | Selecting the Model</h3>"
   ]
  },
  {
   "cell_type": "markdown",
   "metadata": {},
   "source": [
    "<h4 style=\"color: #00BFFF;\"> 4.2.1 | Selecting Model: Linear Regression </h4>"
   ]
  },
  {
   "cell_type": "markdown",
   "metadata": {},
   "source": [
    "<h4 style=\"color: #00BFFF;\"> 4.2.2 | Selecting Model: Ridge Regression </h4>"
   ]
  },
  {
   "cell_type": "markdown",
   "metadata": {},
   "source": [
    "<h4 style=\"color: #00BFFF;\"> 4.2.3 | Selecting Model: Lasso Regression </h4>"
   ]
  },
  {
   "cell_type": "markdown",
   "metadata": {},
   "source": [
    "<h4 style=\"color: #00BFFF;\"> 4.2.4 | Selecting Model: Decision Tree Regression </h4>"
   ]
  },
  {
   "cell_type": "markdown",
   "metadata": {},
   "source": [
    "<h4 style=\"color: #00BFFF;\"> 4.2.5 | Selecting Model: KNN Regression </h4>"
   ]
  },
  {
   "cell_type": "markdown",
   "metadata": {},
   "source": [
    "<h4 style=\"color: #00BFFF;\"> 4.2.6 | Selecting Model: XGBoost Regression </h4>"
   ]
  },
  {
   "cell_type": "markdown",
   "metadata": {},
   "source": [
    "<h3 style=\"color: #4169E1;\"> 4.3 | Final Comparision</h3>"
   ]
  },
  {
   "cell_type": "markdown",
   "metadata": {},
   "source": [
    "<h2 style=\"color: #9370DB;\"> 05 | Improving Model </h2>"
   ]
  },
  {
   "cell_type": "markdown",
   "metadata": {},
   "source": [
    "<h3 style=\"color: #4169E1;\"> 5.1 | Normalization with MinMaxScaler</h3>"
   ]
  },
  {
   "cell_type": "markdown",
   "metadata": {},
   "source": [
    "<h3 style=\"color: #4169E1;\"> 5.2 | Standardization with StandardScaler</h3>"
   ]
  },
  {
   "cell_type": "markdown",
   "metadata": {},
   "source": [
    "<h3 style=\"color: #4169E1;\"> 5.3 | Normzalization with Long Transform</h3>"
   ]
  },
  {
   "cell_type": "markdown",
   "metadata": {},
   "source": [
    "<h3 style=\"color: #4169E1;\"> 5.4 | Feature Engineering </h3>"
   ]
  },
  {
   "cell_type": "markdown",
   "metadata": {},
   "source": [
    "<h2 style=\"color: #9370DB;\"> 06 | Reporting </h2>"
   ]
  }
 ],
 "metadata": {
  "kernelspec": {
   "display_name": "base",
   "language": "python",
   "name": "python3"
  },
  "language_info": {
   "codemirror_mode": {
    "name": "ipython",
    "version": 3
   },
   "file_extension": ".py",
   "mimetype": "text/x-python",
   "name": "python",
   "nbconvert_exporter": "python",
   "pygments_lexer": "ipython3",
   "version": "3.12.4"
  }
 },
 "nbformat": 4,
 "nbformat_minor": 2
}
