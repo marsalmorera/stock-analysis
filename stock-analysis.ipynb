{
 "cells": [
  {
   "cell_type": "markdown",
   "metadata": {},
   "source": [
    "<h1 style= \"color:#9370DB;\"> Stock Analysis </h1>"
   ]
  },
  {
   "cell_type": "code",
   "execution_count": 1,
   "metadata": {},
   "outputs": [],
   "source": [
    "# 📚 Libraries \n",
    "import kagglehub\n",
    "import pandas as pd\n",
    "import numpy as np\n",
    "import os\n",
    "\n",
    "# New liabraries. \n",
    "import scipy.stats as st\n",
    "import statsmodels.api as sm\n",
    "import statsmodels.formula.api as smf\n",
    "\n",
    "# 📊 Visualizations\n",
    "import matplotlib.pyplot as plt\n",
    "import seaborn as sns\n",
    "import plotly.express as px\n",
    "import plotly.graph_objects as g\n",
    "\n",
    "# 🤖 Machine Learning\n",
    "from sklearn.model_selection import train_test_split\n",
    "from sklearn.linear_model import LinearRegression\n",
    "from sklearn.metrics import r2_score, mean_squared_error, mean_absolute_error "
   ]
  },
  {
   "cell_type": "markdown",
   "metadata": {},
   "source": [
    "### The Stock Analysis Dataset:\n",
    "\n",
    "\n",
    "**First impressions:**\n",
    "    \n",
    "_____________\n",
    "\n",
    "The **S&P 500** is a stock market index tracking the performance of the largest 500 publicly traded companies listed on U.S. stock exchanges.\n",
    "\n",
    "Investors have long used the S&P 500 as a benchmark for their investments as it tends to signal overall market health. \n",
    "The index is a popular choice for long-term inverstors who wish to watch growth over the coming deacades. \n",
    "\n",
    "The dataset contains: \n",
    "- S&P 500 **Index**: Contains the daily price of the index, representing the overall performance of the 500 companies in the S&P 500.\n",
    "- S&P 500 **Stocks**: Includes the daily stock prices for each company within the index, providing insights into individual stock movements. \n",
    "- S&P 500 **Companies**: Provides detailed information about each company, including metrics such as Name, Sector, Marketcap, Ebitda, Weight.\n",
    "\n",
    "The data types are even: (13 int or float / 13 objects).\n",
    "\n",
    "Our **project goal** is to identify the performance of various sectors in the S&P 500. After reading the [documentation](https://www.kaggle.com/datasets/andrewmvd/sp-500-stocks) we will proceed with the following **strategy**:\n",
    "\n",
    "1. The **target** of our dataset will be `currentprice`, which is the actual price of the stock right now.\n",
    "2. Through **Exploratory Data Analysis** we will identify the features that contribute to this prediction.\n",
    "\n",
    "\n",
    "_____________"
   ]
  },
  {
   "cell_type": "markdown",
   "metadata": {},
   "source": [
    "<h2 style=\"color: #9370DB;\"> 01 | Data Extraction </h2>"
   ]
  },
  {
   "cell_type": "code",
   "execution_count": 2,
   "metadata": {},
   "outputs": [],
   "source": [
    "data = pd.read_csv('sp500_stocks.csv')\n",
    "df = pd.read_csv('sp500_companies.csv')\n",
    "sp = pd.read_csv('sp500_index.csv')"
   ]
  },
  {
   "cell_type": "code",
   "execution_count": 3,
   "metadata": {},
   "outputs": [],
   "source": [
    "# Cleaning columns with snake_case \n",
    "data.columns = [col.lower().replace(\" \", \"_\")for col in data.columns] \n",
    "df.columns = [col.lower().replace(\" \", \"_\")for col in df.columns] \n",
    "sp.columns = [col.lower().replace(\" \", \"_\")for col in sp.columns] "
   ]
  },
  {
   "cell_type": "markdown",
   "metadata": {},
   "source": [
    "<h3 style=\"color: #4169E1;\">1.1 | Exploring the Data </h3>"
   ]
  },
  {
   "cell_type": "code",
   "execution_count": 4,
   "metadata": {},
   "outputs": [
    {
     "data": {
      "text/html": [
       "<div>\n",
       "<style scoped>\n",
       "    .dataframe tbody tr th:only-of-type {\n",
       "        vertical-align: middle;\n",
       "    }\n",
       "\n",
       "    .dataframe tbody tr th {\n",
       "        vertical-align: top;\n",
       "    }\n",
       "\n",
       "    .dataframe thead th {\n",
       "        text-align: right;\n",
       "    }\n",
       "</style>\n",
       "<table border=\"1\" class=\"dataframe\">\n",
       "  <thead>\n",
       "    <tr style=\"text-align: right;\">\n",
       "      <th></th>\n",
       "      <th>date</th>\n",
       "      <th>symbol</th>\n",
       "      <th>adj_close</th>\n",
       "      <th>close</th>\n",
       "      <th>high</th>\n",
       "      <th>low</th>\n",
       "      <th>open</th>\n",
       "      <th>volume</th>\n",
       "    </tr>\n",
       "  </thead>\n",
       "  <tbody>\n",
       "    <tr>\n",
       "      <th>1195928</th>\n",
       "      <td>2013-07-10</td>\n",
       "      <td>MSFT</td>\n",
       "      <td>28.582773</td>\n",
       "      <td>34.700001</td>\n",
       "      <td>34.810001</td>\n",
       "      <td>34.320000</td>\n",
       "      <td>34.34000</td>\n",
       "      <td>29658800.0</td>\n",
       "    </tr>\n",
       "    <tr>\n",
       "      <th>1052365</th>\n",
       "      <td>2010-07-02</td>\n",
       "      <td>KHC</td>\n",
       "      <td>NaN</td>\n",
       "      <td>NaN</td>\n",
       "      <td>NaN</td>\n",
       "      <td>NaN</td>\n",
       "      <td>NaN</td>\n",
       "      <td>NaN</td>\n",
       "    </tr>\n",
       "    <tr>\n",
       "      <th>178939</th>\n",
       "      <td>2019-03-14</td>\n",
       "      <td>T</td>\n",
       "      <td>14.737947</td>\n",
       "      <td>22.870090</td>\n",
       "      <td>23.028702</td>\n",
       "      <td>22.817221</td>\n",
       "      <td>22.87009</td>\n",
       "      <td>29249014.0</td>\n",
       "    </tr>\n",
       "  </tbody>\n",
       "</table>\n",
       "</div>"
      ],
      "text/plain": [
       "               date symbol  adj_close      close       high        low  \\\n",
       "1195928  2013-07-10   MSFT  28.582773  34.700001  34.810001  34.320000   \n",
       "1052365  2010-07-02    KHC        NaN        NaN        NaN        NaN   \n",
       "178939   2019-03-14      T  14.737947  22.870090  23.028702  22.817221   \n",
       "\n",
       "             open      volume  \n",
       "1195928  34.34000  29658800.0  \n",
       "1052365       NaN         NaN  \n",
       "178939   22.87009  29249014.0  "
      ]
     },
     "execution_count": 4,
     "metadata": {},
     "output_type": "execute_result"
    }
   ],
   "source": [
    "data.sample(3)"
   ]
  },
  {
   "cell_type": "markdown",
   "metadata": {},
   "source": [
    "### Dataset Description: \n",
    "\n",
    "A brief analysis of each column. \n",
    "- `Date`: The specific date for which the stock date is recorded. \n",
    "- `Symbol`: A unique \"ticker\" code that identifies the company on the stock exchange. \n",
    "- `Adj_close`: The closing price of the stock after adjustments for dividends, splits, or other corporate actions. \n",
    "- `Close`: The unadjusted closing price of the stock on a given date.  \n",
    "- `High`: The highest price at which the stock traded during the day.  \n",
    "- `Low`: The lowest price at which the stock traded during the day. \n",
    "- `Open`: The price at which the stock started trading at the beginning of the day.\n",
    "- `Volume`: The total number of shares traded during the day."
   ]
  },
  {
   "cell_type": "code",
   "execution_count": 5,
   "metadata": {},
   "outputs": [
    {
     "data": {
      "text/html": [
       "<div>\n",
       "<style scoped>\n",
       "    .dataframe tbody tr th:only-of-type {\n",
       "        vertical-align: middle;\n",
       "    }\n",
       "\n",
       "    .dataframe tbody tr th {\n",
       "        vertical-align: top;\n",
       "    }\n",
       "\n",
       "    .dataframe thead th {\n",
       "        text-align: right;\n",
       "    }\n",
       "</style>\n",
       "<table border=\"1\" class=\"dataframe\">\n",
       "  <thead>\n",
       "    <tr style=\"text-align: right;\">\n",
       "      <th></th>\n",
       "      <th>exchange</th>\n",
       "      <th>symbol</th>\n",
       "      <th>shortname</th>\n",
       "      <th>longname</th>\n",
       "      <th>sector</th>\n",
       "      <th>industry</th>\n",
       "      <th>currentprice</th>\n",
       "      <th>marketcap</th>\n",
       "      <th>ebitda</th>\n",
       "      <th>revenuegrowth</th>\n",
       "      <th>city</th>\n",
       "      <th>state</th>\n",
       "      <th>country</th>\n",
       "      <th>fulltimeemployees</th>\n",
       "      <th>longbusinesssummary</th>\n",
       "      <th>weight</th>\n",
       "    </tr>\n",
       "  </thead>\n",
       "  <tbody>\n",
       "    <tr>\n",
       "      <th>143</th>\n",
       "      <td>NMS</td>\n",
       "      <td>ORLY</td>\n",
       "      <td>O'Reilly Automotive, Inc.</td>\n",
       "      <td>O'Reilly Automotive, Inc.</td>\n",
       "      <td>Consumer Cyclical</td>\n",
       "      <td>Specialty Retail</td>\n",
       "      <td>1257.78</td>\n",
       "      <td>72612519936</td>\n",
       "      <td>3.685245e+09</td>\n",
       "      <td>0.038</td>\n",
       "      <td>Springfield</td>\n",
       "      <td>MO</td>\n",
       "      <td>United States</td>\n",
       "      <td>92709.0</td>\n",
       "      <td>O'Reilly Automotive, Inc., together with its s...</td>\n",
       "      <td>0.001278</td>\n",
       "    </tr>\n",
       "    <tr>\n",
       "      <th>75</th>\n",
       "      <td>NYQ</td>\n",
       "      <td>UNP</td>\n",
       "      <td>Union Pacific Corporation</td>\n",
       "      <td>Union Pacific Corporation</td>\n",
       "      <td>Industrials</td>\n",
       "      <td>Railroads</td>\n",
       "      <td>233.57</td>\n",
       "      <td>141603454976</td>\n",
       "      <td>1.203000e+10</td>\n",
       "      <td>0.025</td>\n",
       "      <td>Omaha</td>\n",
       "      <td>NE</td>\n",
       "      <td>United States</td>\n",
       "      <td>30518.0</td>\n",
       "      <td>Union Pacific Corporation, through its subsidi...</td>\n",
       "      <td>0.002492</td>\n",
       "    </tr>\n",
       "    <tr>\n",
       "      <th>451</th>\n",
       "      <td>NYQ</td>\n",
       "      <td>SWK</td>\n",
       "      <td>Stanley Black &amp; Decker, Inc.</td>\n",
       "      <td>Stanley Black &amp; Decker, Inc.</td>\n",
       "      <td>Industrials</td>\n",
       "      <td>Tools &amp; Accessories</td>\n",
       "      <td>84.46</td>\n",
       "      <td>13020691456</td>\n",
       "      <td>1.663700e+09</td>\n",
       "      <td>-0.051</td>\n",
       "      <td>New Britain</td>\n",
       "      <td>CT</td>\n",
       "      <td>United States</td>\n",
       "      <td>50500.0</td>\n",
       "      <td>Stanley Black &amp; Decker, Inc. provides hand too...</td>\n",
       "      <td>0.000229</td>\n",
       "    </tr>\n",
       "  </tbody>\n",
       "</table>\n",
       "</div>"
      ],
      "text/plain": [
       "    exchange symbol                     shortname  \\\n",
       "143      NMS   ORLY     O'Reilly Automotive, Inc.   \n",
       "75       NYQ    UNP     Union Pacific Corporation   \n",
       "451      NYQ    SWK  Stanley Black & Decker, Inc.   \n",
       "\n",
       "                         longname             sector             industry  \\\n",
       "143     O'Reilly Automotive, Inc.  Consumer Cyclical     Specialty Retail   \n",
       "75      Union Pacific Corporation        Industrials            Railroads   \n",
       "451  Stanley Black & Decker, Inc.        Industrials  Tools & Accessories   \n",
       "\n",
       "     currentprice     marketcap        ebitda  revenuegrowth         city  \\\n",
       "143       1257.78   72612519936  3.685245e+09          0.038  Springfield   \n",
       "75         233.57  141603454976  1.203000e+10          0.025        Omaha   \n",
       "451         84.46   13020691456  1.663700e+09         -0.051  New Britain   \n",
       "\n",
       "    state        country  fulltimeemployees  \\\n",
       "143    MO  United States            92709.0   \n",
       "75     NE  United States            30518.0   \n",
       "451    CT  United States            50500.0   \n",
       "\n",
       "                                   longbusinesssummary    weight  \n",
       "143  O'Reilly Automotive, Inc., together with its s...  0.001278  \n",
       "75   Union Pacific Corporation, through its subsidi...  0.002492  \n",
       "451  Stanley Black & Decker, Inc. provides hand too...  0.000229  "
      ]
     },
     "execution_count": 5,
     "metadata": {},
     "output_type": "execute_result"
    }
   ],
   "source": [
    "df.sample(3)"
   ]
  },
  {
   "cell_type": "markdown",
   "metadata": {},
   "source": [
    "### Dataset Description: \n",
    "\n",
    "A brief analysis of each column: \n",
    "- `Exchange`: A marketplace where stocks, bonds or other comodities are traded. (Example: NYSE, NASDAQ).\n",
    "- `Symbol`: A unique \"ticker\" code that identifies the company on the stock exchange. \n",
    "- `Shortname`: The abbreviated name of the company. \n",
    "- `Longname`: The full name of the company. \n",
    "- `Sector`: The broader industry classification that the company belongs to, such as Technology, Healthcare, etc. \n",
    "- `Industry`: A more specific classification of the company's operations (e.g., Software, Pharmaceuticals).\n",
    "- `Currentprice`: The most recent price at which the company's stock was sold or bought. \n",
    "- `Marketprice`: The total market value of the company's outstanding shares, calculated as: Current Price X Outstanding Shares. \n",
    "- `Ebitda`: (Earnings Before Interest Taxes Depreciation and Amortization ) Measures how profitable a company is before paying interest, taxes, and taking depreciation and amortization. \n",
    "- `Revenuegrowth`: The percentage increase or decrease in sales between periods, calculated as: \n",
    "- `City`: The city where the company's headquarters is located. \n",
    "- `State`: The state where the company's headquarters is located.\n",
    "- `Country`: The country of the company's origin. \n",
    "- `Fulltimeemployees`: The total number of employes of the company's business activities. \n",
    "- `Longbusinesssummary`: A breif description and overview of the company's business activities. \n",
    "- `Weight`: Represents the weight of the company's market cap relative to the total market cap, used in index calculations in the S&P 500. \n"
   ]
  },
  {
   "cell_type": "code",
   "execution_count": 6,
   "metadata": {},
   "outputs": [
    {
     "data": {
      "text/html": [
       "<div>\n",
       "<style scoped>\n",
       "    .dataframe tbody tr th:only-of-type {\n",
       "        vertical-align: middle;\n",
       "    }\n",
       "\n",
       "    .dataframe tbody tr th {\n",
       "        vertical-align: top;\n",
       "    }\n",
       "\n",
       "    .dataframe thead th {\n",
       "        text-align: right;\n",
       "    }\n",
       "</style>\n",
       "<table border=\"1\" class=\"dataframe\">\n",
       "  <thead>\n",
       "    <tr style=\"text-align: right;\">\n",
       "      <th></th>\n",
       "      <th>date</th>\n",
       "      <th>s&amp;p500</th>\n",
       "    </tr>\n",
       "  </thead>\n",
       "  <tbody>\n",
       "    <tr>\n",
       "      <th>2404</th>\n",
       "      <td>2024-06-28</td>\n",
       "      <td>5460.48</td>\n",
       "    </tr>\n",
       "    <tr>\n",
       "      <th>1352</th>\n",
       "      <td>2020-04-23</td>\n",
       "      <td>2797.80</td>\n",
       "    </tr>\n",
       "    <tr>\n",
       "      <th>288</th>\n",
       "      <td>2016-02-01</td>\n",
       "      <td>1939.38</td>\n",
       "    </tr>\n",
       "  </tbody>\n",
       "</table>\n",
       "</div>"
      ],
      "text/plain": [
       "            date   s&p500\n",
       "2404  2024-06-28  5460.48\n",
       "1352  2020-04-23  2797.80\n",
       "288   2016-02-01  1939.38"
      ]
     },
     "execution_count": 6,
     "metadata": {},
     "output_type": "execute_result"
    }
   ],
   "source": [
    "sp.sample(3)"
   ]
  },
  {
   "cell_type": "markdown",
   "metadata": {},
   "source": [
    "### Dataset Description: \n",
    "\n",
    "A brief analysis of each colunn: \n",
    "\n",
    "- `Date`: The specific date for which the S&P 500 date is recorded. \n",
    "- `s&p500`: The closing price of the S&P 500 on a given date.  "
   ]
  },
  {
   "cell_type": "markdown",
   "metadata": {},
   "source": [
    "<h3 style=\"color: #4169E1;\">1.2 | Copies</h3>"
   ]
  },
  {
   "cell_type": "code",
   "execution_count": 8,
   "metadata": {},
   "outputs": [],
   "source": [
    "data2 = data.copy()\n",
    "df2 = df.copy()\n",
    "sp2 = sp.copy()"
   ]
  },
  {
   "cell_type": "markdown",
   "metadata": {},
   "source": [
    "<h2 style=\"color: #9370DB;\"> 02 | ⚒️ Data Cleaning </h2>"
   ]
  },
  {
   "cell_type": "markdown",
   "metadata": {},
   "source": [
    "<h3 style=\"color: #4169E1;\"> 2.1 | Dealing with Data types</h3>"
   ]
  },
  {
   "cell_type": "code",
   "execution_count": null,
   "metadata": {},
   "outputs": [],
   "source": [
    "data.dtypes"
   ]
  },
  {
   "cell_type": "code",
   "execution_count": null,
   "metadata": {},
   "outputs": [],
   "source": [
    "df.dtypes"
   ]
  },
  {
   "cell_type": "code",
   "execution_count": null,
   "metadata": {},
   "outputs": [],
   "source": [
    "sp.dtypes"
   ]
  },
  {
   "cell_type": "markdown",
   "metadata": {},
   "source": [
    "<h3 style=\"color: #4169E1;\"> 2.2 | Dealing with NaN values</h3>"
   ]
  },
  {
   "cell_type": "code",
   "execution_count": null,
   "metadata": {},
   "outputs": [],
   "source": [
    "df.isna().sum()"
   ]
  },
  {
   "cell_type": "code",
   "execution_count": null,
   "metadata": {},
   "outputs": [],
   "source": [
    "sp.isna().sum()"
   ]
  },
  {
   "cell_type": "code",
   "execution_count": null,
   "metadata": {},
   "outputs": [],
   "source": [
    "data.isna().sum()"
   ]
  },
  {
   "cell_type": "code",
   "execution_count": 14,
   "metadata": {},
   "outputs": [],
   "source": [
    "# Delete NaN. TELL WHY I'M dropping \n",
    "data2.dropna(how='any', inplace=True)"
   ]
  },
  {
   "cell_type": "code",
   "execution_count": null,
   "metadata": {},
   "outputs": [],
   "source": [
    "data2.isna().sum()"
   ]
  },
  {
   "cell_type": "code",
   "execution_count": null,
   "metadata": {},
   "outputs": [],
   "source": [
    "# Use this as a reference conunting the same dproing them that without droping them. \n",
    "data2.symbol.value_counts()"
   ]
  },
  {
   "cell_type": "markdown",
   "metadata": {},
   "source": [
    "<h3 style=\"color: #4169E1;\"> 2.3 | Dealing with Duplicates</h3>"
   ]
  },
  {
   "cell_type": "code",
   "execution_count": null,
   "metadata": {},
   "outputs": [],
   "source": [
    "data2.duplicated().sum()"
   ]
  },
  {
   "cell_type": "code",
   "execution_count": null,
   "metadata": {},
   "outputs": [],
   "source": [
    "df.duplicated().sum()"
   ]
  },
  {
   "cell_type": "code",
   "execution_count": null,
   "metadata": {},
   "outputs": [],
   "source": [
    "sp.duplicated().sum()"
   ]
  },
  {
   "cell_type": "markdown",
   "metadata": {},
   "source": [
    "<h3 style=\"color: #4169E1;\"> 2.5 | Dealing with outliers</h3>"
   ]
  },
  {
   "cell_type": "code",
   "execution_count": null,
   "metadata": {},
   "outputs": [],
   "source": [
    "def outlier_slayer(data): \n",
    "    \"\"\"\n",
    "    Automatically removes outliers based on Q1, Q3\n",
    "    \"\"\"\n",
    "    for column in data.select_dtypes(include=[np.number]):\n",
    "        Q1 = data[column].quantile(0.25)\n",
    "        Q3 = data[column].quantile(0.75)\n",
    "        IQR = Q3 - Q1\n",
    "        lower_bound = Q1 - 1.5 * IQR\n",
    "        upper_bound = Q3 + 1.5 * IQR\n",
    "        data = data[(data[column] >= lower_bound) & (data[column] <= upper_bound)]\n",
    "    return data"
   ]
  },
  {
   "cell_type": "code",
   "execution_count": null,
   "metadata": {},
   "outputs": [],
   "source": [
    "df = outlier_slayer(df, \"price\")"
   ]
  },
  {
   "cell_type": "markdown",
   "metadata": {},
   "source": [
    "<h3 style=\"color: #4169E1;\"> 2.6 | Moving target to the right </h3>"
   ]
  },
  {
   "cell_type": "code",
   "execution_count": null,
   "metadata": {},
   "outputs": [],
   "source": []
  },
  {
   "cell_type": "markdown",
   "metadata": {},
   "source": [
    "<h3 style=\"color: #4169E1;\"> 2.7 | Other Steps </h3>"
   ]
  },
  {
   "cell_type": "code",
   "execution_count": 20,
   "metadata": {},
   "outputs": [],
   "source": [
    "# Delete Columns \n",
    "data2.drop(columns=['high', 'low', 'open','close'], inplace=True)"
   ]
  },
  {
   "cell_type": "code",
   "execution_count": 21,
   "metadata": {},
   "outputs": [],
   "source": [
    "# Change to datetime. \n",
    "data2['date'] = pd.to_datetime(data2['date'])"
   ]
  },
  {
   "cell_type": "code",
   "execution_count": 22,
   "metadata": {},
   "outputs": [],
   "source": [
    "data2['year'] = data2['date'].dt.year\n",
    "data2['month'] = data2['date'].dt.month\n",
    "data2['day'] = data2['date'].dt.day"
   ]
  },
  {
   "cell_type": "code",
   "execution_count": null,
   "metadata": {},
   "outputs": [],
   "source": [
    "cols = ['year', 'month', 'day', 'symbol', 'adj_close', 'volume']\n",
    "data2 = data2[cols]\n",
    "data2.head(3)"
   ]
  },
  {
   "cell_type": "code",
   "execution_count": 24,
   "metadata": {},
   "outputs": [],
   "source": [
    "# Drop rows where year is between 2010 and 2013 because SP500 for comparison we do have 2014. \n",
    "data2.drop(data2[(data2['year'] >= 2010) & (data2['year'] <= 2014)].index, inplace=True)"
   ]
  },
  {
   "cell_type": "code",
   "execution_count": null,
   "metadata": {},
   "outputs": [],
   "source": [
    "# Chat helped. \n",
    "annual_returns = data2.groupby(['symbol', 'year']).apply(lambda group: (group['adj_close'].iloc[-1] / group['adj_close'].iloc[0]) - 1).reset_index(name='annual_return').round(4)"
   ]
  },
  {
   "cell_type": "code",
   "execution_count": 26,
   "metadata": {},
   "outputs": [],
   "source": [
    "pivoted_df = annual_returns.pivot(index='symbol', columns='year', values='annual_return')"
   ]
  },
  {
   "cell_type": "code",
   "execution_count": null,
   "metadata": {},
   "outputs": [],
   "source": [
    "pivoted_df.sample(3)"
   ]
  },
  {
   "cell_type": "code",
   "execution_count": 28,
   "metadata": {},
   "outputs": [],
   "source": [
    "pivoted_df = pivoted_df.rename(columns={2015: 'ar_2015',2016:'ar_2016',2017: 'ar_2017', \n",
    "                                          2018:'ar_2018', 2019: 'ar_2019',2020: 'ar_2020', 2021: 'ar_2021', 2022:'ar_2022', 2023:'ar_2023',2024: 'ar_2024'})"
   ]
  },
  {
   "cell_type": "code",
   "execution_count": 29,
   "metadata": {},
   "outputs": [],
   "source": [
    "cols = ['exchange', 'symbol', 'shortname','longname','sector','industry',\n",
    "        'marketcap','ebitda', 'revenuegrowth', 'city', 'state', 'country',   \n",
    "        'fulltimeemployees', 'longbusinesssummary', 'weight', 'mean_2015', 'mean_2016', 'mean_2017', 'mean_2018', 'mean_2019',\n",
    "        'mean_2020', 'mean_2021', 'mean_2022', 'mean_2023', 'mean_2024', 'currentprice']"
   ]
  },
  {
   "cell_type": "code",
   "execution_count": null,
   "metadata": {},
   "outputs": [],
   "source": [
    "definitive = pd.merge (df, pivoted_df, on='symbol')\n",
    "definitive"
   ]
  },
  {
   "cell_type": "code",
   "execution_count": 31,
   "metadata": {},
   "outputs": [],
   "source": [
    "cols = ['exchange', 'symbol', 'shortname','longname','sector','industry',\n",
    "        'marketcap','ebitda', 'revenuegrowth', 'city', 'state', 'country',   \n",
    "        'fulltimeemployees', 'longbusinesssummary', 'weight', 'ar_2015', 'ar_2016', 'ar_2017', 'ar_2018', 'ar_2019',\n",
    "        'ar_2020', 'ar_2021', 'ar_2022', 'ar_2023', 'ar_2024', 'currentprice']"
   ]
  },
  {
   "cell_type": "code",
   "execution_count": 32,
   "metadata": {},
   "outputs": [],
   "source": [
    "definitive = definitive[cols]"
   ]
  },
  {
   "cell_type": "code",
   "execution_count": null,
   "metadata": {},
   "outputs": [],
   "source": [
    "df.nunique()"
   ]
  },
  {
   "cell_type": "code",
   "execution_count": null,
   "metadata": {},
   "outputs": [],
   "source": [
    "df.sector.value_counts()"
   ]
  },
  {
   "cell_type": "markdown",
   "metadata": {},
   "source": [
    "<h2 style=\"color: #9370DB;\"> 03 | EDA (Exploratory Data Analysis) </h2>"
   ]
  },
  {
   "cell_type": "markdown",
   "metadata": {},
   "source": [
    "<h3 style=\"color: #4169E1;\"> Optional | Selecting Numerical </h3>"
   ]
  },
  {
   "cell_type": "code",
   "execution_count": null,
   "metadata": {},
   "outputs": [],
   "source": [
    "cat = definitive.select_dtypes(exclude='number')\n",
    "cat.head(5)"
   ]
  },
  {
   "cell_type": "code",
   "execution_count": null,
   "metadata": {},
   "outputs": [],
   "source": [
    "num = definitive.select_dtypes(include='number')\n",
    "num.head(5)"
   ]
  },
  {
   "cell_type": "markdown",
   "metadata": {},
   "source": [
    "<h3 style=\"color: #4169E1;\">3.1 | Descriptive Statistics </h3>"
   ]
  },
  {
   "cell_type": "code",
   "execution_count": null,
   "metadata": {},
   "outputs": [],
   "source": [
    "definitive.describe()"
   ]
  },
  {
   "cell_type": "code",
   "execution_count": null,
   "metadata": {},
   "outputs": [],
   "source": [
    "frequ = cat.sector.value_counts()\n",
    "frequ"
   ]
  },
  {
   "cell_type": "code",
   "execution_count": null,
   "metadata": {},
   "outputs": [],
   "source": [
    "table = cat.sector.value_counts(normalize=True).round(2)\n",
    "table"
   ]
  },
  {
   "cell_type": "code",
   "execution_count": null,
   "metadata": {},
   "outputs": [],
   "source": [
    "frequency_table = pd.concat([frequ,table], axis = 1)\n",
    "frequency_table\n"
   ]
  },
  {
   "cell_type": "code",
   "execution_count": null,
   "metadata": {},
   "outputs": [],
   "source": []
  },
  {
   "cell_type": "markdown",
   "metadata": {},
   "source": [
    "<h3 style=\"color: #4169E1;\"> 3.2 | Checking Distributions</h3>"
   ]
  },
  {
   "cell_type": "code",
   "execution_count": null,
   "metadata": {},
   "outputs": [],
   "source": [
    "color = '#9370DB'\n",
    "\n",
    "nrows, ncols = 5, 4 \n",
    "\n",
    "fig, axes = plt.subplots(nrows=nrows, ncols=ncols, figsize=(20, 16))\n",
    "\n",
    "axes = axes.flatten()\n",
    "\n",
    "for i, ax in enumerate(axes):\n",
    "    if i >= len(num.columns):\n",
    "        ax.set_visible(False)  # hide unesed plots\n",
    "        continue\n",
    "    ax.hist(num.iloc[:, i], bins=30, color=color, edgecolor='black')\n",
    "    ax.set_title(num.columns[i])\n",
    "\n",
    "plt.tight_layout()\n",
    "plt.show()"
   ]
  },
  {
   "cell_type": "markdown",
   "metadata": {},
   "source": [
    "<h3 style=\"color: #4169E1;\"> 3.3 | Checking our target distribution</h3>"
   ]
  },
  {
   "cell_type": "code",
   "execution_count": null,
   "metadata": {},
   "outputs": [],
   "source": [
    "# Without the filter 650.000 and taking out the outliers. \n",
    "sns.histplot(definitive[\"currentprice\"], color=color, kde=True);"
   ]
  },
  {
   "cell_type": "code",
   "execution_count": null,
   "metadata": {},
   "outputs": [],
   "source": [
    "#pearson \n",
    "num.corrwith(definitive['currentprice']).sort_values(ascending=False)"
   ]
  },
  {
   "cell_type": "code",
   "execution_count": null,
   "metadata": {},
   "outputs": [],
   "source": [
    "#Spearman\n",
    "num.corrwith(df['currentprice'], method='spearman').sort_values(ascending=False)[:5]"
   ]
  },
  {
   "cell_type": "code",
   "execution_count": null,
   "metadata": {},
   "outputs": [],
   "source": []
  },
  {
   "cell_type": "markdown",
   "metadata": {},
   "source": [
    "<h3 style=\"color: #4169E1;\">3.4 | Checking Outliers </h3>"
   ]
  },
  {
   "cell_type": "code",
   "execution_count": null,
   "metadata": {},
   "outputs": [],
   "source": [
    "color = '#9370DB'\n",
    "\n",
    "# grid size\n",
    "nrows, ncols = 5, 4 \n",
    "\n",
    "fig, axes = plt.subplots(nrows=nrows, ncols=ncols, figsize=(20, 16))\n",
    "\n",
    "axes = axes.flatten()\n",
    "\n",
    "for i, ax in enumerate(axes):\n",
    "    if i >= len(num.columns):\n",
    "        ax.set_visible(False)\n",
    "        continue\n",
    "    ax.boxplot(num.iloc[:, i].dropna(), vert=False, patch_artist=True, \n",
    "               boxprops=dict(facecolor=color, color='black'), \n",
    "               medianprops=dict(color='yellow'), whiskerprops=dict(color='black'), \n",
    "               capprops=dict(color='black'), flierprops=dict(marker='o', color='red', markersize=5))\n",
    "    ax.set_title(num.columns[i], fontsize=10)\n",
    "    ax.tick_params(axis='x', labelsize=8)\n",
    "\n",
    "plt.tight_layout()\n",
    "plt.show()"
   ]
  },
  {
   "cell_type": "markdown",
   "metadata": {},
   "source": [
    "<h3 style=\"color: #4169E1;\">3.5 | Looking for Correlations </h3>"
   ]
  },
  {
   "cell_type": "code",
   "execution_count": null,
   "metadata": {},
   "outputs": [],
   "source": [
    "num_corr = num.corr()\n",
    "num_corr"
   ]
  },
  {
   "cell_type": "code",
   "execution_count": null,
   "metadata": {},
   "outputs": [],
   "source": [
    "# Correlation Matrix-Heatmap Plot\n",
    "mask = np.zeros_like(num_corr)\n",
    "mask[np.triu_indices_from(mask)] = True \n",
    "f, ax = plt.subplots(figsize=(20, 10))\n",
    "sns.set(font_scale=1.5)\n",
    "\n",
    "ax = sns.heatmap(num_corr, mask=mask, annot=True, annot_kws={\"size\": 12}, linewidths=.5, cmap=\"BuPu\", fmt=\".2f\", ax=ax) # round to 2 decimal places\n",
    "ax.set_title(\"Correlation Heatmap\", fontsize=20) "
   ]
  },
  {
   "cell_type": "code",
   "execution_count": null,
   "metadata": {},
   "outputs": [],
   "source": [
    "# Plotting scatter plots for each numerical column against 'currentprice' to visualize their relationships\n",
    "for col in num.columns:\n",
    "    plt.figure(figsize=(5, 5))\n",
    "    plt.title('Scatter plot of price vs ' + col)\n",
    "    sns.scatterplot(data=definitive, x=col, y='currentprice')\n",
    "    plt.show()"
   ]
  },
  {
   "cell_type": "markdown",
   "metadata": {},
   "source": [
    "We will use **one-way ANOVA** to determine if there is a statistically significant difference in **stock price** based on **sector**.\n",
    "\n",
    "#### Define Hypotheses\n",
    "- **Null Hypothesis (H₀)**: There is no difference in mean stock prices between sectors such as at **Technolgies**, **Industrials**, and **Finance** companies.\n",
    "- **Alternative Hypothesis (H₁)**: At least one group mean is different."
   ]
  },
  {
   "cell_type": "code",
   "execution_count": null,
   "metadata": {},
   "outputs": [],
   "source": [
    "# Extract salaries for Data Scientists by company size\n",
    "df_small = df[(df[\"job_title\"] == \"Data Scientist\") & (df[\"company_size\"] == \"Small\")][\"salary_in_usd\"]\n",
    "df_medium = df[(df[\"job_title\"] == \"Data Scientist\") & (df[\"company_size\"] == \"Medium\")][\"salary_in_usd\"]\n",
    "df_large = df[(df[\"job_title\"] == \"Data Scientist\") & (df[\"company_size\"] == \"Large\")][\"salary_in_usd\"]"
   ]
  },
  {
   "cell_type": "code",
   "execution_count": null,
   "metadata": {},
   "outputs": [],
   "source": [
    "# Perform One-Way ANOVA\n",
    "f_stat, p_value = st.f_oneway(df_small, df_medium, df_large)\n",
    "print(f\"F-Statistic: {f_stat:.2f}\")\n",
    "print(f\"P-Value: {p_value:.4f}\")\n",
    "print()\n",
    "\n",
    "# Significance level\n",
    "alpha = 0.05\n",
    "\n",
    "# Decision-Making\n",
    "if p_value > alpha:\n",
    "    print(\"Fail to Reject the Null Hypothesis: Company size has no significant impact on data scientist salaries.\")\n",
    "else:\n",
    "    print(\"Reject the Null Hypothesis: There is a significant difference in salaries based on company size.\")"
   ]
  },
  {
   "cell_type": "markdown",
   "metadata": {},
   "source": [
    "<h2 style=\"color: #9370DB;\"> 04 | Data Processing </h2>"
   ]
  },
  {
   "cell_type": "markdown",
   "metadata": {},
   "source": [
    "<h3 style=\"color: #4169E1;\"> 4.1 | X-Y Split</h3>"
   ]
  },
  {
   "cell_type": "markdown",
   "metadata": {},
   "source": [
    "<h3 style=\"color: #4169E1;\"> 4.2 | Selecting the Model</h3>"
   ]
  },
  {
   "cell_type": "markdown",
   "metadata": {},
   "source": [
    "<h4 style=\"color: #00BFFF;\"> 4.2.1 | Selecting Model: Linear Regression </h4>"
   ]
  },
  {
   "cell_type": "markdown",
   "metadata": {},
   "source": [
    "<h4 style=\"color: #00BFFF;\"> 4.2.2 | Selecting Model: Ridge Regression </h4>"
   ]
  },
  {
   "cell_type": "markdown",
   "metadata": {},
   "source": [
    "<h4 style=\"color: #00BFFF;\"> 4.2.3 | Selecting Model: Lasso Regression </h4>"
   ]
  },
  {
   "cell_type": "markdown",
   "metadata": {},
   "source": [
    "<h4 style=\"color: #00BFFF;\"> 4.2.4 | Selecting Model: Decision Tree Regression </h4>"
   ]
  },
  {
   "cell_type": "markdown",
   "metadata": {},
   "source": [
    "<h4 style=\"color: #00BFFF;\"> 4.2.5 | Selecting Model: KNN Regression </h4>"
   ]
  },
  {
   "cell_type": "markdown",
   "metadata": {},
   "source": [
    "<h4 style=\"color: #00BFFF;\"> 4.2.6 | Selecting Model: XGBoost Regression </h4>"
   ]
  },
  {
   "cell_type": "markdown",
   "metadata": {},
   "source": [
    "<h3 style=\"color: #4169E1;\"> 4.3 | Final Comparision</h3>"
   ]
  },
  {
   "cell_type": "markdown",
   "metadata": {},
   "source": [
    "<h2 style=\"color: #9370DB;\"> 05 | Improving Model </h2>"
   ]
  },
  {
   "cell_type": "markdown",
   "metadata": {},
   "source": [
    "<h3 style=\"color: #4169E1;\"> 5.1 | Normalization with MinMaxScaler</h3>"
   ]
  },
  {
   "cell_type": "markdown",
   "metadata": {},
   "source": [
    "<h3 style=\"color: #4169E1;\"> 5.2 | Standardization with StandardScaler</h3>"
   ]
  },
  {
   "cell_type": "markdown",
   "metadata": {},
   "source": [
    "<h3 style=\"color: #4169E1;\"> 5.3 | Normzalization with Long Transform</h3>"
   ]
  },
  {
   "cell_type": "markdown",
   "metadata": {},
   "source": [
    "<h3 style=\"color: #4169E1;\"> 5.4 | Feature Engineering </h3>"
   ]
  },
  {
   "cell_type": "markdown",
   "metadata": {},
   "source": [
    "<h2 style=\"color: #9370DB;\"> 06 | Reporting </h2>"
   ]
  }
 ],
 "metadata": {
  "kernelspec": {
   "display_name": "base",
   "language": "python",
   "name": "python3"
  },
  "language_info": {
   "codemirror_mode": {
    "name": "ipython",
    "version": 3
   },
   "file_extension": ".py",
   "mimetype": "text/x-python",
   "name": "python",
   "nbconvert_exporter": "python",
   "pygments_lexer": "ipython3",
   "version": "3.12.4"
  }
 },
 "nbformat": 4,
 "nbformat_minor": 2
}
